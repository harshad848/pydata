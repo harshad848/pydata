{
 "cells": [
  {
   "cell_type": "markdown",
   "id": "b4a2f169",
   "metadata": {},
   "source": [
    "# Data engineering pipeline\n",
    "\n",
    "# Data Collection\n",
    "\n",
    "# Population and sample"
   ]
  },
  {
   "cell_type": "markdown",
   "id": "24aa7a61",
   "metadata": {},
   "source": [
    "https://byjus.com/maths/population-and-sample/"
   ]
  },
  {
   "cell_type": "markdown",
   "id": "c77baf0d",
   "metadata": {},
   "source": [
    "# What is Population?\n"
   ]
  },
  {
   "cell_type": "markdown",
   "id": "41a69a82",
   "metadata": {},
   "source": [
    "In statistics, population is the entire set of items from which you draw data for a statistical study. It can be a group of individuals, a set of items, etc. It makes up the data pool for a study.\n",
    "\n"
   ]
  },
  {
   "cell_type": "markdown",
   "id": "276d7c6f",
   "metadata": {},
   "source": [
    "# What is a Sample?\n"
   ]
  },
  {
   "cell_type": "markdown",
   "id": "a4c6daa3",
   "metadata": {},
   "source": [
    "A sample is defined as a smaller and more manageable representation of a larger group. A subset of a larger population that contains characteristics of that population. A sample is used in statistical testing when the population size is too large for all members or observations to be included in the test.\n",
    "\n"
   ]
  },
  {
   "cell_type": "markdown",
   "id": "b41c8e72",
   "metadata": {},
   "source": [
    "# Basically, there are two types of sampling. They are:\n"
   ]
  },
  {
   "cell_type": "markdown",
   "id": "e38f75d0",
   "metadata": {},
   "source": [
    "1.Probability sampling 2.Non-probability sampling\n",
    "\n"
   ]
  },
  {
   "cell_type": "markdown",
   "id": "d2dc6979",
   "metadata": {},
   "source": [
    "# Probability Sampling\n"
   ]
  },
  {
   "cell_type": "markdown",
   "id": "3dea9406",
   "metadata": {},
   "source": [
    "In probability sampling, the population units cannot be selected at the discretion of the researcher. This can be dealt with following certain procedures which will ensure that every unit of the population consists of one fixed probability being included in the sample. Such a method is also called random sampling. Some of the techniques used for probability sampling are:\n",
    "\n"
   ]
  },
  {
   "cell_type": "markdown",
   "id": "730403a2",
   "metadata": {},
   "source": [
    "1.Simple random sampling 2.Cluster sampling 3.Stratified Sampling 4.Disproportionate sampling 5.Proportionate sampling 6.Optimum allocation stratified sampling 7.Multi-stage sampling"
   ]
  },
  {
   "cell_type": "markdown",
   "id": "23a393a9",
   "metadata": {},
   "source": [
    "# Non Probability Sampling\n"
   ]
  },
  {
   "cell_type": "markdown",
   "id": "608de714",
   "metadata": {},
   "source": [
    "In non-probability sampling, the population units can be selected at the discretion of the researcher. Those samples will use the human judgements for selecting units and has no theoretical basis for estimating the characteristics of the population. Some of the techniques used for non-probability sampling are\n",
    "\n"
   ]
  },
  {
   "cell_type": "markdown",
   "id": "2670c918",
   "metadata": {},
   "source": [
    "Quota sampling Judgement sampling Purposive sampling\n",
    "\n"
   ]
  },
  {
   "cell_type": "markdown",
   "id": "d154cb93",
   "metadata": {},
   "source": [
    "# Population and Sample Examples\n"
   ]
  },
  {
   "cell_type": "markdown",
   "id": "de9ef17c",
   "metadata": {},
   "source": [
    "All the people who have the ID proofs is the population and a group of people who only have voter id with them is the sample. All the students in the class are population whereas the top 10 students in the class are the sample. All the members of the parliament is population and the female candidates present there is the sample.\n",
    "\n"
   ]
  },
  {
   "cell_type": "markdown",
   "id": "20bbae40",
   "metadata": {},
   "source": [
    "# Types of data\n"
   ]
  },
  {
   "cell_type": "markdown",
   "id": "cf84390a",
   "metadata": {},
   "source": [
    "# 1. Data type\n"
   ]
  },
  {
   "cell_type": "markdown",
   "id": "8a08b5c4",
   "metadata": {},
   "source": [
    "# type 1 (cross sectional, time series)\n"
   ]
  },
  {
   "cell_type": "markdown",
   "id": "883be250",
   "metadata": {},
   "source": [
    "Cross-sectional data refer to observations of many different individuals (subjects, objects) at a given time, each observation belonging to a different individual. Example: gross annual income for each of 1000 randomly chosen households in India for the year 2000.\n",
    "\n"
   ]
  },
  {
   "cell_type": "markdown",
   "id": "ba75680c",
   "metadata": {},
   "source": [
    "A time series data is the set of measurements taking place in a constant interval of time, here time acts as independent variable and the objective ( to study changes in a characteristics) is dependent variables. Example: Sales on daily basis\n",
    "\n"
   ]
  },
  {
   "cell_type": "markdown",
   "id": "39a72a79",
   "metadata": {},
   "source": [
    "# Time series data: A set of observations contains values, taken by variable at different times.\n"
   ]
  },
  {
   "cell_type": "markdown",
   "id": "8b697df7",
   "metadata": {},
   "source": [
    "# Cross-sectional data: Data values of one or more variables, gathered at the same time-point.\n"
   ]
  },
  {
   "cell_type": "markdown",
   "id": "4b6e507d",
   "metadata": {},
   "source": [
    "# type 2 (univariate, multivariate)\n"
   ]
  },
  {
   "cell_type": "markdown",
   "id": "e950f2f3",
   "metadata": {},
   "source": [
    "univariate: Univariate is used to describe a type of data which consists of observations on only a single characteristic or attribute. Example: salaries of an employee in Company.\n",
    "\n"
   ]
  },
  {
   "cell_type": "markdown",
   "id": "e370074f",
   "metadata": {},
   "source": [
    "multivariate: multivariate is used to describe a type of data which consists of observations on two or more characteristic or attribute.Examples: name,Department,YoE,Salary of an employee in Company.\n",
    "\n"
   ]
  },
  {
   "cell_type": "markdown",
   "id": "af4bcd53",
   "metadata": {},
   "source": [
    "# 2. Variable types (categorical, ordinal, ratio, interval)"
   ]
  },
  {
   "cell_type": "markdown",
   "id": "a4bff684",
   "metadata": {},
   "source": [
    "Categorical: Categorical variables are usually represented as ‘strings’ or ‘categories’ and are finite in number. Examples:1.The city where a person lives: Delhi, Mumbai, Ahmedabad, Bangalore, etc.2.The department a person works in: Finance, Human resources, IT, Production.\n",
    "\n"
   ]
  },
  {
   "cell_type": "markdown",
   "id": "b0dc2d30",
   "metadata": {},
   "source": [
    "Nominal Data: Nominal Data can not be place in any order or quantitative value. Example: Gender (Male, Female, Others)\n",
    "\n"
   ]
  },
  {
   "cell_type": "markdown",
   "id": "57dec4c5",
   "metadata": {},
   "source": [
    "Ordinal data: Ordinal data have natural ordering where a number is present in some kind of order by their position on the scale. Example: Pclass (First Class, Second Class, Third Class)\n",
    "\n"
   ]
  },
  {
   "cell_type": "markdown",
   "id": "7680aa32",
   "metadata": {},
   "source": [
    "Quantitative Data- Quantitative data can be expressed in numerical values, making it countable and including statistical data analysis. These kinds of data are also known as Numerical data. Example: Age of a person.\n",
    "\n"
   ]
  },
  {
   "cell_type": "markdown",
   "id": "724090b7",
   "metadata": {},
   "source": [
    "Discrete Data: The discrete data contain the values that fall under integers or whole numbers. These data can’t be broken into decimal or fraction values. Example: The total number of students in a class.\n",
    "\n"
   ]
  },
  {
   "cell_type": "markdown",
   "id": "386bc5db",
   "metadata": {},
   "source": [
    "Continuous data: Continuous data are in the form of fractional numbers. Continuous data represents information that can be divided into smaller levels. The continuous variable can take any value within a range. Example: the height of a person, the length of an object.\n",
    "\n"
   ]
  },
  {
   "cell_type": "markdown",
   "id": "4ae6e396",
   "metadata": {},
   "source": [
    "Ratio data: Ratio data is a form of quantitative (numeric) data. It measures variables on a continuous scale, with an equal distance between adjacent values. ratio data is all about measuring continuous variables on equidistant scales. ratio data can never have a negative value. Examples: Height (5ft. 8in., 5ft. 9in., 5ft. 10in., 5ft. 11in., 6ft. 0in. etc.), Price of item (0, 5, 10, 15, 20, 30, etc.)\n",
    "\n"
   ]
  },
  {
   "cell_type": "markdown",
   "id": "80571570",
   "metadata": {},
   "source": [
    "interval: Interval data is a type of quantitative (numerical) data. It groups variables into categories and always uses some kind of ordered scale. Furthermore, interval values are always ordered and separated using an equal measure of distance.\n",
    "\n"
   ]
  },
  {
   "cell_type": "markdown",
   "id": "10b27cff",
   "metadata": {},
   "source": [
    "# Exercise: consider the Titanic dataset identify all tpes of datas.\n"
   ]
  },
  {
   "cell_type": "markdown",
   "id": "2d3215d0",
   "metadata": {},
   "source": [
    "# Key terminologies in Statistics\n"
   ]
  },
  {
   "cell_type": "markdown",
   "id": "b9134a62",
   "metadata": {},
   "source": [
    "# Probability (Basic concepts)\n"
   ]
  },
  {
   "cell_type": "markdown",
   "id": "6bb6f8af",
   "metadata": {},
   "source": [
    "# Probability: Probability tells how likely is the event to occur. The value of Probability always lies between 0 to 1. It is the core concept as well as a primary prerequisite to understanding the ML models and their applications.\n"
   ]
  },
  {
   "cell_type": "markdown",
   "id": "177cf8d2",
   "metadata": {},
   "source": [
    "# Probability can be calculated by the number of times the event occurs divided by the total number of possible outcomes. Let's suppose we tossed a coin, then the probability of getting head as a possible outcome can be calculated as below formula:\n"
   ]
  },
  {
   "cell_type": "markdown",
   "id": "f3374d92",
   "metadata": {},
   "source": [
    "# P (H) = Number of ways to head occur/ total number of possible outcomes\n"
   ]
  },
  {
   "cell_type": "markdown",
   "id": "e1f06003",
   "metadata": {},
   "source": [
    "# P (H) = ½\n"
   ]
  },
  {
   "cell_type": "markdown",
   "id": "7a67a937",
   "metadata": {},
   "source": [
    "# P (H) = 0.5\n"
   ]
  },
  {
   "cell_type": "markdown",
   "id": "b72277ce",
   "metadata": {},
   "source": [
    "# Where;"
   ]
  },
  {
   "cell_type": "markdown",
   "id": "5429b59b",
   "metadata": {},
   "source": [
    "# P (H) = Probability of occurring Head as outcome while tossing a coin.\n"
   ]
  },
  {
   "cell_type": "markdown",
   "id": "4b38e54b",
   "metadata": {},
   "source": [
    "# Conditional probability\n"
   ]
  },
  {
   "cell_type": "markdown",
   "id": "f01b7e04",
   "metadata": {},
   "source": [
    "# Conditional Probability:It is given by the Probability of event A given that event B occurred.\n"
   ]
  },
  {
   "cell_type": "markdown",
   "id": "d7ce31af",
   "metadata": {},
   "source": [
    "# The Probability of an event A conditioned on an event B is denoted and defined as;\n"
   ]
  },
  {
   "cell_type": "markdown",
   "id": "5e534817",
   "metadata": {},
   "source": [
    "# P(A|B) = P(A∩B)/P(B)\n"
   ]
  },
  {
   "cell_type": "markdown",
   "id": "b6791412",
   "metadata": {},
   "source": [
    "# Similarly, P(B|A) = P(A ∩ B)/ P(A) . We can write the joint Probability of as A and B as P(A ∩ B)= p(A).P(B|A), which means: \"The chance of both things happening is the chance that the first one happens, and then the second one is given when the first thing happened.\"\n"
   ]
  },
  {
   "cell_type": "markdown",
   "id": "23e794a4",
   "metadata": {},
   "source": [
    "# Joint Probability:It tells the Probability of simultaneously occurring two random events.\n"
   ]
  },
  {
   "cell_type": "markdown",
   "id": "4d86ac3f",
   "metadata": {},
   "source": [
    "# P(A ∩ B) = P(A). P(B)\n"
   ]
  },
  {
   "cell_type": "markdown",
   "id": "4366033b",
   "metadata": {},
   "source": [
    "# Where;\n"
   ]
  },
  {
   "cell_type": "markdown",
   "id": "90d58ba3",
   "metadata": {},
   "source": [
    "# P(A ∩ B) = Probability of occurring events A and B both.\n",
    "# P (A) = Probability of event A\n",
    "# P (B) = Probability of event B\n"
   ]
  },
  {
   "cell_type": "markdown",
   "id": "a2df109b",
   "metadata": {},
   "source": [
    "# Bayes’ Theorem\n"
   ]
  },
  {
   "cell_type": "markdown",
   "id": "12b5ac77",
   "metadata": {},
   "source": [
    "https://www.javatpoint.com/bayes-theorem-in-machine-learning"
   ]
  },
  {
   "cell_type": "markdown",
   "id": "3def905f",
   "metadata": {},
   "source": [
    "# Probability Distributions\n"
   ]
  },
  {
   "cell_type": "markdown",
   "id": "7ccd66f1",
   "metadata": {},
   "source": [
    "1.Discrete\n",
    "\n",
    "2.Continuous\n",
    "\n",
    "3.Central Limit Theorem\n",
    "\n",
    "https://www.knowledgehut.com/blog/data-science/probability-distribution-types"
   ]
  },
  {
   "cell_type": "code",
   "execution_count": null,
   "id": "1d126a91",
   "metadata": {},
   "outputs": [],
   "source": []
  }
 ],
 "metadata": {
  "kernelspec": {
   "display_name": "Python 3 (ipykernel)",
   "language": "python",
   "name": "python3"
  },
  "language_info": {
   "codemirror_mode": {
    "name": "ipython",
    "version": 3
   },
   "file_extension": ".py",
   "mimetype": "text/x-python",
   "name": "python",
   "nbconvert_exporter": "python",
   "pygments_lexer": "ipython3",
   "version": "3.9.12"
  }
 },
 "nbformat": 4,
 "nbformat_minor": 5
}
