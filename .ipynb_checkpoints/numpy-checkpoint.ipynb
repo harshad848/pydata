{
 "cells": [
  {
   "cell_type": "code",
   "execution_count": 1,
   "id": "474c64c2",
   "metadata": {},
   "outputs": [
    {
     "data": {
      "text/plain": [
       "'1.21.5'"
      ]
     },
     "execution_count": 1,
     "metadata": {},
     "output_type": "execute_result"
    }
   ],
   "source": [
    "import numpy as np\n",
    "np.__version__"
   ]
  },
  {
   "cell_type": "markdown",
   "id": "3c7c0199",
   "metadata": {},
   "source": [
    "# CREATE 1d ARRAY USING ARRAY FUNCTION"
   ]
  },
  {
   "cell_type": "code",
   "execution_count": 2,
   "id": "df75f654",
   "metadata": {},
   "outputs": [
    {
     "name": "stdout",
     "output_type": "stream",
     "text": [
      "[1 2 3 4 5]\n",
      "int32\n",
      "(5,)\n"
     ]
    }
   ],
   "source": [
    "import numpy as np\n",
    "a = np.array([1,2,3,4,5])\n",
    "print(a)\n",
    "print(a.dtype)\n",
    "print(a.shape)"
   ]
  },
  {
   "cell_type": "markdown",
   "id": "fb4e0eb4",
   "metadata": {},
   "source": [
    "# Create 1d array using arange function"
   ]
  },
  {
   "cell_type": "code",
   "execution_count": 3,
   "id": "6be5c977",
   "metadata": {},
   "outputs": [
    {
     "name": "stdout",
     "output_type": "stream",
     "text": [
      "int32\n",
      "(10,)\n"
     ]
    }
   ],
   "source": [
    "arr =np.arange(10)\n",
    "arr\n",
    "print(arr.dtype)\n",
    "print(arr.shape)"
   ]
  },
  {
   "cell_type": "markdown",
   "id": "ef9376a3",
   "metadata": {},
   "source": [
    "# CREATE A 2D ARRAY USING ARRAY"
   ]
  },
  {
   "cell_type": "code",
   "execution_count": 4,
   "id": "1422a4f8",
   "metadata": {},
   "outputs": [
    {
     "name": "stdout",
     "output_type": "stream",
     "text": [
      "[[1 2 3]\n",
      " [4 5 6]]\n",
      "int32\n",
      "(2, 3)\n"
     ]
    }
   ],
   "source": [
    "b = np.array([[1,2,3],[4,5,6]])\n",
    "print(b)\n",
    "print(b.dtype)\n",
    "print(b.shape)"
   ]
  },
  {
   "cell_type": "markdown",
   "id": "b41e181c",
   "metadata": {},
   "source": [
    "# CREATE 2d ARRAY USING ARANGE FUNCTION"
   ]
  },
  {
   "cell_type": "code",
   "execution_count": 5,
   "id": "cf8e2af3",
   "metadata": {},
   "outputs": [
    {
     "name": "stdout",
     "output_type": "stream",
     "text": [
      "[[ 0  1]\n",
      " [ 2  3]\n",
      " [ 4  5]\n",
      " [ 6  7]\n",
      " [ 8  9]\n",
      " [10 11]]\n",
      "int32\n",
      "(6, 2)\n"
     ]
    }
   ],
   "source": [
    "b = np.arange(12).reshape(6,2)\n",
    "print(b)\n",
    "print(b.dtype)\n",
    "print(b.shape)"
   ]
  },
  {
   "cell_type": "markdown",
   "id": "335bd35a",
   "metadata": {},
   "source": [
    "# CREATE 3D ARRAY USING ARRAY FUNCTION"
   ]
  },
  {
   "cell_type": "code",
   "execution_count": 6,
   "id": "68f38db9",
   "metadata": {},
   "outputs": [
    {
     "name": "stdout",
     "output_type": "stream",
     "text": [
      "[[[1 2 3]\n",
      "  [3 2 1]]\n",
      "\n",
      " [[4 5 6]\n",
      "  [6 5 4]]\n",
      "\n",
      " [[7 8 9]\n",
      "  [9 8 6]]]\n",
      "int32\n",
      "(3, 2, 3)\n"
     ]
    }
   ],
   "source": [
    "b = np.array(\n",
    "[\n",
    "    [[1,2,3],[3,2,1]],\n",
    "    [[4,5,6],[6,5,4]],\n",
    "    [[7,8,9],[9,8,6]]\n",
    "]\n",
    ")\n",
    "print(b)\n",
    "print(b.dtype)\n",
    "print(b.shape)"
   ]
  },
  {
   "cell_type": "markdown",
   "id": "901eabf2",
   "metadata": {},
   "source": [
    "# CREATE 3D ARRAY USING ARANGE FUNCTION"
   ]
  },
  {
   "cell_type": "code",
   "execution_count": 7,
   "id": "4a80973e",
   "metadata": {},
   "outputs": [
    {
     "name": "stdout",
     "output_type": "stream",
     "text": [
      "[[[ 0  1  2]\n",
      "  [ 3  4  5]]\n",
      "\n",
      " [[ 6  7  8]\n",
      "  [ 9 10 11]]\n",
      "\n",
      " [[12 13 14]\n",
      "  [15 16 17]]]\n",
      "int32\n",
      "(3, 2, 3)\n",
      "18\n"
     ]
    }
   ],
   "source": [
    "b =np.arange(18).reshape(3,2,3)\n",
    "print(b)\n",
    "print(b.dtype)\n",
    "print(b.shape)\n",
    "print(b.size)"
   ]
  },
  {
   "cell_type": "markdown",
   "id": "df3bf503",
   "metadata": {},
   "source": [
    "# CREATE ARRAY USING ZEROS"
   ]
  },
  {
   "cell_type": "code",
   "execution_count": 8,
   "id": "be466eab",
   "metadata": {},
   "outputs": [
    {
     "name": "stdout",
     "output_type": "stream",
     "text": [
      "[[0. 0. 0. 0. 0.]\n",
      " [0. 0. 0. 0. 0.]]\n",
      "float64\n",
      "(2, 5)\n",
      "10\n"
     ]
    }
   ],
   "source": [
    "b = np.zeros(10).reshape(2,5)\n",
    "print(b)\n",
    "print(b.dtype)\n",
    "print(b.shape)\n",
    "print(b.size)"
   ]
  },
  {
   "cell_type": "markdown",
   "id": "dd4f22e8",
   "metadata": {},
   "source": [
    "# CREATE ARRAY USING ONES"
   ]
  },
  {
   "cell_type": "code",
   "execution_count": 9,
   "id": "b6c9672f",
   "metadata": {},
   "outputs": [
    {
     "name": "stdout",
     "output_type": "stream",
     "text": [
      "[[1. 1. 1.]\n",
      " [1. 1. 1.]]\n",
      "float64\n",
      "(2, 3)\n",
      "6\n"
     ]
    }
   ],
   "source": [
    "b = np.ones(6).reshape(2,3)\n",
    "print(b)\n",
    "print(b.dtype)\n",
    "print(b.shape)\n",
    "print(b.size)"
   ]
  },
  {
   "cell_type": "markdown",
   "id": "f6a6ddd1",
   "metadata": {},
   "source": [
    "# CREATE ONES USING 2D ARRAY\n"
   ]
  },
  {
   "cell_type": "code",
   "execution_count": 10,
   "id": "69c5ff81",
   "metadata": {},
   "outputs": [
    {
     "name": "stdout",
     "output_type": "stream",
     "text": [
      "[[1 1]\n",
      " [1 1]\n",
      " [1 1]\n",
      " [1 1]\n",
      " [1 1]\n",
      " [1 1]]\n"
     ]
    }
   ],
   "source": [
    "b = np.ones((6,2),dtype=np.int32)\n",
    "print(b)"
   ]
  },
  {
   "cell_type": "markdown",
   "id": "9b11d25f",
   "metadata": {},
   "source": [
    "# CREATE ARRAY OF ONES USING 3D"
   ]
  },
  {
   "cell_type": "code",
   "execution_count": 11,
   "id": "2920e469",
   "metadata": {},
   "outputs": [
    {
     "name": "stdout",
     "output_type": "stream",
     "text": [
      "[[[1 1]\n",
      "  [1 1]\n",
      "  [1 1]]\n",
      "\n",
      " [[1 1]\n",
      "  [1 1]\n",
      "  [1 1]]\n",
      "\n",
      " [[1 1]\n",
      "  [1 1]\n",
      "  [1 1]]\n",
      "\n",
      " [[1 1]\n",
      "  [1 1]\n",
      "  [1 1]]\n",
      "\n",
      " [[1 1]\n",
      "  [1 1]\n",
      "  [1 1]]\n",
      "\n",
      " [[1 1]\n",
      "  [1 1]\n",
      "  [1 1]]]\n",
      "int32\n",
      "(6, 3, 2)\n"
     ]
    }
   ],
   "source": [
    "b = np.ones((6,3,2),dtype=np.int32)\n",
    "print(b)\n",
    "print(b.dtype)\n",
    "print(b.shape)"
   ]
  },
  {
   "cell_type": "markdown",
   "id": "7f781d92",
   "metadata": {},
   "source": [
    "# CREATE AN ARRAY WITH RANDOM NUMBERS USING 1d ARRAY"
   ]
  },
  {
   "cell_type": "code",
   "execution_count": 12,
   "id": "c920275e",
   "metadata": {},
   "outputs": [
    {
     "name": "stdout",
     "output_type": "stream",
     "text": [
      "[1 1 1 1 4]\n",
      "int32\n",
      "(5,)\n"
     ]
    }
   ],
   "source": [
    "b =np.random.randint(1,5,size=(5))\n",
    "print(b)\n",
    "print(b.dtype)\n",
    "print(b.shape)"
   ]
  },
  {
   "cell_type": "markdown",
   "id": "b20e71e2",
   "metadata": {},
   "source": [
    "# CREATE AN ARRAY USING RANDOM NUMBERS USING 2D ARRAY "
   ]
  },
  {
   "cell_type": "code",
   "execution_count": 13,
   "id": "de7ea0f3",
   "metadata": {},
   "outputs": [
    {
     "name": "stdout",
     "output_type": "stream",
     "text": [
      "[[2 3 5]\n",
      " [3 5 2]\n",
      " [4 4 6]]\n",
      "int32\n",
      "(3, 3)\n"
     ]
    }
   ],
   "source": [
    "b =np.random.randint(2,7,size=(3,3))\n",
    "print(b)\n",
    "print(b.dtype)\n",
    "print(b.shape)"
   ]
  },
  {
   "cell_type": "markdown",
   "id": "16ca62c8",
   "metadata": {},
   "source": [
    "# CREATE AN ARRAY WITH RANDOM NUMBERS USING 3D ARRAY"
   ]
  },
  {
   "cell_type": "code",
   "execution_count": 14,
   "id": "886b3348",
   "metadata": {},
   "outputs": [
    {
     "name": "stdout",
     "output_type": "stream",
     "text": [
      "[[[18 16 13]\n",
      "  [10 18 17]\n",
      "  [11 19 10]]\n",
      "\n",
      " [[15 13 19]\n",
      "  [17 16 10]\n",
      "  [19 18 13]]\n",
      "\n",
      " [[12 13 19]\n",
      "  [11 19 13]\n",
      "  [12 18 14]]]\n",
      "int32\n",
      "(3, 3, 3)\n"
     ]
    }
   ],
   "source": [
    "b =np.random.randint(10,20,size=(3,3,3))\n",
    "print(b)\n",
    "print(b.dtype)\n",
    "print(b.shape)"
   ]
  },
  {
   "cell_type": "markdown",
   "id": "aa2010c0",
   "metadata": {},
   "source": [
    "# CREATE ARRAY WITH SINGLE LOW MULTIPLE HIGH"
   ]
  },
  {
   "cell_type": "code",
   "execution_count": 15,
   "id": "db244927",
   "metadata": {},
   "outputs": [
    {
     "name": "stdout",
     "output_type": "stream",
     "text": [
      "[ 6 17 14]\n",
      "int32\n",
      "(3,)\n"
     ]
    }
   ],
   "source": [
    "a = np.random.randint(5,[10,20,30])\n",
    "print(a)\n",
    "print(a.dtype)\n",
    "print(a.shape)"
   ]
  },
  {
   "cell_type": "markdown",
   "id": "1bc809aa",
   "metadata": {},
   "source": [
    "# CREATE ARRAY WITH MUTIPLE LOW SINGLE HIGH"
   ]
  },
  {
   "cell_type": "code",
   "execution_count": 16,
   "id": "14e93903",
   "metadata": {},
   "outputs": [
    {
     "name": "stdout",
     "output_type": "stream",
     "text": [
      "[6 6 6]\n",
      "int32\n",
      "(3,)\n"
     ]
    }
   ],
   "source": [
    "a = np.random.randint([4,5,6],7)\n",
    "print(a)\n",
    "print(a.dtype)\n",
    "print(a.shape)"
   ]
  },
  {
   "cell_type": "markdown",
   "id": "8c31bfb1",
   "metadata": {},
   "source": [
    "# CREATE ARRAY WITH MUTILPLE HIGH AND MULTIPLE LOW"
   ]
  },
  {
   "cell_type": "code",
   "execution_count": 17,
   "id": "4d4959ca",
   "metadata": {},
   "outputs": [
    {
     "name": "stdout",
     "output_type": "stream",
     "text": [
      "[[[ 9 10 23]]\n",
      "\n",
      " [[ 1 18  3]]\n",
      "\n",
      " [[ 8  9 20]]]\n",
      "int32\n",
      "(3, 1, 3)\n"
     ]
    }
   ],
   "source": [
    "a = np.random.randint([1,2,3],[10,20,30],size=(3,1,3))\n",
    "print(a)\n",
    "print(a.dtype)\n",
    "print(a.shape)"
   ]
  },
  {
   "cell_type": "markdown",
   "id": "27fbec14",
   "metadata": {},
   "source": [
    "# RANDOM RANDN FUNCTION 1D"
   ]
  },
  {
   "cell_type": "code",
   "execution_count": 18,
   "id": "87906be7",
   "metadata": {},
   "outputs": [
    {
     "name": "stdout",
     "output_type": "stream",
     "text": [
      "[-0.054826    1.28812452  1.84824705]\n",
      "float64\n",
      "(3,)\n"
     ]
    }
   ],
   "source": [
    "import numpy as np\n",
    "a = np.random.randn(3)\n",
    "print(a)\n",
    "print(a.dtype)\n",
    "print(a.shape)"
   ]
  },
  {
   "cell_type": "markdown",
   "id": "dc6be55b",
   "metadata": {},
   "source": [
    "# RANDOM RANDN FUNCTION 2D"
   ]
  },
  {
   "cell_type": "code",
   "execution_count": 19,
   "id": "cdf48079",
   "metadata": {},
   "outputs": [
    {
     "name": "stdout",
     "output_type": "stream",
     "text": [
      "[[ 2.42107381  0.13962352 -0.30768067]\n",
      " [-0.90457765  0.17647693  0.00866513]\n",
      " [ 1.17950696  0.17176851 -0.29071138]]\n",
      "float64\n",
      "(3, 3)\n"
     ]
    }
   ],
   "source": [
    "a = np.random.randn(3,3)\n",
    "print(a)\n",
    "print(a.dtype)\n",
    "print(a.shape)"
   ]
  },
  {
   "cell_type": "markdown",
   "id": "900bd26e",
   "metadata": {},
   "source": [
    "# RANDOM RANDN FUNCTION 3D"
   ]
  },
  {
   "cell_type": "code",
   "execution_count": 20,
   "id": "78ce6e00",
   "metadata": {},
   "outputs": [
    {
     "name": "stdout",
     "output_type": "stream",
     "text": [
      "[[[ 0.05491357  0.65665457 -0.72629386]\n",
      "  [-0.80004804 -0.12928978 -0.71829986]]\n",
      "\n",
      " [[ 1.58989157  1.77767199  3.48686172]\n",
      "  [ 0.53792122 -0.51783385 -0.2737105 ]]\n",
      "\n",
      " [[ 0.54459645  0.05254813  0.23799473]\n",
      "  [-1.46512028 -0.67116733  0.78485206]]]\n",
      "float64\n",
      "(3, 2, 3)\n"
     ]
    }
   ],
   "source": [
    "a = np.random.randn(3,2,3)\n",
    "print(a)\n",
    "print(a.dtype)\n",
    "print(a.shape)"
   ]
  },
  {
   "cell_type": "markdown",
   "id": "a0e58208",
   "metadata": {},
   "source": [
    "# CREATE RANDOM RAND FUNCTION"
   ]
  },
  {
   "cell_type": "code",
   "execution_count": 21,
   "id": "d9e6f15b",
   "metadata": {},
   "outputs": [
    {
     "name": "stdout",
     "output_type": "stream",
     "text": [
      "[0.42898188 0.89483144 0.72429749 0.90741696 0.66197282 0.85761704\n",
      " 0.49736638 0.96070436 0.99577162 0.46444079]\n",
      "float64\n",
      "(10,)\n"
     ]
    }
   ],
   "source": [
    "a = np.random.rand(10)\n",
    "print(a)\n",
    "print(a.dtype)\n",
    "print(a.shape)"
   ]
  },
  {
   "cell_type": "markdown",
   "id": "3b23205c",
   "metadata": {},
   "source": [
    "# POSITIVE INDEXING IN ARRAY "
   ]
  },
  {
   "cell_type": "code",
   "execution_count": 22,
   "id": "f3a5d690",
   "metadata": {},
   "outputs": [
    {
     "name": "stdout",
     "output_type": "stream",
     "text": [
      "2\n"
     ]
    }
   ],
   "source": [
    "#array with 1D\n",
    "arr=([2,3,4,5,6,7,8])\n",
    "print(arr[0])"
   ]
  },
  {
   "cell_type": "code",
   "execution_count": 23,
   "id": "603bc168",
   "metadata": {},
   "outputs": [
    {
     "name": "stdout",
     "output_type": "stream",
     "text": [
      "5\n"
     ]
    }
   ],
   "source": [
    "#array with 2D\n",
    "arr=np.array([[1,2,3],[4,5,6]])\n",
    "print(arr[1,1])"
   ]
  },
  {
   "cell_type": "code",
   "execution_count": 24,
   "id": "4d26d1c9",
   "metadata": {},
   "outputs": [
    {
     "name": "stdout",
     "output_type": "stream",
     "text": [
      "9\n",
      "6\n"
     ]
    }
   ],
   "source": [
    "#array with 3D\n",
    "arr=np.array(\n",
    "[\n",
    "    [[1,2,3],[3,2,1]],\n",
    "    [[4,5,6],[6,5,4]],\n",
    "    [[7,8,9],[9,8,7]]\n",
    "]\n",
    ")\n",
    "print(arr[2,1,0])\n",
    "print(arr[1,0,2])"
   ]
  },
  {
   "cell_type": "code",
   "execution_count": 25,
   "id": "c0c6fd4f",
   "metadata": {},
   "outputs": [
    {
     "name": "stdout",
     "output_type": "stream",
     "text": [
      "3\n"
     ]
    }
   ],
   "source": [
    "#negative array indexing 1D\n",
    "arr=np.array([1,2,3,4,5])\n",
    "print(arr[-3])"
   ]
  },
  {
   "cell_type": "code",
   "execution_count": 26,
   "id": "7c2368a8",
   "metadata": {},
   "outputs": [
    {
     "name": "stdout",
     "output_type": "stream",
     "text": [
      "5\n"
     ]
    }
   ],
   "source": [
    "#negative array indexing 2D\n",
    "arr=np.array([[1,2,3],[4,5,6]])\n",
    "print(arr[-1,-2])"
   ]
  },
  {
   "cell_type": "code",
   "execution_count": 27,
   "id": "49734e78",
   "metadata": {},
   "outputs": [
    {
     "name": "stdout",
     "output_type": "stream",
     "text": [
      "8\n",
      "5\n",
      "3\n"
     ]
    }
   ],
   "source": [
    "#negative array indexing 3D\n",
    "arr=np.array(\n",
    "[\n",
    "    [[1,2,3],[3,2,1]],\n",
    "    [[4,5,6],[6,5,4]],\n",
    "    [[7,8,9],[9,8,7]]\n",
    "]\n",
    ")\n",
    "print(arr[-1,-2,-2])\n",
    "print(arr[-2,-2,-2])\n",
    "print(arr[-3,-1,-3])"
   ]
  },
  {
   "cell_type": "markdown",
   "id": "8b2ca954",
   "metadata": {},
   "source": [
    "# NUMPY ARRAY SLICING"
   ]
  },
  {
   "cell_type": "raw",
   "id": "cde16c4c",
   "metadata": {},
   "source": [
    "slice elements from index 1 to 5 from the following array:"
   ]
  },
  {
   "cell_type": "code",
   "execution_count": 28,
   "id": "63f620d1",
   "metadata": {},
   "outputs": [
    {
     "name": "stdout",
     "output_type": "stream",
     "text": [
      "[2 3 4 5]\n"
     ]
    }
   ],
   "source": [
    "import numpy as np\n",
    "arr =np.array([1,2,3,4,5,6,7])\n",
    "print(arr[1:5])"
   ]
  },
  {
   "cell_type": "raw",
   "id": "55d01d88",
   "metadata": {},
   "source": [
    "slice elements from index 4 to end of the array:"
   ]
  },
  {
   "cell_type": "code",
   "execution_count": 29,
   "id": "c3ea707e",
   "metadata": {},
   "outputs": [
    {
     "name": "stdout",
     "output_type": "stream",
     "text": [
      "[5 6 7]\n"
     ]
    }
   ],
   "source": [
    "arr =np.array([1,2,3,4,5,6,7])\n",
    "print(arr[4:])"
   ]
  },
  {
   "cell_type": "raw",
   "id": "8609998b",
   "metadata": {},
   "source": [
    "slice elements from the beginning to index 4 (not included):"
   ]
  },
  {
   "cell_type": "code",
   "execution_count": 30,
   "id": "05c3731b",
   "metadata": {},
   "outputs": [
    {
     "name": "stdout",
     "output_type": "stream",
     "text": [
      "[1 2 3 4]\n"
     ]
    }
   ],
   "source": [
    "arr =np.array([1,2,3,4,5,6,7])\n",
    "print(arr[:4])"
   ]
  },
  {
   "cell_type": "markdown",
   "id": "76adddc5",
   "metadata": {},
   "source": [
    "# NEGATIVE SILCING"
   ]
  },
  {
   "cell_type": "raw",
   "id": "e7407b37",
   "metadata": {},
   "source": [
    "slice from the index 3 from the end to index 1 from the end:"
   ]
  },
  {
   "cell_type": "code",
   "execution_count": 31,
   "id": "3d37f9e2",
   "metadata": {},
   "outputs": [
    {
     "name": "stdout",
     "output_type": "stream",
     "text": [
      "[5 6]\n"
     ]
    }
   ],
   "source": [
    "arr =np.array([1,2,3,4,5,6,7])\n",
    "print(arr[-3:-1])"
   ]
  },
  {
   "cell_type": "raw",
   "id": "19f61505",
   "metadata": {},
   "source": [
    "return every elements from index 1 to index 5:"
   ]
  },
  {
   "cell_type": "code",
   "execution_count": 32,
   "id": "b758854c",
   "metadata": {},
   "outputs": [
    {
     "name": "stdout",
     "output_type": "stream",
     "text": [
      "[2 4]\n"
     ]
    }
   ],
   "source": [
    "arr =np.array([1,2,3,4,5,6,7])\n",
    "print(arr[1:5:2])"
   ]
  },
  {
   "cell_type": "raw",
   "id": "3ddfedec",
   "metadata": {},
   "source": [
    "return every other elements from the entire array"
   ]
  },
  {
   "cell_type": "code",
   "execution_count": 33,
   "id": "6a6576b1",
   "metadata": {},
   "outputs": [
    {
     "name": "stdout",
     "output_type": "stream",
     "text": [
      "[1 4 7]\n"
     ]
    }
   ],
   "source": [
    "arr =np.array([1,2,3,4,5,6,7])\n",
    "print(arr[::3])"
   ]
  },
  {
   "cell_type": "markdown",
   "id": "08e4bff8",
   "metadata": {},
   "source": [
    "# SLICING 2D ARRAY"
   ]
  },
  {
   "cell_type": "raw",
   "id": "4a41ce99",
   "metadata": {},
   "source": [
    "from the second elements,slice elements from index 1 to index 4(not included)"
   ]
  },
  {
   "cell_type": "code",
   "execution_count": 34,
   "id": "33bf0d3d",
   "metadata": {},
   "outputs": [
    {
     "name": "stdout",
     "output_type": "stream",
     "text": [
      "[7 8 9]\n",
      "[3]\n"
     ]
    }
   ],
   "source": [
    "arr=np.array([[1,2,3,4,5],[6,7,8,9,10]])\n",
    "print(arr[1,1:4])\n",
    "print(arr[0,2:3])"
   ]
  },
  {
   "cell_type": "raw",
   "id": "fe487af1",
   "metadata": {},
   "source": [
    "from both array,return index 2:"
   ]
  },
  {
   "cell_type": "code",
   "execution_count": 35,
   "id": "26e9a339",
   "metadata": {},
   "outputs": [
    {
     "name": "stdout",
     "output_type": "stream",
     "text": [
      "[3 8]\n"
     ]
    }
   ],
   "source": [
    "arr=np.array([[1,2,3,4,5],[6,7,8,9,10]])\n",
    "print(arr[0:2,2])"
   ]
  },
  {
   "cell_type": "raw",
   "id": "8424a71f",
   "metadata": {},
   "source": [
    "from both array,slice index 1 to index 4(not included),this will return 2D array"
   ]
  },
  {
   "cell_type": "code",
   "execution_count": 36,
   "id": "4f022256",
   "metadata": {},
   "outputs": [
    {
     "name": "stdout",
     "output_type": "stream",
     "text": [
      "[[2 3 4]\n",
      " [7 8 9]]\n"
     ]
    }
   ],
   "source": [
    "arr=np.array([[1,2,3,4,5],[6,7,8,9,10]])\n",
    "print(arr[0:2,1:4])"
   ]
  },
  {
   "cell_type": "markdown",
   "id": "b2d96a9c",
   "metadata": {},
   "source": [
    "# NumPy Array Copy vs view"
   ]
  },
  {
   "cell_type": "raw",
   "id": "fea14344",
   "metadata": {},
   "source": [
    "#The copy owns the data and any changes made to copy will not affect original array.and any changes made to the original array will not effect the copy."
   ]
  },
  {
   "cell_type": "raw",
   "id": "c2d96521",
   "metadata": {},
   "source": [
    "#The view does not own the data and any changes made to the view will affect the original array and changes made in original array will affect the view."
   ]
  },
  {
   "cell_type": "code",
   "execution_count": 37,
   "id": "bb838c58",
   "metadata": {},
   "outputs": [
    {
     "name": "stdout",
     "output_type": "stream",
     "text": [
      "[1 2 6 4 5]\n",
      "[1 2 3 4 3]\n"
     ]
    }
   ],
   "source": [
    "import numpy as np\n",
    "arr=np.array([1,2,3,4,5])\n",
    "a=np.copy(arr)\n",
    "arr[2]=6\n",
    "a[4]=3\n",
    "print(arr)\n",
    "print(a)"
   ]
  },
  {
   "cell_type": "code",
   "execution_count": 38,
   "id": "53a80958",
   "metadata": {},
   "outputs": [
    {
     "name": "stdout",
     "output_type": "stream",
     "text": [
      "[1 2 6 4 5]\n",
      "[1 2 6 4 5]\n"
     ]
    }
   ],
   "source": [
    "import numpy as np \n",
    "\n",
    "arr=np.array([1,2,3,4,5])\n",
    "x=arr.view()\n",
    "arr[2]=6\n",
    "\n",
    "print(arr)\n",
    "print(x)"
   ]
  },
  {
   "cell_type": "markdown",
   "id": "39a06faa",
   "metadata": {},
   "source": [
    "# Reshape()Function"
   ]
  },
  {
   "cell_type": "code",
   "execution_count": 39,
   "id": "b5905d1f",
   "metadata": {},
   "outputs": [
    {
     "name": "stdout",
     "output_type": "stream",
     "text": [
      "original array\n",
      "[ 1  2  3  4  5  6  7  8  9 10]\n",
      "\n",
      "2d array (5,2)\n",
      "[[ 1  2]\n",
      " [ 3  4]\n",
      " [ 5  6]\n",
      " [ 7  8]\n",
      " [ 9 10]]\n",
      "[[ 1  2  3  4  5]\n",
      " [ 6  7  8  9 10]]\n",
      "\n",
      "3d array (2,1,5)\n",
      "[[[ 1  2  3  4  5]]\n",
      "\n",
      " [[ 6  7  8  9 10]]]\n"
     ]
    }
   ],
   "source": [
    "arr=np.array([1,2,3,4,5,6,7,8,9,10])\n",
    "print(\"original array\")\n",
    "print(arr)\n",
    "#2darray\n",
    "a1=arr.reshape(5,2)\n",
    "print(\"\\n2d array (5,2)\")\n",
    "print(a1)\n",
    "a2=arr.reshape(2,5)\n",
    "print(a2)\n",
    "#3d array\n",
    "a3=arr.reshape(2,1,5)\n",
    "print(\"\\n3d array (2,1,5)\")\n",
    "print(a3)\n"
   ]
  },
  {
   "cell_type": "markdown",
   "id": "8282f870",
   "metadata": {},
   "source": [
    "# Sum()Function"
   ]
  },
  {
   "cell_type": "code",
   "execution_count": 40,
   "id": "96bdffa3",
   "metadata": {},
   "outputs": [
    {
     "name": "stdout",
     "output_type": "stream",
     "text": [
      "original array\n",
      "[1 2 3 4 5]\n",
      "15\n",
      "\n",
      " 2d array\n",
      "[[ 1  2  3  4  5]\n",
      " [ 6  7  8  9 10]]\n",
      "55\n",
      "\n",
      " 3d array\n",
      "[[[1 2 3]\n",
      "  [4 5 6]]\n",
      "\n",
      " [[7 8 9]\n",
      "  [1 2 3]]\n",
      "\n",
      " [[4 5 6]\n",
      "  [7 8 9]]]\n",
      "90\n"
     ]
    }
   ],
   "source": [
    "arr =np.array([1,2,3,4,5])\n",
    "print(\"original array\")\n",
    "print(arr)\n",
    "print(np.sum(arr))\n",
    "a=np.array([[1,2,3,4,5],[6,7,8,9,10]])\n",
    "print(\"\\n 2d array\")\n",
    "print(a)\n",
    "print(np.sum(a))\n",
    "a1=np.array(\n",
    "[\n",
    "    [[1,2,3],[4,5,6]],\n",
    "    [[7,8,9],[1,2,3]],\n",
    "    [[4,5,6],[7,8,9]]\n",
    "]\n",
    ")\n",
    "print(\"\\n 3d array\")\n",
    "print(a1)\n",
    "print(np.sum(a1))"
   ]
  },
  {
   "cell_type": "code",
   "execution_count": 41,
   "id": "cc05cc67",
   "metadata": {},
   "outputs": [
    {
     "name": "stdout",
     "output_type": "stream",
     "text": [
      "original array\n",
      "[[1 2 3 4 5]\n",
      " [2 3 4 5 6]]\n",
      "\n",
      " sum axis 0\n",
      "[ 3  5  7  9 11]\n",
      "\n",
      " sum axis 1\n",
      "[15 20]\n"
     ]
    }
   ],
   "source": [
    "arr=np.array([[1,2,3,4,5],[2,3,4,5,6]])\n",
    "print(\"original array\")\n",
    "print(arr)\n",
    "print(\"\\n sum axis 0\") # acros column (column wise)\n",
    "print(np.sum(arr,axis=0))\n",
    "print(\"\\n sum axis 1\") # across row (row wise)\n",
    "print(np.sum(arr,axis=1))"
   ]
  },
  {
   "cell_type": "markdown",
   "id": "674a377e",
   "metadata": {},
   "source": [
    "# Mean()Function"
   ]
  },
  {
   "cell_type": "code",
   "execution_count": 42,
   "id": "3d1362ac",
   "metadata": {},
   "outputs": [
    {
     "name": "stdout",
     "output_type": "stream",
     "text": [
      "3.5\n"
     ]
    }
   ],
   "source": [
    "arr=np.array([[1,2,3,4,5],[2,3,4,5,6]])\n",
    "print(np.mean(arr))"
   ]
  },
  {
   "cell_type": "code",
   "execution_count": 43,
   "id": "b85f2dc7",
   "metadata": {},
   "outputs": [
    {
     "name": "stdout",
     "output_type": "stream",
     "text": [
      "original array\n",
      "[[1 2 3 4 5]\n",
      " [2 3 4 5 6]]\n",
      "\n",
      " mean axis 0\n",
      "[1.5 2.5 3.5 4.5 5.5]\n",
      "\n",
      " mean axis 1\n",
      "[3. 4.]\n"
     ]
    }
   ],
   "source": [
    "arr=np.array([[1,2,3,4,5],[2,3,4,5,6]])\n",
    "print(\"original array\")\n",
    "print(arr)\n",
    "print(\"\\n mean axis 0\") # acros column (column wise)\n",
    "print(np.mean(arr,axis=0))\n",
    "print(\"\\n mean axis 1\") # across row (row wise)\n",
    "print(np.mean(arr,axis=1))"
   ]
  },
  {
   "cell_type": "markdown",
   "id": "2490d300",
   "metadata": {},
   "source": [
    "# Std() Function"
   ]
  },
  {
   "cell_type": "code",
   "execution_count": 48,
   "id": "28da6f9f",
   "metadata": {},
   "outputs": [
    {
     "name": "stdout",
     "output_type": "stream",
     "text": [
      "1.707825127659933\n",
      "[1.5 1.5 1.5]\n",
      "[0.81649658 0.81649658]\n"
     ]
    }
   ],
   "source": [
    "a=np.array([[1,2,3],[4,5,6]])\n",
    "print(np.std(a))\n",
    "print(np.std(a,axis=0))\n",
    "print(np.std(a,axis=1))"
   ]
  },
  {
   "cell_type": "markdown",
   "id": "0a5dd72e",
   "metadata": {},
   "source": [
    "# var()function"
   ]
  },
  {
   "cell_type": "code",
   "execution_count": 50,
   "id": "86ce847f",
   "metadata": {},
   "outputs": [
    {
     "name": "stdout",
     "output_type": "stream",
     "text": [
      "2.9166666666666665\n",
      "[2.25 2.25 2.25]\n",
      "[0.66666667 0.66666667]\n"
     ]
    }
   ],
   "source": [
    "a=np.array([[1,2,3],[4,5,6]])\n",
    "print(np.var(a))\n",
    "print(np.var(a,axis=0))\n",
    "print(np.var(a,axis=1))"
   ]
  },
  {
   "cell_type": "markdown",
   "id": "6e054bf8",
   "metadata": {},
   "source": [
    "# MIN"
   ]
  },
  {
   "cell_type": "code",
   "execution_count": 51,
   "id": "65464275",
   "metadata": {},
   "outputs": [
    {
     "name": "stdout",
     "output_type": "stream",
     "text": [
      "1\n",
      "[1 2 3]\n",
      "[1 4]\n"
     ]
    }
   ],
   "source": [
    "a=np.array([[1,2,3],[4,5,6]])\n",
    "print(np.min(a))\n",
    "print(np.min(a,axis=0))\n",
    "print(np.min(a,axis=1))"
   ]
  },
  {
   "cell_type": "markdown",
   "id": "0164074e",
   "metadata": {},
   "source": [
    "# max"
   ]
  },
  {
   "cell_type": "code",
   "execution_count": 52,
   "id": "9222fe08",
   "metadata": {},
   "outputs": [
    {
     "name": "stdout",
     "output_type": "stream",
     "text": [
      "6\n",
      "[4 5 6]\n",
      "[3 6]\n"
     ]
    }
   ],
   "source": [
    "a=np.array([[1,2,3],[4,5,6]])\n",
    "print(np.max(a))\n",
    "print(np.max(a,axis=0))\n",
    "print(np.max(a,axis=1))"
   ]
  },
  {
   "cell_type": "code",
   "execution_count": null,
   "id": "7e4e06bc",
   "metadata": {},
   "outputs": [],
   "source": []
  },
  {
   "cell_type": "code",
   "execution_count": null,
   "id": "d9583f82",
   "metadata": {},
   "outputs": [],
   "source": []
  }
 ],
 "metadata": {
  "kernelspec": {
   "display_name": "Python 3 (ipykernel)",
   "language": "python",
   "name": "python3"
  },
  "language_info": {
   "codemirror_mode": {
    "name": "ipython",
    "version": 3
   },
   "file_extension": ".py",
   "mimetype": "text/x-python",
   "name": "python",
   "nbconvert_exporter": "python",
   "pygments_lexer": "ipython3",
   "version": "3.9.12"
  }
 },
 "nbformat": 4,
 "nbformat_minor": 5
}
