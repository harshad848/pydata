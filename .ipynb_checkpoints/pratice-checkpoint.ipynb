{
 "cells": [
  {
   "cell_type": "code",
   "execution_count": 182,
   "id": "4237907a",
   "metadata": {},
   "outputs": [],
   "source": [
    "import pandas as pd\n",
    "import seaborn as sns\n",
    "import numpy as np"
   ]
  },
  {
   "cell_type": "code",
   "execution_count": 183,
   "id": "44458ced",
   "metadata": {},
   "outputs": [
    {
     "data": {
      "text/html": [
       "<div>\n",
       "<style scoped>\n",
       "    .dataframe tbody tr th:only-of-type {\n",
       "        vertical-align: middle;\n",
       "    }\n",
       "\n",
       "    .dataframe tbody tr th {\n",
       "        vertical-align: top;\n",
       "    }\n",
       "\n",
       "    .dataframe thead th {\n",
       "        text-align: right;\n",
       "    }\n",
       "</style>\n",
       "<table border=\"1\" class=\"dataframe\">\n",
       "  <thead>\n",
       "    <tr style=\"text-align: right;\">\n",
       "      <th></th>\n",
       "      <th>CLIENTNUM</th>\n",
       "      <th>Attrition_Flag</th>\n",
       "      <th>Customer_Age</th>\n",
       "      <th>Gender</th>\n",
       "      <th>Dependent_count</th>\n",
       "      <th>Education_Level</th>\n",
       "      <th>Income_Category</th>\n",
       "      <th>Credit_Limit</th>\n",
       "      <th>Total_Revolving_Bal</th>\n",
       "      <th>Avg_Purchase</th>\n",
       "      <th>Total_Trans_Amt</th>\n",
       "    </tr>\n",
       "  </thead>\n",
       "  <tbody>\n",
       "    <tr>\n",
       "      <th>0</th>\n",
       "      <td>768805383</td>\n",
       "      <td>Existing Customer</td>\n",
       "      <td>45</td>\n",
       "      <td>M</td>\n",
       "      <td>3</td>\n",
       "      <td>High School</td>\n",
       "      <td>$60K - $80K</td>\n",
       "      <td>12691.0</td>\n",
       "      <td>777</td>\n",
       "      <td>11914.0</td>\n",
       "      <td>1144</td>\n",
       "    </tr>\n",
       "    <tr>\n",
       "      <th>1</th>\n",
       "      <td>818770008</td>\n",
       "      <td>Existing Customer</td>\n",
       "      <td>49</td>\n",
       "      <td>F</td>\n",
       "      <td>5</td>\n",
       "      <td>Graduate</td>\n",
       "      <td>Less than $40K</td>\n",
       "      <td>8256.0</td>\n",
       "      <td>864</td>\n",
       "      <td>7392.0</td>\n",
       "      <td>1291</td>\n",
       "    </tr>\n",
       "    <tr>\n",
       "      <th>2</th>\n",
       "      <td>713982108</td>\n",
       "      <td>Existing Customer</td>\n",
       "      <td>51</td>\n",
       "      <td>M</td>\n",
       "      <td>3</td>\n",
       "      <td>Graduate</td>\n",
       "      <td>$80K - $120K</td>\n",
       "      <td>3418.0</td>\n",
       "      <td>0</td>\n",
       "      <td>3418.0</td>\n",
       "      <td>1887</td>\n",
       "    </tr>\n",
       "    <tr>\n",
       "      <th>3</th>\n",
       "      <td>769911858</td>\n",
       "      <td>Existing Customer</td>\n",
       "      <td>40</td>\n",
       "      <td>F</td>\n",
       "      <td>4</td>\n",
       "      <td>High School</td>\n",
       "      <td>Less than $40K</td>\n",
       "      <td>3313.0</td>\n",
       "      <td>2517</td>\n",
       "      <td>796.0</td>\n",
       "      <td>1171</td>\n",
       "    </tr>\n",
       "    <tr>\n",
       "      <th>4</th>\n",
       "      <td>709106358</td>\n",
       "      <td>Existing Customer</td>\n",
       "      <td>40</td>\n",
       "      <td>M</td>\n",
       "      <td>3</td>\n",
       "      <td>Uneducated</td>\n",
       "      <td>$60K - $80K</td>\n",
       "      <td>4716.0</td>\n",
       "      <td>0</td>\n",
       "      <td>4716.0</td>\n",
       "      <td>816</td>\n",
       "    </tr>\n",
       "  </tbody>\n",
       "</table>\n",
       "</div>"
      ],
      "text/plain": [
       "   CLIENTNUM     Attrition_Flag  Customer_Age Gender  Dependent_count  \\\n",
       "0  768805383  Existing Customer            45      M                3   \n",
       "1  818770008  Existing Customer            49      F                5   \n",
       "2  713982108  Existing Customer            51      M                3   \n",
       "3  769911858  Existing Customer            40      F                4   \n",
       "4  709106358  Existing Customer            40      M                3   \n",
       "\n",
       "  Education_Level Income_Category  Credit_Limit  Total_Revolving_Bal  \\\n",
       "0     High School     $60K - $80K       12691.0                  777   \n",
       "1        Graduate  Less than $40K        8256.0                  864   \n",
       "2        Graduate    $80K - $120K        3418.0                    0   \n",
       "3     High School  Less than $40K        3313.0                 2517   \n",
       "4      Uneducated     $60K - $80K        4716.0                    0   \n",
       "\n",
       "   Avg_Purchase  Total_Trans_Amt  \n",
       "0       11914.0             1144  \n",
       "1        7392.0             1291  \n",
       "2        3418.0             1887  \n",
       "3         796.0             1171  \n",
       "4        4716.0              816  "
      ]
     },
     "execution_count": 183,
     "metadata": {},
     "output_type": "execute_result"
    }
   ],
   "source": [
    "df = pd.read_csv('dataset/CreditCard_DV.csv')\n",
    "df.head()"
   ]
  },
  {
   "cell_type": "code",
   "execution_count": 184,
   "id": "b4a14800",
   "metadata": {},
   "outputs": [
    {
     "name": "stdout",
     "output_type": "stream",
     "text": [
      "<class 'pandas.core.frame.DataFrame'>\n",
      "RangeIndex: 100 entries, 0 to 99\n",
      "Data columns (total 11 columns):\n",
      " #   Column               Non-Null Count  Dtype  \n",
      "---  ------               --------------  -----  \n",
      " 0   CLIENTNUM            100 non-null    int64  \n",
      " 1   Attrition_Flag       100 non-null    object \n",
      " 2   Customer_Age         100 non-null    int64  \n",
      " 3   Gender               100 non-null    object \n",
      " 4   Dependent_count      100 non-null    int64  \n",
      " 5   Education_Level      100 non-null    object \n",
      " 6   Income_Category      100 non-null    object \n",
      " 7   Credit_Limit         100 non-null    float64\n",
      " 8   Total_Revolving_Bal  100 non-null    int64  \n",
      " 9   Avg_Purchase         100 non-null    float64\n",
      " 10  Total_Trans_Amt      100 non-null    int64  \n",
      "dtypes: float64(2), int64(5), object(4)\n",
      "memory usage: 8.7+ KB\n"
     ]
    }
   ],
   "source": [
    "df.info()"
   ]
  },
  {
   "cell_type": "code",
   "execution_count": 185,
   "id": "08b4b20b",
   "metadata": {},
   "outputs": [
    {
     "name": "stderr",
     "output_type": "stream",
     "text": [
      "C:\\Users\\CS-L2-PC13\\anaconda3\\lib\\site-packages\\seaborn\\_decorators.py:36: FutureWarning: Pass the following variable as a keyword arg: x. From version 0.12, the only valid positional argument will be `data`, and passing other arguments without an explicit keyword will result in an error or misinterpretation.\n",
      "  warnings.warn(\n"
     ]
    },
    {
     "data": {
      "text/plain": [
       "<AxesSubplot:xlabel='Credit_Limit'>"
      ]
     },
     "execution_count": 185,
     "metadata": {},
     "output_type": "execute_result"
    },
    {
     "data": {
      "image/png": "[encoded data removed]",
      "text/plain": [
       "<Figure size 432x288 with 1 Axes>"
      ]
     },
     "metadata": {
      "needs_background": "light"
     },
     "output_type": "display_data"
    }
   ],
   "source": [
    "sns.boxplot(df['Credit_Limit'])"
   ]
  },
  {
   "cell_type": "code",
   "execution_count": 186,
   "id": "f3daeb5b",
   "metadata": {},
   "outputs": [
    {
     "name": "stderr",
     "output_type": "stream",
     "text": [
      "C:\\Users\\CS-L2-PC13\\anaconda3\\lib\\site-packages\\seaborn\\distributions.py:2619: FutureWarning: `distplot` is a deprecated function and will be removed in a future version. Please adapt your code to use either `displot` (a figure-level function with similar flexibility) or `histplot` (an axes-level function for histograms).\n",
      "  warnings.warn(msg, FutureWarning)\n"
     ]
    },
    {
     "data": {
      "text/plain": [
       "<AxesSubplot:xlabel='Credit_Limit', ylabel='Density'>"
      ]
     },
     "execution_count": 186,
     "metadata": {},
     "output_type": "execute_result"
    },
    {
     "data": {
      "image/png": "[encoded data removed]",
      "text/plain": [
       "<Figure size 432x288 with 1 Axes>"
      ]
     },
     "metadata": {
      "needs_background": "light"
     },
     "output_type": "display_data"
    }
   ],
   "source": [
    "sns.distplot(df['Credit_Limit'],kde=True)"
   ]
  },
  {
   "cell_type": "code",
   "execution_count": 187,
   "id": "b1ecc784",
   "metadata": {},
   "outputs": [
    {
     "data": {
      "text/plain": [
       "1.243634183264906"
      ]
     },
     "execution_count": 187,
     "metadata": {},
     "output_type": "execute_result"
    }
   ],
   "source": [
    "df['Credit_Limit'].skew()"
   ]
  },
  {
   "cell_type": "code",
   "execution_count": 188,
   "id": "6bd33a30",
   "metadata": {},
   "outputs": [
    {
     "data": {
      "text/plain": [
       "count      100.000000\n",
       "mean     10881.756000\n",
       "std      10056.333148\n",
       "min       1438.300000\n",
       "25%       3309.250000\n",
       "50%       6666.000000\n",
       "75%      14746.500000\n",
       "max      34516.000000\n",
       "Name: Credit_Limit, dtype: float64"
      ]
     },
     "execution_count": 188,
     "metadata": {},
     "output_type": "execute_result"
    }
   ],
   "source": [
    "df['Credit_Limit'].describe()"
   ]
  },
  {
   "cell_type": "code",
   "execution_count": 189,
   "id": "b65d4b36",
   "metadata": {},
   "outputs": [
    {
     "data": {
      "text/plain": [
       "3309.25"
      ]
     },
     "execution_count": 189,
     "metadata": {},
     "output_type": "execute_result"
    }
   ],
   "source": [
    "q1 = df['Credit_Limit'].quantile(0.25)\n",
    "q1"
   ]
  },
  {
   "cell_type": "code",
   "execution_count": 190,
   "id": "5e325ebb",
   "metadata": {},
   "outputs": [
    {
     "data": {
      "text/plain": [
       "14746.5"
      ]
     },
     "execution_count": 190,
     "metadata": {},
     "output_type": "execute_result"
    }
   ],
   "source": [
    "q3 = df['Credit_Limit'].quantile(0.75)\n",
    "q3"
   ]
  },
  {
   "cell_type": "code",
   "execution_count": 191,
   "id": "15635110",
   "metadata": {},
   "outputs": [
    {
     "data": {
      "text/plain": [
       "11437.25"
      ]
     },
     "execution_count": 191,
     "metadata": {},
     "output_type": "execute_result"
    }
   ],
   "source": [
    "iqr = q3-q1\n",
    "iqr"
   ]
  },
  {
   "cell_type": "code",
   "execution_count": 192,
   "id": "d0045f7a",
   "metadata": {},
   "outputs": [],
   "source": [
    "lb = q1 - 1.5 * iqr\n",
    "ub = q3 + 1.5 * iqr\n"
   ]
  },
  {
   "cell_type": "code",
   "execution_count": 193,
   "id": "e7a2ba6c",
   "metadata": {},
   "outputs": [
    {
     "data": {
      "text/plain": [
       "31902.375"
      ]
     },
     "execution_count": 193,
     "metadata": {},
     "output_type": "execute_result"
    }
   ],
   "source": [
    "ub"
   ]
  },
  {
   "cell_type": "code",
   "execution_count": 194,
   "id": "667fed1b",
   "metadata": {},
   "outputs": [
    {
     "data": {
      "text/plain": [
       "-13846.625"
      ]
     },
     "execution_count": 194,
     "metadata": {},
     "output_type": "execute_result"
    }
   ],
   "source": [
    "lb"
   ]
  },
  {
   "cell_type": "code",
   "execution_count": 195,
   "id": "7948f7be",
   "metadata": {},
   "outputs": [
    {
     "data": {
      "text/html": [
       "<div>\n",
       "<style scoped>\n",
       "    .dataframe tbody tr th:only-of-type {\n",
       "        vertical-align: middle;\n",
       "    }\n",
       "\n",
       "    .dataframe tbody tr th {\n",
       "        vertical-align: top;\n",
       "    }\n",
       "\n",
       "    .dataframe thead th {\n",
       "        text-align: right;\n",
       "    }\n",
       "</style>\n",
       "<table border=\"1\" class=\"dataframe\">\n",
       "  <thead>\n",
       "    <tr style=\"text-align: right;\">\n",
       "      <th></th>\n",
       "      <th>CLIENTNUM</th>\n",
       "      <th>Attrition_Flag</th>\n",
       "      <th>Customer_Age</th>\n",
       "      <th>Gender</th>\n",
       "      <th>Dependent_count</th>\n",
       "      <th>Education_Level</th>\n",
       "      <th>Income_Category</th>\n",
       "      <th>Credit_Limit</th>\n",
       "      <th>Total_Revolving_Bal</th>\n",
       "      <th>Avg_Purchase</th>\n",
       "      <th>Total_Trans_Amt</th>\n",
       "    </tr>\n",
       "  </thead>\n",
       "  <tbody>\n",
       "    <tr>\n",
       "      <th>6</th>\n",
       "      <td>810347208</td>\n",
       "      <td>Existing Customer</td>\n",
       "      <td>51</td>\n",
       "      <td>M</td>\n",
       "      <td>4</td>\n",
       "      <td>Unknown</td>\n",
       "      <td>$120K +</td>\n",
       "      <td>34516.0</td>\n",
       "      <td>2264</td>\n",
       "      <td>32252.0</td>\n",
       "      <td>1330</td>\n",
       "    </tr>\n",
       "    <tr>\n",
       "      <th>40</th>\n",
       "      <td>827111283</td>\n",
       "      <td>Existing Customer</td>\n",
       "      <td>45</td>\n",
       "      <td>M</td>\n",
       "      <td>3</td>\n",
       "      <td>Graduate</td>\n",
       "      <td>$80K - $120K</td>\n",
       "      <td>32426.0</td>\n",
       "      <td>578</td>\n",
       "      <td>31848.0</td>\n",
       "      <td>1109</td>\n",
       "    </tr>\n",
       "    <tr>\n",
       "      <th>45</th>\n",
       "      <td>712661433</td>\n",
       "      <td>Existing Customer</td>\n",
       "      <td>49</td>\n",
       "      <td>M</td>\n",
       "      <td>4</td>\n",
       "      <td>Uneducated</td>\n",
       "      <td>$80K - $120K</td>\n",
       "      <td>34516.0</td>\n",
       "      <td>0</td>\n",
       "      <td>34516.0</td>\n",
       "      <td>1444</td>\n",
       "    </tr>\n",
       "    <tr>\n",
       "      <th>61</th>\n",
       "      <td>712030833</td>\n",
       "      <td>Attrited Customer</td>\n",
       "      <td>48</td>\n",
       "      <td>M</td>\n",
       "      <td>2</td>\n",
       "      <td>Graduate</td>\n",
       "      <td>$60K - $80K</td>\n",
       "      <td>34516.0</td>\n",
       "      <td>0</td>\n",
       "      <td>34516.0</td>\n",
       "      <td>691</td>\n",
       "    </tr>\n",
       "    <tr>\n",
       "      <th>65</th>\n",
       "      <td>788979258</td>\n",
       "      <td>Existing Customer</td>\n",
       "      <td>51</td>\n",
       "      <td>M</td>\n",
       "      <td>4</td>\n",
       "      <td>Uneducated</td>\n",
       "      <td>$80K - $120K</td>\n",
       "      <td>34516.0</td>\n",
       "      <td>1515</td>\n",
       "      <td>33001.0</td>\n",
       "      <td>1293</td>\n",
       "    </tr>\n",
       "    <tr>\n",
       "      <th>70</th>\n",
       "      <td>715971108</td>\n",
       "      <td>Existing Customer</td>\n",
       "      <td>51</td>\n",
       "      <td>M</td>\n",
       "      <td>4</td>\n",
       "      <td>Graduate</td>\n",
       "      <td>$120K +</td>\n",
       "      <td>34516.0</td>\n",
       "      <td>1763</td>\n",
       "      <td>32753.0</td>\n",
       "      <td>1550</td>\n",
       "    </tr>\n",
       "    <tr>\n",
       "      <th>81</th>\n",
       "      <td>715156383</td>\n",
       "      <td>Existing Customer</td>\n",
       "      <td>44</td>\n",
       "      <td>M</td>\n",
       "      <td>1</td>\n",
       "      <td>Unknown</td>\n",
       "      <td>$120K +</td>\n",
       "      <td>34516.0</td>\n",
       "      <td>1533</td>\n",
       "      <td>32983.0</td>\n",
       "      <td>1603</td>\n",
       "    </tr>\n",
       "    <tr>\n",
       "      <th>84</th>\n",
       "      <td>794543958</td>\n",
       "      <td>Existing Customer</td>\n",
       "      <td>53</td>\n",
       "      <td>M</td>\n",
       "      <td>1</td>\n",
       "      <td>Graduate</td>\n",
       "      <td>$80K - $120K</td>\n",
       "      <td>34516.0</td>\n",
       "      <td>1219</td>\n",
       "      <td>33297.0</td>\n",
       "      <td>1590</td>\n",
       "    </tr>\n",
       "  </tbody>\n",
       "</table>\n",
       "</div>"
      ],
      "text/plain": [
       "    CLIENTNUM     Attrition_Flag  Customer_Age Gender  Dependent_count  \\\n",
       "6   810347208  Existing Customer            51      M                4   \n",
       "40  827111283  Existing Customer            45      M                3   \n",
       "45  712661433  Existing Customer            49      M                4   \n",
       "61  712030833  Attrited Customer            48      M                2   \n",
       "65  788979258  Existing Customer            51      M                4   \n",
       "70  715971108  Existing Customer            51      M                4   \n",
       "81  715156383  Existing Customer            44      M                1   \n",
       "84  794543958  Existing Customer            53      M                1   \n",
       "\n",
       "   Education_Level Income_Category  Credit_Limit  Total_Revolving_Bal  \\\n",
       "6          Unknown         $120K +       34516.0                 2264   \n",
       "40        Graduate    $80K - $120K       32426.0                  578   \n",
       "45      Uneducated    $80K - $120K       34516.0                    0   \n",
       "61        Graduate     $60K - $80K       34516.0                    0   \n",
       "65      Uneducated    $80K - $120K       34516.0                 1515   \n",
       "70        Graduate         $120K +       34516.0                 1763   \n",
       "81         Unknown         $120K +       34516.0                 1533   \n",
       "84        Graduate    $80K - $120K       34516.0                 1219   \n",
       "\n",
       "    Avg_Purchase  Total_Trans_Amt  \n",
       "6        32252.0             1330  \n",
       "40       31848.0             1109  \n",
       "45       34516.0             1444  \n",
       "61       34516.0              691  \n",
       "65       33001.0             1293  \n",
       "70       32753.0             1550  \n",
       "81       32983.0             1603  \n",
       "84       33297.0             1590  "
      ]
     },
     "execution_count": 195,
     "metadata": {},
     "output_type": "execute_result"
    }
   ],
   "source": [
    "df[(df['Credit_Limit'] > ub) | (df['Credit_Limit'] < lb)]"
   ]
  },
  {
   "cell_type": "code",
   "execution_count": 196,
   "id": "598c4c21",
   "metadata": {},
   "outputs": [],
   "source": [
    "df['Credit_Limit'] = np.where( df['Credit_Limit'] > ub,\n",
    "                                ub,\n",
    "                              np.where(df['Credit_Limit'] <lb,\n",
    "                                 lb,\n",
    "                                      df['Credit_Limit'] ))\n",
    "                                \n",
    "                              "
   ]
  },
  {
   "cell_type": "code",
   "execution_count": 197,
   "id": "e8c3339d",
   "metadata": {},
   "outputs": [
    {
     "data": {
      "text/html": [
       "<div>\n",
       "<style scoped>\n",
       "    .dataframe tbody tr th:only-of-type {\n",
       "        vertical-align: middle;\n",
       "    }\n",
       "\n",
       "    .dataframe tbody tr th {\n",
       "        vertical-align: top;\n",
       "    }\n",
       "\n",
       "    .dataframe thead th {\n",
       "        text-align: right;\n",
       "    }\n",
       "</style>\n",
       "<table border=\"1\" class=\"dataframe\">\n",
       "  <thead>\n",
       "    <tr style=\"text-align: right;\">\n",
       "      <th></th>\n",
       "      <th>CLIENTNUM</th>\n",
       "      <th>Attrition_Flag</th>\n",
       "      <th>Customer_Age</th>\n",
       "      <th>Gender</th>\n",
       "      <th>Dependent_count</th>\n",
       "      <th>Education_Level</th>\n",
       "      <th>Income_Category</th>\n",
       "      <th>Credit_Limit</th>\n",
       "      <th>Total_Revolving_Bal</th>\n",
       "      <th>Avg_Purchase</th>\n",
       "      <th>Total_Trans_Amt</th>\n",
       "    </tr>\n",
       "  </thead>\n",
       "  <tbody>\n",
       "  </tbody>\n",
       "</table>\n",
       "</div>"
      ],
      "text/plain": [
       "Empty DataFrame\n",
       "Columns: [CLIENTNUM, Attrition_Flag, Customer_Age, Gender, Dependent_count, Education_Level, Income_Category, Credit_Limit, Total_Revolving_Bal, Avg_Purchase, Total_Trans_Amt]\n",
       "Index: []"
      ]
     },
     "execution_count": 197,
     "metadata": {},
     "output_type": "execute_result"
    }
   ],
   "source": [
    "df[(df['Credit_Limit'] > ub) | (df['Credit_Limit'] < lb)]"
   ]
  },
  {
   "cell_type": "code",
   "execution_count": 198,
   "id": "6d2c102a",
   "metadata": {},
   "outputs": [
    {
     "data": {
      "text/plain": [
       "31902.375"
      ]
     },
     "execution_count": 198,
     "metadata": {},
     "output_type": "execute_result"
    }
   ],
   "source": [
    "df['Credit_Limit'][84]"
   ]
  },
  {
   "cell_type": "code",
   "execution_count": 199,
   "id": "6e967ceb",
   "metadata": {},
   "outputs": [
    {
     "name": "stderr",
     "output_type": "stream",
     "text": [
      "C:\\Users\\CS-L2-PC13\\anaconda3\\lib\\site-packages\\seaborn\\_decorators.py:36: FutureWarning: Pass the following variable as a keyword arg: x. From version 0.12, the only valid positional argument will be `data`, and passing other arguments without an explicit keyword will result in an error or misinterpretation.\n",
      "  warnings.warn(\n"
     ]
    },
    {
     "data": {
      "text/plain": [
       "<AxesSubplot:xlabel='Credit_Limit'>"
      ]
     },
     "execution_count": 199,
     "metadata": {},
     "output_type": "execute_result"
    },
    {
     "data": {
      "image/png": "[encoded data removed]",
      "text/plain": [
       "<Figure size 432x288 with 1 Axes>"
      ]
     },
     "metadata": {
      "needs_background": "light"
     },
     "output_type": "display_data"
    }
   ],
   "source": [
    "sns.boxplot(df['Credit_Limit'])"
   ]
  },
  {
   "cell_type": "code",
   "execution_count": 200,
   "id": "2b34dc2c",
   "metadata": {},
   "outputs": [],
   "source": [
    "import matplotlib.pyplot as plt"
   ]
  },
  {
   "cell_type": "code",
   "execution_count": 201,
   "id": "a14a276a",
   "metadata": {},
   "outputs": [
    {
     "name": "stderr",
     "output_type": "stream",
     "text": [
      "C:\\Users\\CS-L2-PC13\\anaconda3\\lib\\site-packages\\seaborn\\_decorators.py:36: FutureWarning: Pass the following variable as a keyword arg: x. From version 0.12, the only valid positional argument will be `data`, and passing other arguments without an explicit keyword will result in an error or misinterpretation.\n",
      "  warnings.warn(\n"
     ]
    },
    {
     "data": {
      "image/png": "[encoded data removed]",
      "text/plain": [
       "<Figure size 432x288 with 1 Axes>"
      ]
     },
     "metadata": {
      "needs_background": "light"
     },
     "output_type": "display_data"
    }
   ],
   "source": [
    "sns.boxplot(df['Avg_Purchase'])\n",
    "plt.show()"
   ]
  },
  {
   "cell_type": "code",
   "execution_count": 202,
   "id": "da77b5d6",
   "metadata": {},
   "outputs": [
    {
     "data": {
      "text/plain": [
       "1.2355862582556214"
      ]
     },
     "execution_count": 202,
     "metadata": {},
     "output_type": "execute_result"
    }
   ],
   "source": [
    "df['Avg_Purchase'].skew()"
   ]
  },
  {
   "cell_type": "code",
   "execution_count": 203,
   "id": "8534d890",
   "metadata": {},
   "outputs": [
    {
     "data": {
      "text/plain": [
       "1546.825"
      ]
     },
     "execution_count": 203,
     "metadata": {},
     "output_type": "execute_result"
    }
   ],
   "source": [
    "q1=df['Avg_Purchase'].quantile(0.25)\n",
    "q1"
   ]
  },
  {
   "cell_type": "code",
   "execution_count": 204,
   "id": "8c7751b8",
   "metadata": {},
   "outputs": [
    {
     "data": {
      "text/plain": [
       "13337.25"
      ]
     },
     "execution_count": 204,
     "metadata": {},
     "output_type": "execute_result"
    }
   ],
   "source": [
    "q3=df['Avg_Purchase'].quantile(0.75)\n",
    "q3"
   ]
  },
  {
   "cell_type": "code",
   "execution_count": 205,
   "id": "cc3dd558",
   "metadata": {},
   "outputs": [
    {
     "data": {
      "text/plain": [
       "11790.425"
      ]
     },
     "execution_count": 205,
     "metadata": {},
     "output_type": "execute_result"
    }
   ],
   "source": [
    "iqr=q3-q1\n",
    "iqr"
   ]
  },
  {
   "cell_type": "code",
   "execution_count": 206,
   "id": "57b28e07",
   "metadata": {},
   "outputs": [
    {
     "data": {
      "text/plain": [
       "-16138.812499999996"
      ]
     },
     "execution_count": 206,
     "metadata": {},
     "output_type": "execute_result"
    }
   ],
   "source": [
    "ll=q1-1.5*iqr\n",
    "ll"
   ]
  },
  {
   "cell_type": "code",
   "execution_count": 207,
   "id": "7531dabc",
   "metadata": {},
   "outputs": [
    {
     "data": {
      "text/plain": [
       "31022.887499999997"
      ]
     },
     "execution_count": 207,
     "metadata": {},
     "output_type": "execute_result"
    }
   ],
   "source": [
    "ul=q3+1.5*iqr\n",
    "ul"
   ]
  },
  {
   "cell_type": "code",
   "execution_count": 208,
   "id": "9efadfdc",
   "metadata": {},
   "outputs": [
    {
     "data": {
      "text/html": [
       "<div>\n",
       "<style scoped>\n",
       "    .dataframe tbody tr th:only-of-type {\n",
       "        vertical-align: middle;\n",
       "    }\n",
       "\n",
       "    .dataframe tbody tr th {\n",
       "        vertical-align: top;\n",
       "    }\n",
       "\n",
       "    .dataframe thead th {\n",
       "        text-align: right;\n",
       "    }\n",
       "</style>\n",
       "<table border=\"1\" class=\"dataframe\">\n",
       "  <thead>\n",
       "    <tr style=\"text-align: right;\">\n",
       "      <th></th>\n",
       "      <th>CLIENTNUM</th>\n",
       "      <th>Attrition_Flag</th>\n",
       "      <th>Customer_Age</th>\n",
       "      <th>Gender</th>\n",
       "      <th>Dependent_count</th>\n",
       "      <th>Education_Level</th>\n",
       "      <th>Income_Category</th>\n",
       "      <th>Credit_Limit</th>\n",
       "      <th>Total_Revolving_Bal</th>\n",
       "      <th>Avg_Purchase</th>\n",
       "      <th>Total_Trans_Amt</th>\n",
       "    </tr>\n",
       "  </thead>\n",
       "  <tbody>\n",
       "    <tr>\n",
       "      <th>6</th>\n",
       "      <td>810347208</td>\n",
       "      <td>Existing Customer</td>\n",
       "      <td>51</td>\n",
       "      <td>M</td>\n",
       "      <td>4</td>\n",
       "      <td>Unknown</td>\n",
       "      <td>$120K +</td>\n",
       "      <td>31902.375</td>\n",
       "      <td>2264</td>\n",
       "      <td>32252.0</td>\n",
       "      <td>1330</td>\n",
       "    </tr>\n",
       "    <tr>\n",
       "      <th>40</th>\n",
       "      <td>827111283</td>\n",
       "      <td>Existing Customer</td>\n",
       "      <td>45</td>\n",
       "      <td>M</td>\n",
       "      <td>3</td>\n",
       "      <td>Graduate</td>\n",
       "      <td>$80K - $120K</td>\n",
       "      <td>31902.375</td>\n",
       "      <td>578</td>\n",
       "      <td>31848.0</td>\n",
       "      <td>1109</td>\n",
       "    </tr>\n",
       "    <tr>\n",
       "      <th>45</th>\n",
       "      <td>712661433</td>\n",
       "      <td>Existing Customer</td>\n",
       "      <td>49</td>\n",
       "      <td>M</td>\n",
       "      <td>4</td>\n",
       "      <td>Uneducated</td>\n",
       "      <td>$80K - $120K</td>\n",
       "      <td>31902.375</td>\n",
       "      <td>0</td>\n",
       "      <td>34516.0</td>\n",
       "      <td>1444</td>\n",
       "    </tr>\n",
       "    <tr>\n",
       "      <th>61</th>\n",
       "      <td>712030833</td>\n",
       "      <td>Attrited Customer</td>\n",
       "      <td>48</td>\n",
       "      <td>M</td>\n",
       "      <td>2</td>\n",
       "      <td>Graduate</td>\n",
       "      <td>$60K - $80K</td>\n",
       "      <td>31902.375</td>\n",
       "      <td>0</td>\n",
       "      <td>34516.0</td>\n",
       "      <td>691</td>\n",
       "    </tr>\n",
       "    <tr>\n",
       "      <th>65</th>\n",
       "      <td>788979258</td>\n",
       "      <td>Existing Customer</td>\n",
       "      <td>51</td>\n",
       "      <td>M</td>\n",
       "      <td>4</td>\n",
       "      <td>Uneducated</td>\n",
       "      <td>$80K - $120K</td>\n",
       "      <td>31902.375</td>\n",
       "      <td>1515</td>\n",
       "      <td>33001.0</td>\n",
       "      <td>1293</td>\n",
       "    </tr>\n",
       "    <tr>\n",
       "      <th>70</th>\n",
       "      <td>715971108</td>\n",
       "      <td>Existing Customer</td>\n",
       "      <td>51</td>\n",
       "      <td>M</td>\n",
       "      <td>4</td>\n",
       "      <td>Graduate</td>\n",
       "      <td>$120K +</td>\n",
       "      <td>31902.375</td>\n",
       "      <td>1763</td>\n",
       "      <td>32753.0</td>\n",
       "      <td>1550</td>\n",
       "    </tr>\n",
       "    <tr>\n",
       "      <th>81</th>\n",
       "      <td>715156383</td>\n",
       "      <td>Existing Customer</td>\n",
       "      <td>44</td>\n",
       "      <td>M</td>\n",
       "      <td>1</td>\n",
       "      <td>Unknown</td>\n",
       "      <td>$120K +</td>\n",
       "      <td>31902.375</td>\n",
       "      <td>1533</td>\n",
       "      <td>32983.0</td>\n",
       "      <td>1603</td>\n",
       "    </tr>\n",
       "    <tr>\n",
       "      <th>84</th>\n",
       "      <td>794543958</td>\n",
       "      <td>Existing Customer</td>\n",
       "      <td>53</td>\n",
       "      <td>M</td>\n",
       "      <td>1</td>\n",
       "      <td>Graduate</td>\n",
       "      <td>$80K - $120K</td>\n",
       "      <td>31902.375</td>\n",
       "      <td>1219</td>\n",
       "      <td>33297.0</td>\n",
       "      <td>1590</td>\n",
       "    </tr>\n",
       "  </tbody>\n",
       "</table>\n",
       "</div>"
      ],
      "text/plain": [
       "    CLIENTNUM     Attrition_Flag  Customer_Age Gender  Dependent_count  \\\n",
       "6   810347208  Existing Customer            51      M                4   \n",
       "40  827111283  Existing Customer            45      M                3   \n",
       "45  712661433  Existing Customer            49      M                4   \n",
       "61  712030833  Attrited Customer            48      M                2   \n",
       "65  788979258  Existing Customer            51      M                4   \n",
       "70  715971108  Existing Customer            51      M                4   \n",
       "81  715156383  Existing Customer            44      M                1   \n",
       "84  794543958  Existing Customer            53      M                1   \n",
       "\n",
       "   Education_Level Income_Category  Credit_Limit  Total_Revolving_Bal  \\\n",
       "6          Unknown         $120K +     31902.375                 2264   \n",
       "40        Graduate    $80K - $120K     31902.375                  578   \n",
       "45      Uneducated    $80K - $120K     31902.375                    0   \n",
       "61        Graduate     $60K - $80K     31902.375                    0   \n",
       "65      Uneducated    $80K - $120K     31902.375                 1515   \n",
       "70        Graduate         $120K +     31902.375                 1763   \n",
       "81         Unknown         $120K +     31902.375                 1533   \n",
       "84        Graduate    $80K - $120K     31902.375                 1219   \n",
       "\n",
       "    Avg_Purchase  Total_Trans_Amt  \n",
       "6        32252.0             1330  \n",
       "40       31848.0             1109  \n",
       "45       34516.0             1444  \n",
       "61       34516.0              691  \n",
       "65       33001.0             1293  \n",
       "70       32753.0             1550  \n",
       "81       32983.0             1603  \n",
       "84       33297.0             1590  "
      ]
     },
     "execution_count": 208,
     "metadata": {},
     "output_type": "execute_result"
    }
   ],
   "source": [
    "df[(df['Avg_Purchase']>ul) | (df['Avg_Purchase']<ll)]"
   ]
  },
  {
   "cell_type": "code",
   "execution_count": 209,
   "id": "67758919",
   "metadata": {},
   "outputs": [],
   "source": [
    "df['Avg_Purchase']=np.where(df['Avg_Purchase']>ul,\n",
    "                           ul,\n",
    "                           np.where(df['Avg_Purchase']<ll,\n",
    "                                   ll,\n",
    "                                   df['Avg_Purchase']))"
   ]
  },
  {
   "cell_type": "code",
   "execution_count": 210,
   "id": "a909fc1a",
   "metadata": {},
   "outputs": [
    {
     "data": {
      "text/html": [
       "<div>\n",
       "<style scoped>\n",
       "    .dataframe tbody tr th:only-of-type {\n",
       "        vertical-align: middle;\n",
       "    }\n",
       "\n",
       "    .dataframe tbody tr th {\n",
       "        vertical-align: top;\n",
       "    }\n",
       "\n",
       "    .dataframe thead th {\n",
       "        text-align: right;\n",
       "    }\n",
       "</style>\n",
       "<table border=\"1\" class=\"dataframe\">\n",
       "  <thead>\n",
       "    <tr style=\"text-align: right;\">\n",
       "      <th></th>\n",
       "      <th>CLIENTNUM</th>\n",
       "      <th>Attrition_Flag</th>\n",
       "      <th>Customer_Age</th>\n",
       "      <th>Gender</th>\n",
       "      <th>Dependent_count</th>\n",
       "      <th>Education_Level</th>\n",
       "      <th>Income_Category</th>\n",
       "      <th>Credit_Limit</th>\n",
       "      <th>Total_Revolving_Bal</th>\n",
       "      <th>Avg_Purchase</th>\n",
       "      <th>Total_Trans_Amt</th>\n",
       "    </tr>\n",
       "  </thead>\n",
       "  <tbody>\n",
       "    <tr>\n",
       "      <th>0</th>\n",
       "      <td>768805383</td>\n",
       "      <td>Existing Customer</td>\n",
       "      <td>45</td>\n",
       "      <td>M</td>\n",
       "      <td>3</td>\n",
       "      <td>High School</td>\n",
       "      <td>$60K - $80K</td>\n",
       "      <td>12691.0</td>\n",
       "      <td>777</td>\n",
       "      <td>11914.0</td>\n",
       "      <td>1144</td>\n",
       "    </tr>\n",
       "    <tr>\n",
       "      <th>1</th>\n",
       "      <td>818770008</td>\n",
       "      <td>Existing Customer</td>\n",
       "      <td>49</td>\n",
       "      <td>F</td>\n",
       "      <td>5</td>\n",
       "      <td>Graduate</td>\n",
       "      <td>Less than $40K</td>\n",
       "      <td>8256.0</td>\n",
       "      <td>864</td>\n",
       "      <td>7392.0</td>\n",
       "      <td>1291</td>\n",
       "    </tr>\n",
       "    <tr>\n",
       "      <th>2</th>\n",
       "      <td>713982108</td>\n",
       "      <td>Existing Customer</td>\n",
       "      <td>51</td>\n",
       "      <td>M</td>\n",
       "      <td>3</td>\n",
       "      <td>Graduate</td>\n",
       "      <td>$80K - $120K</td>\n",
       "      <td>3418.0</td>\n",
       "      <td>0</td>\n",
       "      <td>3418.0</td>\n",
       "      <td>1887</td>\n",
       "    </tr>\n",
       "    <tr>\n",
       "      <th>3</th>\n",
       "      <td>769911858</td>\n",
       "      <td>Existing Customer</td>\n",
       "      <td>40</td>\n",
       "      <td>F</td>\n",
       "      <td>4</td>\n",
       "      <td>High School</td>\n",
       "      <td>Less than $40K</td>\n",
       "      <td>3313.0</td>\n",
       "      <td>2517</td>\n",
       "      <td>796.0</td>\n",
       "      <td>1171</td>\n",
       "    </tr>\n",
       "    <tr>\n",
       "      <th>4</th>\n",
       "      <td>709106358</td>\n",
       "      <td>Existing Customer</td>\n",
       "      <td>40</td>\n",
       "      <td>M</td>\n",
       "      <td>3</td>\n",
       "      <td>Uneducated</td>\n",
       "      <td>$60K - $80K</td>\n",
       "      <td>4716.0</td>\n",
       "      <td>0</td>\n",
       "      <td>4716.0</td>\n",
       "      <td>816</td>\n",
       "    </tr>\n",
       "    <tr>\n",
       "      <th>...</th>\n",
       "      <td>...</td>\n",
       "      <td>...</td>\n",
       "      <td>...</td>\n",
       "      <td>...</td>\n",
       "      <td>...</td>\n",
       "      <td>...</td>\n",
       "      <td>...</td>\n",
       "      <td>...</td>\n",
       "      <td>...</td>\n",
       "      <td>...</td>\n",
       "      <td>...</td>\n",
       "    </tr>\n",
       "    <tr>\n",
       "      <th>95</th>\n",
       "      <td>719712633</td>\n",
       "      <td>Existing Customer</td>\n",
       "      <td>64</td>\n",
       "      <td>M</td>\n",
       "      <td>1</td>\n",
       "      <td>Graduate</td>\n",
       "      <td>Less than $40K</td>\n",
       "      <td>1709.0</td>\n",
       "      <td>895</td>\n",
       "      <td>814.0</td>\n",
       "      <td>1673</td>\n",
       "    </tr>\n",
       "    <tr>\n",
       "      <th>96</th>\n",
       "      <td>772629333</td>\n",
       "      <td>Existing Customer</td>\n",
       "      <td>45</td>\n",
       "      <td>M</td>\n",
       "      <td>3</td>\n",
       "      <td>Graduate</td>\n",
       "      <td>$40K - $60K</td>\n",
       "      <td>3454.0</td>\n",
       "      <td>1200</td>\n",
       "      <td>2254.0</td>\n",
       "      <td>1313</td>\n",
       "    </tr>\n",
       "    <tr>\n",
       "      <th>97</th>\n",
       "      <td>720336708</td>\n",
       "      <td>Existing Customer</td>\n",
       "      <td>53</td>\n",
       "      <td>M</td>\n",
       "      <td>3</td>\n",
       "      <td>Doctorate</td>\n",
       "      <td>$40K - $60K</td>\n",
       "      <td>3789.0</td>\n",
       "      <td>1706</td>\n",
       "      <td>2083.0</td>\n",
       "      <td>1609</td>\n",
       "    </tr>\n",
       "    <tr>\n",
       "      <th>98</th>\n",
       "      <td>802013583</td>\n",
       "      <td>Existing Customer</td>\n",
       "      <td>56</td>\n",
       "      <td>M</td>\n",
       "      <td>3</td>\n",
       "      <td>College</td>\n",
       "      <td>$120K +</td>\n",
       "      <td>9689.0</td>\n",
       "      <td>2250</td>\n",
       "      <td>7439.0</td>\n",
       "      <td>1158</td>\n",
       "    </tr>\n",
       "    <tr>\n",
       "      <th>99</th>\n",
       "      <td>711887583</td>\n",
       "      <td>Attrited Customer</td>\n",
       "      <td>47</td>\n",
       "      <td>M</td>\n",
       "      <td>2</td>\n",
       "      <td>Unknown</td>\n",
       "      <td>$80K - $120K</td>\n",
       "      <td>5449.0</td>\n",
       "      <td>1628</td>\n",
       "      <td>3821.0</td>\n",
       "      <td>836</td>\n",
       "    </tr>\n",
       "  </tbody>\n",
       "</table>\n",
       "<p>100 rows × 11 columns</p>\n",
       "</div>"
      ],
      "text/plain": [
       "    CLIENTNUM     Attrition_Flag  Customer_Age Gender  Dependent_count  \\\n",
       "0   768805383  Existing Customer            45      M                3   \n",
       "1   818770008  Existing Customer            49      F                5   \n",
       "2   713982108  Existing Customer            51      M                3   \n",
       "3   769911858  Existing Customer            40      F                4   \n",
       "4   709106358  Existing Customer            40      M                3   \n",
       "..        ...                ...           ...    ...              ...   \n",
       "95  719712633  Existing Customer            64      M                1   \n",
       "96  772629333  Existing Customer            45      M                3   \n",
       "97  720336708  Existing Customer            53      M                3   \n",
       "98  802013583  Existing Customer            56      M                3   \n",
       "99  711887583  Attrited Customer            47      M                2   \n",
       "\n",
       "   Education_Level Income_Category  Credit_Limit  Total_Revolving_Bal  \\\n",
       "0      High School     $60K - $80K       12691.0                  777   \n",
       "1         Graduate  Less than $40K        8256.0                  864   \n",
       "2         Graduate    $80K - $120K        3418.0                    0   \n",
       "3      High School  Less than $40K        3313.0                 2517   \n",
       "4       Uneducated     $60K - $80K        4716.0                    0   \n",
       "..             ...             ...           ...                  ...   \n",
       "95        Graduate  Less than $40K        1709.0                  895   \n",
       "96        Graduate     $40K - $60K        3454.0                 1200   \n",
       "97       Doctorate     $40K - $60K        3789.0                 1706   \n",
       "98         College         $120K +        9689.0                 2250   \n",
       "99         Unknown    $80K - $120K        5449.0                 1628   \n",
       "\n",
       "    Avg_Purchase  Total_Trans_Amt  \n",
       "0        11914.0             1144  \n",
       "1         7392.0             1291  \n",
       "2         3418.0             1887  \n",
       "3          796.0             1171  \n",
       "4         4716.0              816  \n",
       "..           ...              ...  \n",
       "95         814.0             1673  \n",
       "96        2254.0             1313  \n",
       "97        2083.0             1609  \n",
       "98        7439.0             1158  \n",
       "99        3821.0              836  \n",
       "\n",
       "[100 rows x 11 columns]"
      ]
     },
     "execution_count": 210,
     "metadata": {},
     "output_type": "execute_result"
    }
   ],
   "source": [
    "df"
   ]
  },
  {
   "cell_type": "code",
   "execution_count": 211,
   "id": "5a088af1",
   "metadata": {},
   "outputs": [
    {
     "name": "stderr",
     "output_type": "stream",
     "text": [
      "C:\\Users\\CS-L2-PC13\\anaconda3\\lib\\site-packages\\seaborn\\_decorators.py:36: FutureWarning: Pass the following variable as a keyword arg: x. From version 0.12, the only valid positional argument will be `data`, and passing other arguments without an explicit keyword will result in an error or misinterpretation.\n",
      "  warnings.warn(\n"
     ]
    },
    {
     "data": {
      "image/png": "[encoded data removed]",
      "text/plain": [
       "<Figure size 432x288 with 1 Axes>"
      ]
     },
     "metadata": {
      "needs_background": "light"
     },
     "output_type": "display_data"
    }
   ],
   "source": [
    "sns.boxplot(df['Avg_Purchase'])\n",
    "plt.show()"
   ]
  },
  {
   "cell_type": "code",
   "execution_count": 212,
   "id": "baff0b1f",
   "metadata": {},
   "outputs": [
    {
     "name": "stderr",
     "output_type": "stream",
     "text": [
      "C:\\Users\\CS-L2-PC13\\anaconda3\\lib\\site-packages\\seaborn\\_decorators.py:36: FutureWarning: Pass the following variable as a keyword arg: x. From version 0.12, the only valid positional argument will be `data`, and passing other arguments without an explicit keyword will result in an error or misinterpretation.\n",
      "  warnings.warn(\n"
     ]
    },
    {
     "data": {
      "image/png": "[encoded data removed]",
      "text/plain": [
       "<Figure size 432x288 with 1 Axes>"
      ]
     },
     "metadata": {
      "needs_background": "light"
     },
     "output_type": "display_data"
    }
   ],
   "source": [
    "sns.boxplot(df['Total_Trans_Amt'])\n",
    "plt.show()"
   ]
  },
  {
   "cell_type": "code",
   "execution_count": 213,
   "id": "298e3a35",
   "metadata": {},
   "outputs": [
    {
     "data": {
      "text/plain": [
       "0.1339279879698809"
      ]
     },
     "execution_count": 213,
     "metadata": {},
     "output_type": "execute_result"
    }
   ],
   "source": [
    "df['Total_Trans_Amt'].skew()"
   ]
  },
  {
   "cell_type": "code",
   "execution_count": 214,
   "id": "aa9446a2",
   "metadata": {},
   "outputs": [
    {
     "data": {
      "text/plain": [
       "1130.5"
      ]
     },
     "execution_count": 214,
     "metadata": {},
     "output_type": "execute_result"
    }
   ],
   "source": [
    "q1=df['Total_Trans_Amt'].quantile(0.25)\n",
    "q1"
   ]
  },
  {
   "cell_type": "code",
   "execution_count": 215,
   "id": "d3d37511",
   "metadata": {},
   "outputs": [
    {
     "data": {
      "text/plain": [
       "1519.75"
      ]
     },
     "execution_count": 215,
     "metadata": {},
     "output_type": "execute_result"
    }
   ],
   "source": [
    "q3=df['Total_Trans_Amt'].quantile(0.75)\n",
    "q3"
   ]
  },
  {
   "cell_type": "code",
   "execution_count": 216,
   "id": "aeabdc8e",
   "metadata": {},
   "outputs": [
    {
     "data": {
      "text/plain": [
       "389.25"
      ]
     },
     "execution_count": 216,
     "metadata": {},
     "output_type": "execute_result"
    }
   ],
   "source": [
    "iqr=q3-q1\n",
    "iqr"
   ]
  },
  {
   "cell_type": "code",
   "execution_count": 217,
   "id": "9ebc2a8b",
   "metadata": {},
   "outputs": [
    {
     "data": {
      "text/plain": [
       "546.625"
      ]
     },
     "execution_count": 217,
     "metadata": {},
     "output_type": "execute_result"
    }
   ],
   "source": [
    "ll=q1-1.5*iqr\n",
    "ll"
   ]
  },
  {
   "cell_type": "code",
   "execution_count": 218,
   "id": "cdadc80b",
   "metadata": {},
   "outputs": [
    {
     "data": {
      "text/plain": [
       "2103.625"
      ]
     },
     "execution_count": 218,
     "metadata": {},
     "output_type": "execute_result"
    }
   ],
   "source": [
    "ul=q3+1.5*iqr\n",
    "ul"
   ]
  },
  {
   "cell_type": "code",
   "execution_count": 219,
   "id": "1a27bf1f",
   "metadata": {},
   "outputs": [
    {
     "data": {
      "text/html": [
       "<div>\n",
       "<style scoped>\n",
       "    .dataframe tbody tr th:only-of-type {\n",
       "        vertical-align: middle;\n",
       "    }\n",
       "\n",
       "    .dataframe tbody tr th {\n",
       "        vertical-align: top;\n",
       "    }\n",
       "\n",
       "    .dataframe thead th {\n",
       "        text-align: right;\n",
       "    }\n",
       "</style>\n",
       "<table border=\"1\" class=\"dataframe\">\n",
       "  <thead>\n",
       "    <tr style=\"text-align: right;\">\n",
       "      <th></th>\n",
       "      <th>CLIENTNUM</th>\n",
       "      <th>Attrition_Flag</th>\n",
       "      <th>Customer_Age</th>\n",
       "      <th>Gender</th>\n",
       "      <th>Dependent_count</th>\n",
       "      <th>Education_Level</th>\n",
       "      <th>Income_Category</th>\n",
       "      <th>Credit_Limit</th>\n",
       "      <th>Total_Revolving_Bal</th>\n",
       "      <th>Avg_Purchase</th>\n",
       "      <th>Total_Trans_Amt</th>\n",
       "    </tr>\n",
       "  </thead>\n",
       "  <tbody>\n",
       "    <tr>\n",
       "      <th>77</th>\n",
       "      <td>714826758</td>\n",
       "      <td>Existing Customer</td>\n",
       "      <td>37</td>\n",
       "      <td>F</td>\n",
       "      <td>3</td>\n",
       "      <td>Uneducated</td>\n",
       "      <td>Less than $40K</td>\n",
       "      <td>7038.0</td>\n",
       "      <td>1801</td>\n",
       "      <td>5237.0</td>\n",
       "      <td>2339</td>\n",
       "    </tr>\n",
       "  </tbody>\n",
       "</table>\n",
       "</div>"
      ],
      "text/plain": [
       "    CLIENTNUM     Attrition_Flag  Customer_Age Gender  Dependent_count  \\\n",
       "77  714826758  Existing Customer            37      F                3   \n",
       "\n",
       "   Education_Level Income_Category  Credit_Limit  Total_Revolving_Bal  \\\n",
       "77      Uneducated  Less than $40K        7038.0                 1801   \n",
       "\n",
       "    Avg_Purchase  Total_Trans_Amt  \n",
       "77        5237.0             2339  "
      ]
     },
     "execution_count": 219,
     "metadata": {},
     "output_type": "execute_result"
    }
   ],
   "source": [
    "df[(df['Total_Trans_Amt']>ul) | (df['Total_Trans_Amt']<ll)]"
   ]
  },
  {
   "cell_type": "code",
   "execution_count": 220,
   "id": "c1b0248e",
   "metadata": {},
   "outputs": [],
   "source": [
    "df['Total_Trans_Amt']=np.where(df['Total_Trans_Amt']>ul,\n",
    "                              ul,\n",
    "                              np.where(df['Total_Trans_Amt']<ll,\n",
    "                                      ll,\n",
    "                                      df['Total_Trans_Amt']))"
   ]
  },
  {
   "cell_type": "code",
   "execution_count": 221,
   "id": "1c04936a",
   "metadata": {},
   "outputs": [
    {
     "data": {
      "text/html": [
       "<div>\n",
       "<style scoped>\n",
       "    .dataframe tbody tr th:only-of-type {\n",
       "        vertical-align: middle;\n",
       "    }\n",
       "\n",
       "    .dataframe tbody tr th {\n",
       "        vertical-align: top;\n",
       "    }\n",
       "\n",
       "    .dataframe thead th {\n",
       "        text-align: right;\n",
       "    }\n",
       "</style>\n",
       "<table border=\"1\" class=\"dataframe\">\n",
       "  <thead>\n",
       "    <tr style=\"text-align: right;\">\n",
       "      <th></th>\n",
       "      <th>CLIENTNUM</th>\n",
       "      <th>Attrition_Flag</th>\n",
       "      <th>Customer_Age</th>\n",
       "      <th>Gender</th>\n",
       "      <th>Dependent_count</th>\n",
       "      <th>Education_Level</th>\n",
       "      <th>Income_Category</th>\n",
       "      <th>Credit_Limit</th>\n",
       "      <th>Total_Revolving_Bal</th>\n",
       "      <th>Avg_Purchase</th>\n",
       "      <th>Total_Trans_Amt</th>\n",
       "    </tr>\n",
       "  </thead>\n",
       "  <tbody>\n",
       "  </tbody>\n",
       "</table>\n",
       "</div>"
      ],
      "text/plain": [
       "Empty DataFrame\n",
       "Columns: [CLIENTNUM, Attrition_Flag, Customer_Age, Gender, Dependent_count, Education_Level, Income_Category, Credit_Limit, Total_Revolving_Bal, Avg_Purchase, Total_Trans_Amt]\n",
       "Index: []"
      ]
     },
     "execution_count": 221,
     "metadata": {},
     "output_type": "execute_result"
    }
   ],
   "source": [
    "df[(df['Total_Trans_Amt']>ul) | (df['Total_Trans_Amt']<ll)]"
   ]
  },
  {
   "cell_type": "code",
   "execution_count": 222,
   "id": "dd0616f7",
   "metadata": {},
   "outputs": [
    {
     "name": "stderr",
     "output_type": "stream",
     "text": [
      "C:\\Users\\CS-L2-PC13\\anaconda3\\lib\\site-packages\\seaborn\\_decorators.py:36: FutureWarning: Pass the following variable as a keyword arg: x. From version 0.12, the only valid positional argument will be `data`, and passing other arguments without an explicit keyword will result in an error or misinterpretation.\n",
      "  warnings.warn(\n"
     ]
    },
    {
     "data": {
      "image/png": "[encoded data removed]",
      "text/plain": [
       "<Figure size 432x288 with 1 Axes>"
      ]
     },
     "metadata": {
      "needs_background": "light"
     },
     "output_type": "display_data"
    }
   ],
   "source": [
    "sns.boxplot(df['Total_Trans_Amt'])\n",
    "plt.show()"
   ]
  },
  {
   "cell_type": "code",
   "execution_count": 223,
   "id": "7686dbed",
   "metadata": {},
   "outputs": [
    {
     "data": {
      "text/html": [
       "<div>\n",
       "<style scoped>\n",
       "    .dataframe tbody tr th:only-of-type {\n",
       "        vertical-align: middle;\n",
       "    }\n",
       "\n",
       "    .dataframe tbody tr th {\n",
       "        vertical-align: top;\n",
       "    }\n",
       "\n",
       "    .dataframe thead th {\n",
       "        text-align: right;\n",
       "    }\n",
       "</style>\n",
       "<table border=\"1\" class=\"dataframe\">\n",
       "  <thead>\n",
       "    <tr style=\"text-align: right;\">\n",
       "      <th></th>\n",
       "      <th>CLIENTNUM</th>\n",
       "      <th>Attrition_Flag</th>\n",
       "      <th>Customer_Age</th>\n",
       "      <th>Gender</th>\n",
       "      <th>Dependent_count</th>\n",
       "      <th>Education_Level</th>\n",
       "      <th>Income_Category</th>\n",
       "      <th>Credit_Limit</th>\n",
       "      <th>Total_Revolving_Bal</th>\n",
       "      <th>Avg_Purchase</th>\n",
       "      <th>Total_Trans_Amt</th>\n",
       "    </tr>\n",
       "  </thead>\n",
       "  <tbody>\n",
       "    <tr>\n",
       "      <th>0</th>\n",
       "      <td>768805383</td>\n",
       "      <td>Existing Customer</td>\n",
       "      <td>45</td>\n",
       "      <td>M</td>\n",
       "      <td>3</td>\n",
       "      <td>High School</td>\n",
       "      <td>$60K - $80K</td>\n",
       "      <td>12691.0</td>\n",
       "      <td>777</td>\n",
       "      <td>11914.0</td>\n",
       "      <td>1144.0</td>\n",
       "    </tr>\n",
       "    <tr>\n",
       "      <th>1</th>\n",
       "      <td>818770008</td>\n",
       "      <td>Existing Customer</td>\n",
       "      <td>49</td>\n",
       "      <td>F</td>\n",
       "      <td>5</td>\n",
       "      <td>Graduate</td>\n",
       "      <td>Less than $40K</td>\n",
       "      <td>8256.0</td>\n",
       "      <td>864</td>\n",
       "      <td>7392.0</td>\n",
       "      <td>1291.0</td>\n",
       "    </tr>\n",
       "    <tr>\n",
       "      <th>2</th>\n",
       "      <td>713982108</td>\n",
       "      <td>Existing Customer</td>\n",
       "      <td>51</td>\n",
       "      <td>M</td>\n",
       "      <td>3</td>\n",
       "      <td>Graduate</td>\n",
       "      <td>$80K - $120K</td>\n",
       "      <td>3418.0</td>\n",
       "      <td>0</td>\n",
       "      <td>3418.0</td>\n",
       "      <td>1887.0</td>\n",
       "    </tr>\n",
       "    <tr>\n",
       "      <th>3</th>\n",
       "      <td>769911858</td>\n",
       "      <td>Existing Customer</td>\n",
       "      <td>40</td>\n",
       "      <td>F</td>\n",
       "      <td>4</td>\n",
       "      <td>High School</td>\n",
       "      <td>Less than $40K</td>\n",
       "      <td>3313.0</td>\n",
       "      <td>2517</td>\n",
       "      <td>796.0</td>\n",
       "      <td>1171.0</td>\n",
       "    </tr>\n",
       "    <tr>\n",
       "      <th>4</th>\n",
       "      <td>709106358</td>\n",
       "      <td>Existing Customer</td>\n",
       "      <td>40</td>\n",
       "      <td>M</td>\n",
       "      <td>3</td>\n",
       "      <td>Uneducated</td>\n",
       "      <td>$60K - $80K</td>\n",
       "      <td>4716.0</td>\n",
       "      <td>0</td>\n",
       "      <td>4716.0</td>\n",
       "      <td>816.0</td>\n",
       "    </tr>\n",
       "    <tr>\n",
       "      <th>...</th>\n",
       "      <td>...</td>\n",
       "      <td>...</td>\n",
       "      <td>...</td>\n",
       "      <td>...</td>\n",
       "      <td>...</td>\n",
       "      <td>...</td>\n",
       "      <td>...</td>\n",
       "      <td>...</td>\n",
       "      <td>...</td>\n",
       "      <td>...</td>\n",
       "      <td>...</td>\n",
       "    </tr>\n",
       "    <tr>\n",
       "      <th>95</th>\n",
       "      <td>719712633</td>\n",
       "      <td>Existing Customer</td>\n",
       "      <td>64</td>\n",
       "      <td>M</td>\n",
       "      <td>1</td>\n",
       "      <td>Graduate</td>\n",
       "      <td>Less than $40K</td>\n",
       "      <td>1709.0</td>\n",
       "      <td>895</td>\n",
       "      <td>814.0</td>\n",
       "      <td>1673.0</td>\n",
       "    </tr>\n",
       "    <tr>\n",
       "      <th>96</th>\n",
       "      <td>772629333</td>\n",
       "      <td>Existing Customer</td>\n",
       "      <td>45</td>\n",
       "      <td>M</td>\n",
       "      <td>3</td>\n",
       "      <td>Graduate</td>\n",
       "      <td>$40K - $60K</td>\n",
       "      <td>3454.0</td>\n",
       "      <td>1200</td>\n",
       "      <td>2254.0</td>\n",
       "      <td>1313.0</td>\n",
       "    </tr>\n",
       "    <tr>\n",
       "      <th>97</th>\n",
       "      <td>720336708</td>\n",
       "      <td>Existing Customer</td>\n",
       "      <td>53</td>\n",
       "      <td>M</td>\n",
       "      <td>3</td>\n",
       "      <td>Doctorate</td>\n",
       "      <td>$40K - $60K</td>\n",
       "      <td>3789.0</td>\n",
       "      <td>1706</td>\n",
       "      <td>2083.0</td>\n",
       "      <td>1609.0</td>\n",
       "    </tr>\n",
       "    <tr>\n",
       "      <th>98</th>\n",
       "      <td>802013583</td>\n",
       "      <td>Existing Customer</td>\n",
       "      <td>56</td>\n",
       "      <td>M</td>\n",
       "      <td>3</td>\n",
       "      <td>College</td>\n",
       "      <td>$120K +</td>\n",
       "      <td>9689.0</td>\n",
       "      <td>2250</td>\n",
       "      <td>7439.0</td>\n",
       "      <td>1158.0</td>\n",
       "    </tr>\n",
       "    <tr>\n",
       "      <th>99</th>\n",
       "      <td>711887583</td>\n",
       "      <td>Attrited Customer</td>\n",
       "      <td>47</td>\n",
       "      <td>M</td>\n",
       "      <td>2</td>\n",
       "      <td>Unknown</td>\n",
       "      <td>$80K - $120K</td>\n",
       "      <td>5449.0</td>\n",
       "      <td>1628</td>\n",
       "      <td>3821.0</td>\n",
       "      <td>836.0</td>\n",
       "    </tr>\n",
       "  </tbody>\n",
       "</table>\n",
       "<p>100 rows × 11 columns</p>\n",
       "</div>"
      ],
      "text/plain": [
       "    CLIENTNUM     Attrition_Flag  Customer_Age Gender  Dependent_count  \\\n",
       "0   768805383  Existing Customer            45      M                3   \n",
       "1   818770008  Existing Customer            49      F                5   \n",
       "2   713982108  Existing Customer            51      M                3   \n",
       "3   769911858  Existing Customer            40      F                4   \n",
       "4   709106358  Existing Customer            40      M                3   \n",
       "..        ...                ...           ...    ...              ...   \n",
       "95  719712633  Existing Customer            64      M                1   \n",
       "96  772629333  Existing Customer            45      M                3   \n",
       "97  720336708  Existing Customer            53      M                3   \n",
       "98  802013583  Existing Customer            56      M                3   \n",
       "99  711887583  Attrited Customer            47      M                2   \n",
       "\n",
       "   Education_Level Income_Category  Credit_Limit  Total_Revolving_Bal  \\\n",
       "0      High School     $60K - $80K       12691.0                  777   \n",
       "1         Graduate  Less than $40K        8256.0                  864   \n",
       "2         Graduate    $80K - $120K        3418.0                    0   \n",
       "3      High School  Less than $40K        3313.0                 2517   \n",
       "4       Uneducated     $60K - $80K        4716.0                    0   \n",
       "..             ...             ...           ...                  ...   \n",
       "95        Graduate  Less than $40K        1709.0                  895   \n",
       "96        Graduate     $40K - $60K        3454.0                 1200   \n",
       "97       Doctorate     $40K - $60K        3789.0                 1706   \n",
       "98         College         $120K +        9689.0                 2250   \n",
       "99         Unknown    $80K - $120K        5449.0                 1628   \n",
       "\n",
       "    Avg_Purchase  Total_Trans_Amt  \n",
       "0        11914.0           1144.0  \n",
       "1         7392.0           1291.0  \n",
       "2         3418.0           1887.0  \n",
       "3          796.0           1171.0  \n",
       "4         4716.0            816.0  \n",
       "..           ...              ...  \n",
       "95         814.0           1673.0  \n",
       "96        2254.0           1313.0  \n",
       "97        2083.0           1609.0  \n",
       "98        7439.0           1158.0  \n",
       "99        3821.0            836.0  \n",
       "\n",
       "[100 rows x 11 columns]"
      ]
     },
     "execution_count": 223,
     "metadata": {},
     "output_type": "execute_result"
    }
   ],
   "source": [
    "df"
   ]
  },
  {
   "cell_type": "code",
   "execution_count": 224,
   "id": "4f0d2ccc",
   "metadata": {},
   "outputs": [
    {
     "data": {
      "text/html": [
       "<div>\n",
       "<style scoped>\n",
       "    .dataframe tbody tr th:only-of-type {\n",
       "        vertical-align: middle;\n",
       "    }\n",
       "\n",
       "    .dataframe tbody tr th {\n",
       "        vertical-align: top;\n",
       "    }\n",
       "\n",
       "    .dataframe thead th {\n",
       "        text-align: right;\n",
       "    }\n",
       "</style>\n",
       "<table border=\"1\" class=\"dataframe\">\n",
       "  <thead>\n",
       "    <tr style=\"text-align: right;\">\n",
       "      <th></th>\n",
       "      <th>Credit_Limit</th>\n",
       "      <th>Total_Revolving_Bal</th>\n",
       "      <th>Avg_Purchase</th>\n",
       "      <th>Total_Trans_Amt</th>\n",
       "    </tr>\n",
       "  </thead>\n",
       "  <tbody>\n",
       "    <tr>\n",
       "      <th>0</th>\n",
       "      <td>12691.0</td>\n",
       "      <td>777</td>\n",
       "      <td>11914.0</td>\n",
       "      <td>1144.0</td>\n",
       "    </tr>\n",
       "    <tr>\n",
       "      <th>1</th>\n",
       "      <td>8256.0</td>\n",
       "      <td>864</td>\n",
       "      <td>7392.0</td>\n",
       "      <td>1291.0</td>\n",
       "    </tr>\n",
       "    <tr>\n",
       "      <th>2</th>\n",
       "      <td>3418.0</td>\n",
       "      <td>0</td>\n",
       "      <td>3418.0</td>\n",
       "      <td>1887.0</td>\n",
       "    </tr>\n",
       "    <tr>\n",
       "      <th>3</th>\n",
       "      <td>3313.0</td>\n",
       "      <td>2517</td>\n",
       "      <td>796.0</td>\n",
       "      <td>1171.0</td>\n",
       "    </tr>\n",
       "    <tr>\n",
       "      <th>4</th>\n",
       "      <td>4716.0</td>\n",
       "      <td>0</td>\n",
       "      <td>4716.0</td>\n",
       "      <td>816.0</td>\n",
       "    </tr>\n",
       "    <tr>\n",
       "      <th>...</th>\n",
       "      <td>...</td>\n",
       "      <td>...</td>\n",
       "      <td>...</td>\n",
       "      <td>...</td>\n",
       "    </tr>\n",
       "    <tr>\n",
       "      <th>95</th>\n",
       "      <td>1709.0</td>\n",
       "      <td>895</td>\n",
       "      <td>814.0</td>\n",
       "      <td>1673.0</td>\n",
       "    </tr>\n",
       "    <tr>\n",
       "      <th>96</th>\n",
       "      <td>3454.0</td>\n",
       "      <td>1200</td>\n",
       "      <td>2254.0</td>\n",
       "      <td>1313.0</td>\n",
       "    </tr>\n",
       "    <tr>\n",
       "      <th>97</th>\n",
       "      <td>3789.0</td>\n",
       "      <td>1706</td>\n",
       "      <td>2083.0</td>\n",
       "      <td>1609.0</td>\n",
       "    </tr>\n",
       "    <tr>\n",
       "      <th>98</th>\n",
       "      <td>9689.0</td>\n",
       "      <td>2250</td>\n",
       "      <td>7439.0</td>\n",
       "      <td>1158.0</td>\n",
       "    </tr>\n",
       "    <tr>\n",
       "      <th>99</th>\n",
       "      <td>5449.0</td>\n",
       "      <td>1628</td>\n",
       "      <td>3821.0</td>\n",
       "      <td>836.0</td>\n",
       "    </tr>\n",
       "  </tbody>\n",
       "</table>\n",
       "<p>100 rows × 4 columns</p>\n",
       "</div>"
      ],
      "text/plain": [
       "    Credit_Limit  Total_Revolving_Bal  Avg_Purchase  Total_Trans_Amt\n",
       "0        12691.0                  777       11914.0           1144.0\n",
       "1         8256.0                  864        7392.0           1291.0\n",
       "2         3418.0                    0        3418.0           1887.0\n",
       "3         3313.0                 2517         796.0           1171.0\n",
       "4         4716.0                    0        4716.0            816.0\n",
       "..           ...                  ...           ...              ...\n",
       "95        1709.0                  895         814.0           1673.0\n",
       "96        3454.0                 1200        2254.0           1313.0\n",
       "97        3789.0                 1706        2083.0           1609.0\n",
       "98        9689.0                 2250        7439.0           1158.0\n",
       "99        5449.0                 1628        3821.0            836.0\n",
       "\n",
       "[100 rows x 4 columns]"
      ]
     },
     "execution_count": 224,
     "metadata": {},
     "output_type": "execute_result"
    }
   ],
   "source": [
    "df1=df.iloc[:,7:11]\n",
    "df1"
   ]
  },
  {
   "cell_type": "code",
   "execution_count": 225,
   "id": "209434cf",
   "metadata": {},
   "outputs": [
    {
     "data": {
      "text/plain": [
       "MinMaxScaler()"
      ]
     },
     "execution_count": 225,
     "metadata": {},
     "output_type": "execute_result"
    }
   ],
   "source": [
    "from sklearn.preprocessing import MinMaxScaler\n",
    "sl=MinMaxScaler()\n",
    "sl.fit(df1)"
   ]
  },
  {
   "cell_type": "code",
   "execution_count": 226,
   "id": "e0ceb0d8",
   "metadata": {
    "collapsed": true
   },
   "outputs": [
    {
     "data": {
      "text/plain": [
       "array([[0.36937606, 0.30870083, 0.38214702, 0.36094231],\n",
       "       [0.22379475, 0.34326579, 0.23593593, 0.45883626],\n",
       "       [0.06498474, 0.        , 0.10744348, 0.85573962],\n",
       "       [0.06153806, 1.        , 0.02266563, 0.37892283],\n",
       "       [0.1075923 , 0.        , 0.14941208, 0.14251228],\n",
       "       [0.08441747, 0.49543107, 0.08626519, 0.32364938],\n",
       "       [1.        , 0.89948351, 1.        , 0.48480812],\n",
       "       [0.90738682, 0.55462853, 0.89207515, 0.62332473],\n",
       "       [0.68650369, 1.        , 0.63825892, 0.49812703],\n",
       "       [0.33540162, 0.66626937, 0.31958212, 0.55872804],\n",
       "       [0.17429382, 0.58283671, 0.16768038, 0.39890119],\n",
       "       [0.25133538, 0.63051251, 0.23968659, 0.474153  ],\n",
       "       [0.33852004, 0.        , 0.37687669, 0.62399068],\n",
       "       [0.23334698, 0.66189909, 0.21941363, 0.47215517],\n",
       "       [0.03275005, 0.27016289, 0.05370558, 0.64463498],\n",
       "       [0.09177039, 0.38617402, 0.10239949, 0.49679514],\n",
       "       [0.94960047, 0.93841875, 0.9024218 , 0.71189545],\n",
       "       [0.39708082, 0.5129122 , 0.392817  , 0.28369267],\n",
       "       [0.05759899, 1.        , 0.01878563, 0.4888038 ],\n",
       "       [0.42777271, 0.45967422, 0.42738128, 0.40289686],\n",
       "       [0.64143421, 0.71513707, 0.61704829, 0.38358445],\n",
       "       [0.        , 0.        , 0.04343329, 0.05993507],\n",
       "       [0.09951722, 0.27016289, 0.11947146, 0.21909598],\n",
       "       [0.03458828, 0.61978546, 0.02706295, 0.3489553 ],\n",
       "       [0.35381675, 0.        , 0.391944  , 0.33830017],\n",
       "       [0.20777588, 0.66309098, 0.194129  , 0.29900941],\n",
       "       [0.43807994, 0.54588796, 0.4305176 , 0.39623741],\n",
       "       [0.2881    , 0.40127135, 0.29455617, 0.86706068],\n",
       "       [0.28432506, 0.        , 0.32349445, 0.29967535],\n",
       "       [0.10985727, 0.54112038, 0.10760515, 0.29501374],\n",
       "       [0.04315575, 0.71950735, 0.02738629, 0.29035212],\n",
       "       [0.03324243, 0.67143425, 0.02153396, 0.66194955],\n",
       "       [0.24568939, 1.        , 0.20405532, 0.65728794],\n",
       "       [0.03977472, 0.59197457, 0.03443494, 0.53874969],\n",
       "       [0.36491179, 0.67381804, 0.34803541, 0.45883626],\n",
       "       [0.06833295, 0.76042908, 0.04885558, 0.53608591],\n",
       "       [0.05241255, 0.91299166, 0.02075796, 0.84908016],\n",
       "       [0.45938372, 0.        , 0.49592783, 0.24240406],\n",
       "       [0.07332243, 0.35200636, 0.08700885, 0.57404478],\n",
       "       [0.21151799, 0.24036551, 0.23221761, 0.06792641],\n",
       "       [1.        , 0.22963846, 1.        , 0.33763423],\n",
       "       [0.15646955, 0.87564561, 0.12629379, 0.49612919],\n",
       "       [0.52080032, 1.        , 0.47504053, 0.76850079],\n",
       "       [0.08100361, 0.        , 0.12322212, 0.76850079],\n",
       "       [0.27546216, 0.81644815, 0.24831958, 0.2930159 ],\n",
       "       [1.        , 0.        , 1.        , 0.56072588],\n",
       "       [0.02772774, 0.56813667, 0.02450863, 0.75851161],\n",
       "       [0.03642651, 0.80254271, 0.01400031, 0.74386082],\n",
       "       [0.59150655, 0.57012316, 0.57967102, 0.40955631],\n",
       "       [0.10854424, 0.4874851 , 0.11067681, 0.35827853],\n",
       "       [0.0388556 , 0.61541518, 0.03162195, 0.84974611],\n",
       "       [0.        , 0.32101708, 0.017308  , 0.06859236],\n",
       "       [0.05687683, 0.86571315, 0.02900295, 0.89503038],\n",
       "       [0.60151835, 1.        , 0.55454806, 0.54074752],\n",
       "       [0.4704131 , 0.        , 0.50679181, 0.        ],\n",
       "       [0.06104567, 0.87405642, 0.03243028, 0.29967535],\n",
       "       [0.0447642 , 0.93881605, 0.01112265, 0.46150004],\n",
       "       [0.09912331, 0.74692094, 0.08028353, 0.54740698],\n",
       "       [0.15870168, 0.38855781, 0.16813305, 0.50412054],\n",
       "       [0.06229305, 0.69646404, 0.04811192, 0.376925  ],\n",
       "       [0.0655756 , 0.80095352, 0.04284159, 0.32964289],\n",
       "       [1.        , 0.        , 1.        , 0.05926913],\n",
       "       [0.14731122, 0.49702026, 0.14808642, 0.47548489],\n",
       "       [0.7391887 , 0.83512118, 0.70357214, 0.44884708],\n",
       "       [0.43643866, 0.64918554, 0.42049429, 0.45750437],\n",
       "       [1.        , 0.60190703, 1.        , 0.46016815],\n",
       "       [0.16891043, 0.72189114, 0.15106108, 0.50012486],\n",
       "       [0.02119546, 0.58323401, 0.01684564, 0.35295097],\n",
       "       [0.00816371, 0.4398093 , 0.01568164, 0.7112295 ],\n",
       "       [0.78327341, 0.52840683, 0.77195702, 0.15649713],\n",
       "       [1.        , 0.70043703, 1.        , 0.63131607],\n",
       "       [0.02552843, 0.41080652, 0.03514627, 0.62465662],\n",
       "       [0.04830936, 0.80651569, 0.02538162, 0.43552818],\n",
       "       [0.70491883, 0.60707191, 0.6883755 , 0.52742862],\n",
       "       [0.75084177, 0.76758045, 0.72054711, 0.49213352],\n",
       "       [0.12584331, 0.60190703, 0.11840447, 0.45750437],\n",
       "       [0.18256586, 1.        , 0.14187843, 0.33963207],\n",
       "       [0.18381323, 0.71553437, 0.16625772, 1.        ],\n",
       "       [0.03603261, 0.72427493, 0.01998197, 0.57670857],\n",
       "       [0.90157669, 0.75446961, 0.87008852, 0.48747191],\n",
       "       [0.23400349, 0.67342074, 0.21912263, 0.56938317],\n",
       "       [1.        , 0.6090584 , 1.        , 0.66661117],\n",
       "       [0.02362455, 0.        , 0.06670355, 0.00865729],\n",
       "       [0.2854083 , 0.56297179, 0.27874519, 0.31033048],\n",
       "       [1.        , 0.48430671, 1.        , 0.65795388],\n",
       "       [0.05405383, 0.75883989, 0.03491994, 0.61866311],\n",
       "       [0.57778547, 0.81684545, 0.54607674, 0.40622659],\n",
       "       [0.08494267, 0.        , 0.12710212, 0.42287522],\n",
       "       [0.37150972, 0.33253874, 0.38230869, 0.54008158],\n",
       "       [0.12564636, 0.        , 0.16719538, 0.60867394],\n",
       "       [0.27874472, 0.        , 0.31799779, 0.44884708],\n",
       "       [0.98029236, 0.77592372, 0.94587773, 0.64063931],\n",
       "       [0.16864783, 0.        , 0.20955198, 0.57471073],\n",
       "       [0.04023428, 0.80929678, 0.0172013 , 0.45550653],\n",
       "       [0.03599978, 0.96940803, 0.        , 0.47282111],\n",
       "       [0.00888588, 0.35558204, 0.02324763, 0.71322734],\n",
       "       [0.06616646, 0.47675805, 0.06980755, 0.47348706],\n",
       "       [0.07716302, 0.67779102, 0.06427856, 0.67060684],\n",
       "       [0.27083376, 0.89392133, 0.2374556 , 0.37026555],\n",
       "       [0.13165343, 0.64680175, 0.1204738 , 0.15583118]])"
      ]
     },
     "execution_count": 226,
     "metadata": {},
     "output_type": "execute_result"
    }
   ],
   "source": [
    "normal=sl.fit_transform(df1)\n",
    "normal"
   ]
  },
  {
   "cell_type": "code",
   "execution_count": 227,
   "id": "5ecb70f3",
   "metadata": {},
   "outputs": [
    {
     "data": {
      "text/plain": [
       "StandardScaler()"
      ]
     },
     "execution_count": 227,
     "metadata": {},
     "output_type": "execute_result"
    }
   ],
   "source": [
    "from sklearn.preprocessing import StandardScaler\n",
    "sl=StandardScaler()\n",
    "sl.fit(df1)"
   ]
  },
  {
   "cell_type": "code",
   "execution_count": 228,
   "id": "85632653",
   "metadata": {
    "collapsed": true
   },
   "outputs": [
    {
     "data": {
      "text/plain": [
       "array([[ 2.08598098e-01, -7.84893636e-01,  2.68457837e-01,\n",
       "        -5.65616282e-01],\n",
       "       [-2.54562419e-01, -6.71407494e-01, -2.01928995e-01,\n",
       "        -7.65137667e-02],\n",
       "       [-7.59809450e-01, -1.79844228e+00, -6.15311849e-01,\n",
       "         1.90651412e+00],\n",
       "       [-7.70774919e-01,  1.48482920e+00, -8.88057155e-01,\n",
       "        -4.75781126e-01],\n",
       "       [-6.24255369e-01, -1.79844228e+00, -4.80291481e-01,\n",
       "        -1.65694706e+00],\n",
       "       [-6.97985093e-01, -1.71807583e-01, -6.83446165e-01,\n",
       "        -7.51941049e-01],\n",
       "       [ 2.21490033e+00,  1.15480628e+00,  2.25619978e+00,\n",
       "         5.32481250e-02],\n",
       "       [ 1.92025557e+00,  2.25537401e-02,  1.90898652e+00,\n",
       "         7.45311547e-01],\n",
       "       [ 1.21752566e+00,  1.48482920e+00,  1.09241496e+00,\n",
       "         1.19792685e-01],\n",
       "       [ 1.00509905e-01,  3.89100934e-01,  6.71755460e-02,\n",
       "         4.22570432e-01],\n",
       "       [-4.12047438e-01,  1.15168867e-01, -4.21519132e-01,\n",
       "        -3.75964286e-01],\n",
       "       [-1.66943102e-01,  2.71701477e-01, -1.89862459e-01,\n",
       "         1.24771050e-05],\n",
       "       [ 1.10431044e-01, -1.79844228e+00,  2.51502274e-01,\n",
       "         7.48638775e-01],\n",
       "       [-2.24172406e-01,  3.74752111e-01, -2.55084163e-01,\n",
       "        -9.96920687e-03],\n",
       "       [-8.62362692e-01, -9.11424162e-01, -7.88196173e-01,\n",
       "         8.51782843e-01],\n",
       "       [-6.74592092e-01, -5.30528146e-01, -6.31539259e-01,\n",
       "         1.13138229e-01],\n",
       "       [ 2.05455645e+00,  1.28264125e+00,  1.94227352e+00,\n",
       "         1.18783287e+00],\n",
       "       [ 2.96739581e-01, -1.14412293e-01,  3.02785049e-01,\n",
       "        -9.51574729e-01],\n",
       "       [-7.83306884e-01,  1.48482920e+00, -9.00539778e-01,\n",
       "         7.32114929e-02],\n",
       "       [ 3.94384470e-01, -2.89207040e-01,  4.13984413e-01,\n",
       "        -3.56000918e-01],\n",
       "       [ 1.07413911e+00,  5.49546858e-01,  1.02417662e+00,\n",
       "        -4.52490530e-01],\n",
       "       [-9.66555533e-01, -1.79844228e+00, -8.21243917e-01,\n",
       "        -2.06952333e+00],\n",
       "       [-6.49945896e-01, -9.11424162e-01, -5.76615719e-01,\n",
       "        -1.27431584e+00],\n",
       "       [-8.56514442e-01,  2.36481640e-01, -8.73910183e-01,\n",
       "        -6.25506386e-01],\n",
       "       [ 1.59096839e-01, -1.79844228e+00,  2.99976459e-01,\n",
       "        -6.78742033e-01],\n",
       "       [-3.05525741e-01,  3.78665426e-01, -3.36429254e-01,\n",
       "        -8.75048485e-01],\n",
       "       [ 4.27176444e-01, -6.14390492e-03,  4.24074533e-01,\n",
       "        -3.89273198e-01],\n",
       "       [-4.99781006e-02, -4.80959486e-01, -1.33373703e-02,\n",
       "         1.96307699e+00],\n",
       "       [-6.19878998e-02, -1.79844228e+00,  7.97621906e-02,\n",
       "        -8.71721257e-01],\n",
       "       [-6.17049489e-01, -2.17971658e-02, -6.14791740e-01,\n",
       "        -8.95011853e-01],\n",
       "       [-8.29257420e-01,  5.63895681e-01, -8.72869964e-01,\n",
       "        -9.18302449e-01],\n",
       "       [-8.60796197e-01,  4.06058633e-01, -8.91697920e-01,\n",
       "         9.38290771e-01],\n",
       "       [-1.84905584e-01,  1.48482920e+00, -3.04494544e-01,\n",
       "         9.15000175e-01],\n",
       "       [-8.40014022e-01,  1.45170951e-01, -8.50193199e-01,\n",
       "         3.22753592e-01],\n",
       "       [ 1.94395205e-01,  4.13885263e-01,  1.58714779e-01,\n",
       "        -7.65137667e-02],\n",
       "       [-7.49157281e-01,  6.98252837e-01, -8.03799452e-01,\n",
       "         3.09444680e-01],\n",
       "       [-7.99807303e-01,  1.19915719e+00, -8.94194444e-01,\n",
       "         1.87324184e+00],\n",
       "       [ 4.94953484e-01, -1.79844228e+00,  6.34510747e-01,\n",
       "        -1.15786286e+00],\n",
       "       [-7.33283459e-01, -6.42709849e-01, -6.81053662e-01,\n",
       "         4.99096676e-01],\n",
       "       [-2.93620375e-01, -1.00925704e+00, -2.13891508e-01,\n",
       "        -2.02959660e+00],\n",
       "       [ 2.21490033e+00, -1.04447688e+00,  2.25619978e+00,\n",
       "        -6.82069261e-01],\n",
       "       [-4.68754577e-01,  1.07653998e+00, -5.54667107e-01,\n",
       "         1.09811001e-01],\n",
       "       [ 6.90347696e-01,  1.48482920e+00,  5.67312628e-01,\n",
       "         1.47064725e+00],\n",
       "       [-7.08846128e-01, -1.79844228e+00, -5.64549184e-01,\n",
       "         1.47064725e+00],\n",
       "       [-9.01848197e-02,  8.82178653e-01, -1.62088624e-01,\n",
       "        -9.04993537e-01],\n",
       "       [ 2.21490033e+00, -1.79844228e+00,  2.25619978e+00,\n",
       "         4.32552116e-01],\n",
       "       [-8.78340947e-01,  6.69046461e-02, -8.82127909e-01,\n",
       "         1.42073883e+00],\n",
       "       [-8.50666192e-01,  8.36523309e-01, -9.15935012e-01,\n",
       "         1.34753981e+00],\n",
       "       [ 9.15296457e-01,  7.34268381e-02,  9.03927353e-01,\n",
       "        -3.22728638e-01],\n",
       "       [-6.21226811e-01, -1.97896351e-01, -6.04909664e-01,\n",
       "        -5.78925194e-01],\n",
       "       [-8.42938147e-01,  2.22132817e-01, -8.59243101e-01,\n",
       "         1.87656907e+00],\n",
       "       [-9.66555533e-01, -7.44456045e-01, -9.05293576e-01,\n",
       "        -2.02626937e+00],\n",
       "       [-7.85604410e-01,  1.04392902e+00, -8.67668871e-01,\n",
       "         2.10282057e+00],\n",
       "       [ 9.47148533e-01,  1.48482920e+00,  8.23102372e-01,\n",
       "         3.32735276e-01],\n",
       "       [ 5.30042985e-01, -1.79844228e+00,  6.69462091e-01,\n",
       "        -2.36897385e+00],\n",
       "       [-7.72341415e-01,  1.07132222e+00, -8.56642555e-01,\n",
       "        -8.71721257e-01],\n",
       "       [-8.24140201e-01,  1.28394568e+00, -9.25192957e-01,\n",
       "        -6.32048548e-02],\n",
       "       [-6.51199092e-01,  6.53901931e-01, -7.02690208e-01,\n",
       "         3.66007556e-01],\n",
       "       [-4.61653131e-01, -5.22701516e-01, -4.20062826e-01,\n",
       "         1.49737737e-01],\n",
       "       [-7.68372959e-01,  4.88238253e-01, -8.06191955e-01,\n",
       "        -4.85762810e-01],\n",
       "       [-7.57929656e-01,  8.31305555e-01, -8.23147517e-01,\n",
       "        -7.21995997e-01],\n",
       "       [ 2.21490033e+00, -1.79844228e+00,  2.25619978e+00,\n",
       "        -2.07285056e+00],\n",
       "       [-4.97891395e-01, -1.66589829e-01, -4.84556377e-01,\n",
       "         6.66693309e-03],\n",
       "       [ 1.38514069e+00,  9.43487258e-01,  1.30253910e+00,\n",
       "        -1.26422187e-01],\n",
       "       [ 4.21954792e-01,  3.33010082e-01,  3.91827758e-01,\n",
       "        -8.31682227e-02],\n",
       "       [ 2.21490033e+00,  1.77781911e-01,  2.25619978e+00,\n",
       "        -6.98593107e-02],\n",
       "       [-4.29174456e-01,  5.71722311e-01, -4.74986366e-01,\n",
       "         1.29774369e-01],\n",
       "       [-8.99123121e-01,  1.16473306e-01, -9.06781089e-01,\n",
       "        -6.05543018e-01],\n",
       "       [-9.40583037e-01, -3.54428961e-01, -9.10525876e-01,\n",
       "         1.18450564e+00],\n",
       "       [ 1.52539426e+00, -6.35391950e-02,  1.52254533e+00,\n",
       "        -1.58707528e+00],\n",
       "       [ 2.21490033e+00,  5.01282637e-01,  2.25619978e+00,\n",
       "         7.85238283e-01],\n",
       "       [-8.85337960e-01, -4.49652965e-01, -8.47904719e-01,\n",
       "         7.51966003e-01],\n",
       "       [-8.12861433e-01,  8.49567693e-01, -8.79319319e-01,\n",
       "        -1.92966746e-01],\n",
       "       [ 1.27611260e+00,  1.94739610e-01,  1.25364883e+00,\n",
       "         2.66190717e-01],\n",
       "       [ 1.42221442e+00,  7.21732728e-01,  1.35715058e+00,\n",
       "         8.98476329e-02],\n",
       "       [-5.66190600e-01,  1.77781911e-01, -5.80048440e-01,\n",
       "        -8.31682227e-02],\n",
       "       [-3.85730313e-01,  1.48482920e+00, -5.04528573e-01,\n",
       "        -6.72087577e-01],\n",
       "       [-3.81761858e-01,  5.50851297e-01, -4.26096094e-01,\n",
       "         2.62727488e+00],\n",
       "       [-8.51919389e-01,  5.79548942e-01, -8.96690969e-01,\n",
       "         5.12405588e-01],\n",
       "       [ 1.90177092e+00,  6.78686261e-01,  1.83825166e+00,\n",
       "         6.65570370e-02],\n",
       "       [-2.22083745e-01,  4.12580825e-01, -2.56020360e-01,\n",
       "         4.75806080e-01],\n",
       "       [ 2.21490033e+00,  2.01261802e-01,  2.25619978e+00,\n",
       "         9.61581367e-01],\n",
       "       [-8.91395076e-01, -1.79844228e+00, -7.46379387e-01,\n",
       "        -2.32571989e+00],\n",
       "       [-5.85416096e-02,  4.99469468e-02, -6.42040577e-02,\n",
       "        -8.18485609e-01],\n",
       "       [ 2.21490033e+00, -2.08331859e-01,  2.25619978e+00,\n",
       "         9.18327403e-01],\n",
       "       [-7.94585651e-01,  6.93035083e-01, -8.48632872e-01,\n",
       "         7.22020952e-01],\n",
       "       [ 8.71643447e-01,  8.83483091e-01,  7.95848645e-01,\n",
       "        -3.39364778e-01],\n",
       "       [-6.96314164e-01, -1.79844228e+00, -5.52066561e-01,\n",
       "        -2.56184078e-01],\n",
       "       [ 2.15386245e-01, -7.06627332e-01,  2.68977946e-01,\n",
       "         3.29408048e-01],\n",
       "       [-5.66817199e-01, -1.79844228e+00, -4.23079460e-01,\n",
       "         6.72112532e-01],\n",
       "       [-7.97415160e-02, -1.79844228e+00,  6.20784751e-02,\n",
       "        -1.26422187e-01],\n",
       "       [ 2.15220134e+00,  7.49125935e-01,  2.08207889e+00,\n",
       "         8.31819475e-01],\n",
       "       [-4.30009921e-01, -1.79844228e+00, -2.86810829e-01,\n",
       "         5.02423904e-01],\n",
       "       [-8.38551960e-01,  8.58698761e-01, -9.05636849e-01,\n",
       "        -9.31499067e-02],\n",
       "       [-8.52023822e-01,  1.38438744e+00, -9.60976476e-01,\n",
       "        -6.64197888e-03],\n",
       "       [-9.38285510e-01, -6.30969904e-01, -8.86184762e-01,\n",
       "         1.19448733e+00],\n",
       "       [-7.56049861e-01, -2.33116188e-01, -7.36393289e-01,\n",
       "        -3.31475089e-03],\n",
       "       [-7.21064794e-01,  4.26929647e-01, -7.54181027e-01,\n",
       "         9.81544735e-01],\n",
       "       [-1.04909878e-01,  1.13654414e+00, -1.97039967e-01,\n",
       "        -5.19035090e-01],\n",
       "       [-5.47705953e-01,  3.25183451e-01, -5.73391041e-01,\n",
       "        -1.59040250e+00]])"
      ]
     },
     "execution_count": 228,
     "metadata": {},
     "output_type": "execute_result"
    }
   ],
   "source": [
    "stand=sl.fit_transform(df1)\n",
    "stand"
   ]
  },
  {
   "cell_type": "code",
   "execution_count": 240,
   "id": "4ba3618a",
   "metadata": {},
   "outputs": [
    {
     "data": {
      "text/plain": [
       "OneHotEncoder(drop='first', sparse=False)"
      ]
     },
     "execution_count": 240,
     "metadata": {},
     "output_type": "execute_result"
    }
   ],
   "source": [
    "from sklearn.preprocessing import OneHotEncoder\n",
    "ohe=OneHotEncoder(drop='first',sparse=False)\n",
    "ohe"
   ]
  },
  {
   "cell_type": "code",
   "execution_count": 241,
   "id": "d07faa26",
   "metadata": {
    "collapsed": true
   },
   "outputs": [
    {
     "data": {
      "text/plain": [
       "array([[1.],\n",
       "       [0.],\n",
       "       [1.],\n",
       "       [0.],\n",
       "       [1.],\n",
       "       [1.],\n",
       "       [1.],\n",
       "       [1.],\n",
       "       [1.],\n",
       "       [1.],\n",
       "       [1.],\n",
       "       [1.],\n",
       "       [1.],\n",
       "       [1.],\n",
       "       [0.],\n",
       "       [1.],\n",
       "       [1.],\n",
       "       [1.],\n",
       "       [1.],\n",
       "       [0.],\n",
       "       [1.],\n",
       "       [0.],\n",
       "       [1.],\n",
       "       [0.],\n",
       "       [1.],\n",
       "       [0.],\n",
       "       [1.],\n",
       "       [1.],\n",
       "       [0.],\n",
       "       [1.],\n",
       "       [1.],\n",
       "       [1.],\n",
       "       [1.],\n",
       "       [0.],\n",
       "       [1.],\n",
       "       [0.],\n",
       "       [0.],\n",
       "       [0.],\n",
       "       [0.],\n",
       "       [0.],\n",
       "       [1.],\n",
       "       [1.],\n",
       "       [0.],\n",
       "       [1.],\n",
       "       [0.],\n",
       "       [1.],\n",
       "       [1.],\n",
       "       [1.],\n",
       "       [1.],\n",
       "       [1.],\n",
       "       [0.],\n",
       "       [0.],\n",
       "       [0.],\n",
       "       [1.],\n",
       "       [1.],\n",
       "       [0.],\n",
       "       [0.],\n",
       "       [1.],\n",
       "       [0.],\n",
       "       [1.],\n",
       "       [1.],\n",
       "       [1.],\n",
       "       [1.],\n",
       "       [1.],\n",
       "       [1.],\n",
       "       [1.],\n",
       "       [1.],\n",
       "       [0.],\n",
       "       [1.],\n",
       "       [1.],\n",
       "       [1.],\n",
       "       [0.],\n",
       "       [1.],\n",
       "       [1.],\n",
       "       [1.],\n",
       "       [1.],\n",
       "       [0.],\n",
       "       [0.],\n",
       "       [1.],\n",
       "       [1.],\n",
       "       [1.],\n",
       "       [1.],\n",
       "       [0.],\n",
       "       [0.],\n",
       "       [1.],\n",
       "       [1.],\n",
       "       [1.],\n",
       "       [0.],\n",
       "       [1.],\n",
       "       [1.],\n",
       "       [0.],\n",
       "       [1.],\n",
       "       [1.],\n",
       "       [1.],\n",
       "       [0.],\n",
       "       [1.],\n",
       "       [1.],\n",
       "       [1.],\n",
       "       [1.],\n",
       "       [1.]])"
      ]
     },
     "execution_count": 241,
     "metadata": {},
     "output_type": "execute_result"
    }
   ],
   "source": [
    "gender=ohe.fit_transform(df[['Gender']])\n",
    "gender"
   ]
  },
  {
   "cell_type": "code",
   "execution_count": 246,
   "id": "79378e82",
   "metadata": {
    "scrolled": true
   },
   "outputs": [
    {
     "data": {
      "text/plain": [
       "array(['High School', 'Graduate', 'Uneducated', 'Unknown', 'College',\n",
       "       'Post-Graduate', 'Doctorate'], dtype=object)"
      ]
     },
     "execution_count": 246,
     "metadata": {},
     "output_type": "execute_result"
    }
   ],
   "source": [
    "df['Education_Level'].unique()"
   ]
  },
  {
   "cell_type": "code",
   "execution_count": 250,
   "id": "7df80ec4",
   "metadata": {},
   "outputs": [
    {
     "data": {
      "text/plain": [
       "OrdinalEncoder(categories=[['Unknown', 'Uneducated', 'High School', 'College',\n",
       "                            'Graduate', 'Post-Graduate', 'Doctorate']])"
      ]
     },
     "execution_count": 250,
     "metadata": {},
     "output_type": "execute_result"
    }
   ],
   "source": [
    "from sklearn.preprocessing import OrdinalEncoder\n",
    "ore=OrdinalEncoder(categories=[['Unknown','Uneducated','High School',  'College','Graduate', 'Post-Graduate', 'Doctorate']])\n",
    "ore"
   ]
  },
  {
   "cell_type": "code",
   "execution_count": 251,
   "id": "03d5e350",
   "metadata": {
    "collapsed": true
   },
   "outputs": [
    {
     "data": {
      "text/plain": [
       "array([[2.],\n",
       "       [4.],\n",
       "       [4.],\n",
       "       [2.],\n",
       "       [1.],\n",
       "       [4.],\n",
       "       [0.],\n",
       "       [2.],\n",
       "       [1.],\n",
       "       [4.],\n",
       "       [1.],\n",
       "       [0.],\n",
       "       [3.],\n",
       "       [4.],\n",
       "       [4.],\n",
       "       [0.],\n",
       "       [5.],\n",
       "       [0.],\n",
       "       [2.],\n",
       "       [4.],\n",
       "       [6.],\n",
       "       [4.],\n",
       "       [2.],\n",
       "       [0.],\n",
       "       [0.],\n",
       "       [4.],\n",
       "       [2.],\n",
       "       [0.],\n",
       "       [1.],\n",
       "       [2.],\n",
       "       [0.],\n",
       "       [1.],\n",
       "       [4.],\n",
       "       [3.],\n",
       "       [4.],\n",
       "       [3.],\n",
       "       [4.],\n",
       "       [2.],\n",
       "       [4.],\n",
       "       [6.],\n",
       "       [4.],\n",
       "       [0.],\n",
       "       [3.],\n",
       "       [2.],\n",
       "       [4.],\n",
       "       [1.],\n",
       "       [6.],\n",
       "       [6.],\n",
       "       [2.],\n",
       "       [3.],\n",
       "       [0.],\n",
       "       [4.],\n",
       "       [2.],\n",
       "       [0.],\n",
       "       [4.],\n",
       "       [4.],\n",
       "       [4.],\n",
       "       [1.],\n",
       "       [4.],\n",
       "       [2.],\n",
       "       [0.],\n",
       "       [4.],\n",
       "       [2.],\n",
       "       [5.],\n",
       "       [2.],\n",
       "       [1.],\n",
       "       [3.],\n",
       "       [1.],\n",
       "       [4.],\n",
       "       [6.],\n",
       "       [4.],\n",
       "       [4.],\n",
       "       [4.],\n",
       "       [1.],\n",
       "       [3.],\n",
       "       [4.],\n",
       "       [4.],\n",
       "       [1.],\n",
       "       [4.],\n",
       "       [4.],\n",
       "       [4.],\n",
       "       [0.],\n",
       "       [0.],\n",
       "       [4.],\n",
       "       [4.],\n",
       "       [4.],\n",
       "       [2.],\n",
       "       [1.],\n",
       "       [2.],\n",
       "       [0.],\n",
       "       [2.],\n",
       "       [2.],\n",
       "       [4.],\n",
       "       [4.],\n",
       "       [0.],\n",
       "       [4.],\n",
       "       [4.],\n",
       "       [6.],\n",
       "       [3.],\n",
       "       [0.]])"
      ]
     },
     "execution_count": 251,
     "metadata": {},
     "output_type": "execute_result"
    }
   ],
   "source": [
    "fit=ore.fit_transform(df[['Education_Level']])\n",
    "fit"
   ]
  },
  {
   "cell_type": "code",
   "execution_count": 257,
   "id": "ed333561",
   "metadata": {},
   "outputs": [
    {
     "data": {
      "text/plain": [
       "ColumnTransformer(remainder='passthrough',\n",
       "                  transformers=[('t1',\n",
       "                                 OneHotEncoder(drop='first', sparse=False),\n",
       "                                 ['Gender']),\n",
       "                                ('t2',\n",
       "                                 OrdinalEncoder(categories=[['Unknown',\n",
       "                                                             'Uneducated',\n",
       "                                                             'High School',\n",
       "                                                             'College',\n",
       "                                                             'Graduate',\n",
       "                                                             'Post-Graduate',\n",
       "                                                             'Doctorate']]),\n",
       "                                 ['Education_Level']),\n",
       "                                ('t3', StandardScaler(),\n",
       "                                 ['Credit_Limit', 'Total_Revolving_Bal']),\n",
       "                                ('t4', MinMaxScaler(),\n",
       "                                 ['Avg_Purchase', 'Total_Trans_Amt'])])"
      ]
     },
     "execution_count": 257,
     "metadata": {},
     "output_type": "execute_result"
    }
   ],
   "source": [
    "from sklearn.compose import ColumnTransformer\n",
    "tr=ColumnTransformer(transformers=[\n",
    "    ('t1',OneHotEncoder(drop='first', sparse=False),['Gender']),\n",
    "    ('t2',OrdinalEncoder(categories=[['Unknown','Uneducated','High School',  'College','Graduate', 'Post-Graduate', 'Doctorate']]),['Education_Level']),\n",
    "    ('t3',StandardScaler(),['Credit_Limit','Total_Revolving_Bal']),\n",
    "    ('t4',MinMaxScaler(),['Avg_Purchase','Total_Trans_Amt'])\n",
    "],remainder='passthrough')\n",
    "tr"
   ]
  },
  {
   "cell_type": "code",
   "execution_count": 258,
   "id": "ded12004",
   "metadata": {},
   "outputs": [
    {
     "data": {
      "text/plain": [
       "(100, 11)"
      ]
     },
     "execution_count": 258,
     "metadata": {},
     "output_type": "execute_result"
    }
   ],
   "source": [
    "tr.fit_transform(df).shape"
   ]
  },
  {
   "cell_type": "code",
   "execution_count": null,
   "id": "f0d31412",
   "metadata": {},
   "outputs": [],
   "source": []
  }
 ],
 "metadata": {
  "kernelspec": {
   "display_name": "Python 3 (ipykernel)",
   "language": "python",
   "name": "python3"
  },
  "language_info": {
   "codemirror_mode": {
    "name": "ipython",
    "version": 3
   },
   "file_extension": ".py",
   "mimetype": "text/x-python",
   "name": "python",
   "nbconvert_exporter": "python",
   "pygments_lexer": "ipython3",
   "version": "3.9.12"
  }
 },
 "nbformat": 4,
 "nbformat_minor": 5
}
