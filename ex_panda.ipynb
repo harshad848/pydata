{
 "cells": [
  {
   "cell_type": "markdown",
   "id": "287c03c7",
   "metadata": {},
   "source": [
    "# PANDA SERIES:"
   ]
  },
  {
   "cell_type": "markdown",
   "id": "5e7e7417",
   "metadata": {},
   "source": [
    "#series is a one-dimensional labeled array capable of holding data of any type (integer,float,python objects,etc).The axis labeled are collectively called as index"
   ]
  },
  {
   "cell_type": "markdown",
   "id": "9b88deda",
   "metadata": {},
   "source": [
    "#syntax :pd.series(data,index,dtype,copy) "
   ]
  },
  {
   "cell_type": "code",
   "execution_count": 1,
   "id": "8075660e",
   "metadata": {},
   "outputs": [
    {
     "name": "stdout",
     "output_type": "stream",
     "text": [
      "0    1\n",
      "1    2\n",
      "2    3\n",
      "3    4\n",
      "4    5\n",
      "dtype: int64\n",
      "\n",
      "0    a\n",
      "1    b\n",
      "2    c\n",
      "3    d\n",
      "dtype: object\n"
     ]
    }
   ],
   "source": [
    "import numpy as np\n",
    "import pandas as pd\n",
    "ser1=pd.Series([1,2,3,4,5])\n",
    "print(ser1)\n",
    "print()\n",
    "ser2=pd.Series(['a','b','c','d'])\n",
    "print(ser2)"
   ]
  },
  {
   "cell_type": "code",
   "execution_count": 2,
   "id": "89299798",
   "metadata": {},
   "outputs": [
    {
     "name": "stdout",
     "output_type": "stream",
     "text": [
      "0    1.0\n",
      "1    2.0\n",
      "2    3.0\n",
      "3    4.0\n",
      "4    5.0\n",
      "dtype: float64\n"
     ]
    }
   ],
   "source": [
    "ser1=pd.Series([1,2,3,4,5],dtype=np.float64)\n",
    "print(ser1)"
   ]
  },
  {
   "cell_type": "code",
   "execution_count": 3,
   "id": "b54bd545",
   "metadata": {},
   "outputs": [
    {
     "name": "stdout",
     "output_type": "stream",
     "text": [
      "akash      1\n",
      "Rahul      2\n",
      "krishna    3\n",
      "guru       4\n",
      "abhinav    5\n",
      "dtype: int64\n"
     ]
    }
   ],
   "source": [
    "ser1=pd.Series([1,2,3,4,5],index=[\"Akash\",\"Rahul\",\"ki=shna\",\"guru\",\"abhinav\"])\n",
    "print(ser1)"
   ]
  },
  {
   "cell_type": "code",
   "execution_count": null,
   "id": "2a206946",
   "metadata": {},
   "outputs": [],
   "source": []
  }
 ],
 "metadata": {
  "kernelspec": {
   "display_name": "Python 3 (ipykernel)",
   "language": "python",
   "name": "python3"
  },
  "language_info": {
   "codemirror_mode": {
    "name": "ipython",
    "version": 3
   },
   "file_extension": ".py",
   "mimetype": "text/x-python",
   "name": "python",
   "nbconvert_exporter": "python",
   "pygments_lexer": "ipython3",
   "version": "3.9.12"
  }
 },
 "nbformat": 4,
 "nbformat_minor": 5
}
