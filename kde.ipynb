{
 "cells": [
  {
   "cell_type": "code",
   "execution_count": 111,
   "id": "5d48dc22",
   "metadata": {},
   "outputs": [],
   "source": [
    "import pandas as pd\n",
    "import numpy as np\n",
    "import seaborn as sns\n",
    "import matplotlib.pyplot as plt\n",
    "from sklearn.preprocessing import OneHotEncoder,OrdinalEncoder,MinMaxScaler,StandardScaler\n",
    "from sklearn.model_selection import train_test_split\n",
    "from sklearn.impute import SimpleImputer\n",
    "from sklearn.compose import ColumnTransformer\n",
    "from sklearn.pipeline import Pipeline,make_pipeline"
   ]
  },
  {
   "cell_type": "code",
   "execution_count": 112,
   "id": "596723b4",
   "metadata": {},
   "outputs": [
    {
     "data": {
      "text/html": [
       "<div>\n",
       "<style scoped>\n",
       "    .dataframe tbody tr th:only-of-type {\n",
       "        vertical-align: middle;\n",
       "    }\n",
       "\n",
       "    .dataframe tbody tr th {\n",
       "        vertical-align: top;\n",
       "    }\n",
       "\n",
       "    .dataframe thead th {\n",
       "        text-align: right;\n",
       "    }\n",
       "</style>\n",
       "<table border=\"1\" class=\"dataframe\">\n",
       "  <thead>\n",
       "    <tr style=\"text-align: right;\">\n",
       "      <th></th>\n",
       "      <th>treatment</th>\n",
       "      <th>stone_size</th>\n",
       "      <th>success</th>\n",
       "    </tr>\n",
       "  </thead>\n",
       "  <tbody>\n",
       "    <tr>\n",
       "      <th>0</th>\n",
       "      <td>B</td>\n",
       "      <td>large</td>\n",
       "      <td>1</td>\n",
       "    </tr>\n",
       "    <tr>\n",
       "      <th>1</th>\n",
       "      <td>A</td>\n",
       "      <td>large</td>\n",
       "      <td>1</td>\n",
       "    </tr>\n",
       "    <tr>\n",
       "      <th>2</th>\n",
       "      <td>A</td>\n",
       "      <td>large</td>\n",
       "      <td>0</td>\n",
       "    </tr>\n",
       "    <tr>\n",
       "      <th>3</th>\n",
       "      <td>A</td>\n",
       "      <td>large</td>\n",
       "      <td>1</td>\n",
       "    </tr>\n",
       "    <tr>\n",
       "      <th>4</th>\n",
       "      <td>A</td>\n",
       "      <td>large</td>\n",
       "      <td>1</td>\n",
       "    </tr>\n",
       "  </tbody>\n",
       "</table>\n",
       "</div>"
      ],
      "text/plain": [
       "  treatment stone_size  success\n",
       "0         B      large        1\n",
       "1         A      large        1\n",
       "2         A      large        0\n",
       "3         A      large        1\n",
       "4         A      large        1"
      ]
     },
     "execution_count": 112,
     "metadata": {},
     "output_type": "execute_result"
    }
   ],
   "source": [
    "df=pd.read_csv('dataset/kidney_stone_data.csv')\n",
    "df.head()"
   ]
  },
  {
   "cell_type": "code",
   "execution_count": 113,
   "id": "52844773",
   "metadata": {},
   "outputs": [
    {
     "name": "stdout",
     "output_type": "stream",
     "text": [
      "<class 'pandas.core.frame.DataFrame'>\n",
      "RangeIndex: 700 entries, 0 to 699\n",
      "Data columns (total 3 columns):\n",
      " #   Column      Non-Null Count  Dtype \n",
      "---  ------      --------------  ----- \n",
      " 0   treatment   700 non-null    object\n",
      " 1   stone_size  700 non-null    object\n",
      " 2   success     700 non-null    int64 \n",
      "dtypes: int64(1), object(2)\n",
      "memory usage: 16.5+ KB\n"
     ]
    }
   ],
   "source": [
    "df.info()"
   ]
  },
  {
   "cell_type": "code",
   "execution_count": 114,
   "id": "ad2d3434",
   "metadata": {},
   "outputs": [
    {
     "data": {
      "text/html": [
       "<div>\n",
       "<style scoped>\n",
       "    .dataframe tbody tr th:only-of-type {\n",
       "        vertical-align: middle;\n",
       "    }\n",
       "\n",
       "    .dataframe tbody tr th {\n",
       "        vertical-align: top;\n",
       "    }\n",
       "\n",
       "    .dataframe thead th {\n",
       "        text-align: right;\n",
       "    }\n",
       "</style>\n",
       "<table border=\"1\" class=\"dataframe\">\n",
       "  <thead>\n",
       "    <tr style=\"text-align: right;\">\n",
       "      <th></th>\n",
       "      <th>success</th>\n",
       "    </tr>\n",
       "  </thead>\n",
       "  <tbody>\n",
       "    <tr>\n",
       "      <th>count</th>\n",
       "      <td>700.000000</td>\n",
       "    </tr>\n",
       "    <tr>\n",
       "      <th>mean</th>\n",
       "      <td>0.802857</td>\n",
       "    </tr>\n",
       "    <tr>\n",
       "      <th>std</th>\n",
       "      <td>0.398126</td>\n",
       "    </tr>\n",
       "    <tr>\n",
       "      <th>min</th>\n",
       "      <td>0.000000</td>\n",
       "    </tr>\n",
       "    <tr>\n",
       "      <th>25%</th>\n",
       "      <td>1.000000</td>\n",
       "    </tr>\n",
       "    <tr>\n",
       "      <th>50%</th>\n",
       "      <td>1.000000</td>\n",
       "    </tr>\n",
       "    <tr>\n",
       "      <th>75%</th>\n",
       "      <td>1.000000</td>\n",
       "    </tr>\n",
       "    <tr>\n",
       "      <th>max</th>\n",
       "      <td>1.000000</td>\n",
       "    </tr>\n",
       "  </tbody>\n",
       "</table>\n",
       "</div>"
      ],
      "text/plain": [
       "          success\n",
       "count  700.000000\n",
       "mean     0.802857\n",
       "std      0.398126\n",
       "min      0.000000\n",
       "25%      1.000000\n",
       "50%      1.000000\n",
       "75%      1.000000\n",
       "max      1.000000"
      ]
     },
     "execution_count": 114,
     "metadata": {},
     "output_type": "execute_result"
    }
   ],
   "source": [
    "df.describe()"
   ]
  },
  {
   "cell_type": "code",
   "execution_count": 115,
   "id": "3be71e14",
   "metadata": {},
   "outputs": [
    {
     "data": {
      "text/plain": [
       "treatment     0\n",
       "stone_size    0\n",
       "success       0\n",
       "dtype: int64"
      ]
     },
     "execution_count": 115,
     "metadata": {},
     "output_type": "execute_result"
    }
   ],
   "source": [
    "df.isnull().sum()"
   ]
  },
  {
   "cell_type": "code",
   "execution_count": 116,
   "id": "25b7f98a",
   "metadata": {},
   "outputs": [
    {
     "data": {
      "text/html": [
       "<div>\n",
       "<style scoped>\n",
       "    .dataframe tbody tr th:only-of-type {\n",
       "        vertical-align: middle;\n",
       "    }\n",
       "\n",
       "    .dataframe tbody tr th {\n",
       "        vertical-align: top;\n",
       "    }\n",
       "\n",
       "    .dataframe thead th {\n",
       "        text-align: right;\n",
       "    }\n",
       "</style>\n",
       "<table border=\"1\" class=\"dataframe\">\n",
       "  <thead>\n",
       "    <tr style=\"text-align: right;\">\n",
       "      <th></th>\n",
       "      <th>treatment</th>\n",
       "      <th>stone_size</th>\n",
       "    </tr>\n",
       "  </thead>\n",
       "  <tbody>\n",
       "    <tr>\n",
       "      <th>0</th>\n",
       "      <td>B</td>\n",
       "      <td>large</td>\n",
       "    </tr>\n",
       "    <tr>\n",
       "      <th>1</th>\n",
       "      <td>A</td>\n",
       "      <td>large</td>\n",
       "    </tr>\n",
       "    <tr>\n",
       "      <th>2</th>\n",
       "      <td>A</td>\n",
       "      <td>large</td>\n",
       "    </tr>\n",
       "    <tr>\n",
       "      <th>3</th>\n",
       "      <td>A</td>\n",
       "      <td>large</td>\n",
       "    </tr>\n",
       "    <tr>\n",
       "      <th>4</th>\n",
       "      <td>A</td>\n",
       "      <td>large</td>\n",
       "    </tr>\n",
       "    <tr>\n",
       "      <th>...</th>\n",
       "      <td>...</td>\n",
       "      <td>...</td>\n",
       "    </tr>\n",
       "    <tr>\n",
       "      <th>695</th>\n",
       "      <td>B</td>\n",
       "      <td>small</td>\n",
       "    </tr>\n",
       "    <tr>\n",
       "      <th>696</th>\n",
       "      <td>B</td>\n",
       "      <td>small</td>\n",
       "    </tr>\n",
       "    <tr>\n",
       "      <th>697</th>\n",
       "      <td>B</td>\n",
       "      <td>small</td>\n",
       "    </tr>\n",
       "    <tr>\n",
       "      <th>698</th>\n",
       "      <td>A</td>\n",
       "      <td>large</td>\n",
       "    </tr>\n",
       "    <tr>\n",
       "      <th>699</th>\n",
       "      <td>A</td>\n",
       "      <td>small</td>\n",
       "    </tr>\n",
       "  </tbody>\n",
       "</table>\n",
       "<p>700 rows × 2 columns</p>\n",
       "</div>"
      ],
      "text/plain": [
       "    treatment stone_size\n",
       "0           B      large\n",
       "1           A      large\n",
       "2           A      large\n",
       "3           A      large\n",
       "4           A      large\n",
       "..        ...        ...\n",
       "695         B      small\n",
       "696         B      small\n",
       "697         B      small\n",
       "698         A      large\n",
       "699         A      small\n",
       "\n",
       "[700 rows x 2 columns]"
      ]
     },
     "execution_count": 116,
     "metadata": {},
     "output_type": "execute_result"
    }
   ],
   "source": [
    "x=pd.DataFrame(df.iloc[:,:2])\n",
    "x"
   ]
  },
  {
   "cell_type": "code",
   "execution_count": 117,
   "id": "ea7004bc",
   "metadata": {},
   "outputs": [],
   "source": [
    "y=df.iloc[:,-1]"
   ]
  },
  {
   "cell_type": "code",
   "execution_count": 118,
   "id": "f67a9e30",
   "metadata": {},
   "outputs": [
    {
     "data": {
      "text/plain": [
       "0      1\n",
       "1      1\n",
       "2      0\n",
       "3      1\n",
       "4      1\n",
       "      ..\n",
       "695    0\n",
       "696    1\n",
       "697    1\n",
       "698    1\n",
       "699    1\n",
       "Name: success, Length: 700, dtype: int64"
      ]
     },
     "execution_count": 118,
     "metadata": {},
     "output_type": "execute_result"
    }
   ],
   "source": [
    "y"
   ]
  },
  {
   "cell_type": "code",
   "execution_count": 119,
   "id": "d011f0d2",
   "metadata": {},
   "outputs": [],
   "source": [
    "x_train,x_test,y_train,y_test=train_test_split(x,y,train_size=0.8,random_state=2)"
   ]
  },
  {
   "cell_type": "code",
   "execution_count": 120,
   "id": "5fbb39af",
   "metadata": {},
   "outputs": [
    {
     "data": {
      "text/plain": [
       "(560, 2)"
      ]
     },
     "execution_count": 120,
     "metadata": {},
     "output_type": "execute_result"
    }
   ],
   "source": [
    "x_train.shape"
   ]
  },
  {
   "cell_type": "code",
   "execution_count": 121,
   "id": "8fead18a",
   "metadata": {},
   "outputs": [
    {
     "data": {
      "text/plain": [
       "(140, 2)"
      ]
     },
     "execution_count": 121,
     "metadata": {},
     "output_type": "execute_result"
    }
   ],
   "source": [
    "x_test.shape"
   ]
  },
  {
   "cell_type": "code",
   "execution_count": 122,
   "id": "cfdf5310",
   "metadata": {},
   "outputs": [
    {
     "data": {
      "text/plain": [
       "(560,)"
      ]
     },
     "execution_count": 122,
     "metadata": {},
     "output_type": "execute_result"
    }
   ],
   "source": [
    "y_train.shape"
   ]
  },
  {
   "cell_type": "code",
   "execution_count": 123,
   "id": "26d24305",
   "metadata": {},
   "outputs": [
    {
     "data": {
      "text/plain": [
       "(140,)"
      ]
     },
     "execution_count": 123,
     "metadata": {},
     "output_type": "execute_result"
    }
   ],
   "source": [
    "y_test.shape"
   ]
  },
  {
   "cell_type": "code",
   "execution_count": 124,
   "id": "db65787b",
   "metadata": {},
   "outputs": [
    {
     "data": {
      "text/html": [
       "<style>#sk-679db4fb-ad93-46c2-b03d-73456fd496ec {color: black;background-color: white;}#sk-679db4fb-ad93-46c2-b03d-73456fd496ec pre{padding: 0;}#sk-679db4fb-ad93-46c2-b03d-73456fd496ec div.sk-toggleable {background-color: white;}#sk-679db4fb-ad93-46c2-b03d-73456fd496ec label.sk-toggleable__label {cursor: pointer;display: block;width: 100%;margin-bottom: 0;padding: 0.3em;box-sizing: border-box;text-align: center;}#sk-679db4fb-ad93-46c2-b03d-73456fd496ec label.sk-toggleable__label-arrow:before {content: \"▸\";float: left;margin-right: 0.25em;color: #696969;}#sk-679db4fb-ad93-46c2-b03d-73456fd496ec label.sk-toggleable__label-arrow:hover:before {color: black;}#sk-679db4fb-ad93-46c2-b03d-73456fd496ec div.sk-estimator:hover label.sk-toggleable__label-arrow:before {color: black;}#sk-679db4fb-ad93-46c2-b03d-73456fd496ec div.sk-toggleable__content {max-height: 0;max-width: 0;overflow: hidden;text-align: left;background-color: #f0f8ff;}#sk-679db4fb-ad93-46c2-b03d-73456fd496ec div.sk-toggleable__content pre {margin: 0.2em;color: black;border-radius: 0.25em;background-color: #f0f8ff;}#sk-679db4fb-ad93-46c2-b03d-73456fd496ec input.sk-toggleable__control:checked~div.sk-toggleable__content {max-height: 200px;max-width: 100%;overflow: auto;}#sk-679db4fb-ad93-46c2-b03d-73456fd496ec input.sk-toggleable__control:checked~label.sk-toggleable__label-arrow:before {content: \"▾\";}#sk-679db4fb-ad93-46c2-b03d-73456fd496ec div.sk-estimator input.sk-toggleable__control:checked~label.sk-toggleable__label {background-color: #d4ebff;}#sk-679db4fb-ad93-46c2-b03d-73456fd496ec div.sk-label input.sk-toggleable__control:checked~label.sk-toggleable__label {background-color: #d4ebff;}#sk-679db4fb-ad93-46c2-b03d-73456fd496ec input.sk-hidden--visually {border: 0;clip: rect(1px 1px 1px 1px);clip: rect(1px, 1px, 1px, 1px);height: 1px;margin: -1px;overflow: hidden;padding: 0;position: absolute;width: 1px;}#sk-679db4fb-ad93-46c2-b03d-73456fd496ec div.sk-estimator {font-family: monospace;background-color: #f0f8ff;border: 1px dotted black;border-radius: 0.25em;box-sizing: border-box;margin-bottom: 0.5em;}#sk-679db4fb-ad93-46c2-b03d-73456fd496ec div.sk-estimator:hover {background-color: #d4ebff;}#sk-679db4fb-ad93-46c2-b03d-73456fd496ec div.sk-parallel-item::after {content: \"\";width: 100%;border-bottom: 1px solid gray;flex-grow: 1;}#sk-679db4fb-ad93-46c2-b03d-73456fd496ec div.sk-label:hover label.sk-toggleable__label {background-color: #d4ebff;}#sk-679db4fb-ad93-46c2-b03d-73456fd496ec div.sk-serial::before {content: \"\";position: absolute;border-left: 1px solid gray;box-sizing: border-box;top: 2em;bottom: 0;left: 50%;}#sk-679db4fb-ad93-46c2-b03d-73456fd496ec div.sk-serial {display: flex;flex-direction: column;align-items: center;background-color: white;padding-right: 0.2em;padding-left: 0.2em;}#sk-679db4fb-ad93-46c2-b03d-73456fd496ec div.sk-item {z-index: 1;}#sk-679db4fb-ad93-46c2-b03d-73456fd496ec div.sk-parallel {display: flex;align-items: stretch;justify-content: center;background-color: white;}#sk-679db4fb-ad93-46c2-b03d-73456fd496ec div.sk-parallel::before {content: \"\";position: absolute;border-left: 1px solid gray;box-sizing: border-box;top: 2em;bottom: 0;left: 50%;}#sk-679db4fb-ad93-46c2-b03d-73456fd496ec div.sk-parallel-item {display: flex;flex-direction: column;position: relative;background-color: white;}#sk-679db4fb-ad93-46c2-b03d-73456fd496ec div.sk-parallel-item:first-child::after {align-self: flex-end;width: 50%;}#sk-679db4fb-ad93-46c2-b03d-73456fd496ec div.sk-parallel-item:last-child::after {align-self: flex-start;width: 50%;}#sk-679db4fb-ad93-46c2-b03d-73456fd496ec div.sk-parallel-item:only-child::after {width: 0;}#sk-679db4fb-ad93-46c2-b03d-73456fd496ec div.sk-dashed-wrapped {border: 1px dashed gray;margin: 0 0.4em 0.5em 0.4em;box-sizing: border-box;padding-bottom: 0.4em;background-color: white;position: relative;}#sk-679db4fb-ad93-46c2-b03d-73456fd496ec div.sk-label label {font-family: monospace;font-weight: bold;background-color: white;display: inline-block;line-height: 1.2em;}#sk-679db4fb-ad93-46c2-b03d-73456fd496ec div.sk-label-container {position: relative;z-index: 2;text-align: center;}#sk-679db4fb-ad93-46c2-b03d-73456fd496ec div.sk-container {/* jupyter's `normalize.less` sets `[hidden] { display: none; }` but bootstrap.min.css set `[hidden] { display: none !important; }` so we also need the `!important` here to be able to override the default hidden behavior on the sphinx rendered scikit-learn.org. See: https://github.com/scikit-learn/scikit-learn/issues/21755 */display: inline-block !important;position: relative;}#sk-679db4fb-ad93-46c2-b03d-73456fd496ec div.sk-text-repr-fallback {display: none;}</style><div id=\"sk-679db4fb-ad93-46c2-b03d-73456fd496ec\" class=\"sk-top-container\"><div class=\"sk-text-repr-fallback\"><pre>ColumnTransformer(remainder=&#x27;passthrough&#x27;,\n",
       "                  transformers=[(&#x27;treat&#x27;,\n",
       "                                 OneHotEncoder(drop=&#x27;first&#x27;,\n",
       "                                               handle_unknown=&#x27;ignore&#x27;),\n",
       "                                 [0])])</pre><b>Please rerun this cell to show the HTML repr or trust the notebook.</b></div><div class=\"sk-container\" hidden><div class=\"sk-item sk-dashed-wrapped\"><div class=\"sk-label-container\"><div class=\"sk-label sk-toggleable\"><input class=\"sk-toggleable__control sk-hidden--visually\" id=\"e681fa1e-a4ba-415e-8bc8-7c2408aad63a\" type=\"checkbox\" ><label for=\"e681fa1e-a4ba-415e-8bc8-7c2408aad63a\" class=\"sk-toggleable__label sk-toggleable__label-arrow\">ColumnTransformer</label><div class=\"sk-toggleable__content\"><pre>ColumnTransformer(remainder=&#x27;passthrough&#x27;,\n",
       "                  transformers=[(&#x27;treat&#x27;,\n",
       "                                 OneHotEncoder(drop=&#x27;first&#x27;,\n",
       "                                               handle_unknown=&#x27;ignore&#x27;),\n",
       "                                 [0])])</pre></div></div></div><div class=\"sk-parallel\"><div class=\"sk-parallel-item\"><div class=\"sk-item\"><div class=\"sk-label-container\"><div class=\"sk-label sk-toggleable\"><input class=\"sk-toggleable__control sk-hidden--visually\" id=\"62e8fc47-875b-44db-97d5-dd276e74b921\" type=\"checkbox\" ><label for=\"62e8fc47-875b-44db-97d5-dd276e74b921\" class=\"sk-toggleable__label sk-toggleable__label-arrow\">treat</label><div class=\"sk-toggleable__content\"><pre>[0]</pre></div></div></div><div class=\"sk-serial\"><div class=\"sk-item\"><div class=\"sk-estimator sk-toggleable\"><input class=\"sk-toggleable__control sk-hidden--visually\" id=\"631bdaaa-0638-4487-b2b5-01754624ae67\" type=\"checkbox\" ><label for=\"631bdaaa-0638-4487-b2b5-01754624ae67\" class=\"sk-toggleable__label sk-toggleable__label-arrow\">OneHotEncoder</label><div class=\"sk-toggleable__content\"><pre>OneHotEncoder(drop=&#x27;first&#x27;, handle_unknown=&#x27;ignore&#x27;)</pre></div></div></div></div></div></div><div class=\"sk-parallel-item\"><div class=\"sk-item\"><div class=\"sk-label-container\"><div class=\"sk-label sk-toggleable\"><input class=\"sk-toggleable__control sk-hidden--visually\" id=\"6cbac3ba-d807-4a06-9733-c7b92d47039c\" type=\"checkbox\" ><label for=\"6cbac3ba-d807-4a06-9733-c7b92d47039c\" class=\"sk-toggleable__label sk-toggleable__label-arrow\">remainder</label><div class=\"sk-toggleable__content\"><pre></pre></div></div></div><div class=\"sk-serial\"><div class=\"sk-item\"><div class=\"sk-estimator sk-toggleable\"><input class=\"sk-toggleable__control sk-hidden--visually\" id=\"a34065e0-c30a-4269-84a5-752a8e8139f7\" type=\"checkbox\" ><label for=\"a34065e0-c30a-4269-84a5-752a8e8139f7\" class=\"sk-toggleable__label sk-toggleable__label-arrow\">passthrough</label><div class=\"sk-toggleable__content\"><pre>passthrough</pre></div></div></div></div></div></div></div></div></div></div>"
      ],
      "text/plain": [
       "ColumnTransformer(remainder='passthrough',\n",
       "                  transformers=[('treat',\n",
       "                                 OneHotEncoder(drop='first',\n",
       "                                               handle_unknown='ignore'),\n",
       "                                 [0])])"
      ]
     },
     "execution_count": 124,
     "metadata": {},
     "output_type": "execute_result"
    }
   ],
   "source": [
    "trf1=ColumnTransformer(transformers=[\n",
    "    ('treat',OneHotEncoder(drop='first',sparse=True,handle_unknown='ignore'),[0])\n",
    "],remainder='passthrough')\n",
    "trf1"
   ]
  },
  {
   "cell_type": "code",
   "execution_count": 125,
   "id": "ef6367aa",
   "metadata": {},
   "outputs": [
    {
     "data": {
      "text/html": [
       "<style>#sk-c7e159e3-41ce-4b82-bf1a-7fe02bddfeab {color: black;background-color: white;}#sk-c7e159e3-41ce-4b82-bf1a-7fe02bddfeab pre{padding: 0;}#sk-c7e159e3-41ce-4b82-bf1a-7fe02bddfeab div.sk-toggleable {background-color: white;}#sk-c7e159e3-41ce-4b82-bf1a-7fe02bddfeab label.sk-toggleable__label {cursor: pointer;display: block;width: 100%;margin-bottom: 0;padding: 0.3em;box-sizing: border-box;text-align: center;}#sk-c7e159e3-41ce-4b82-bf1a-7fe02bddfeab label.sk-toggleable__label-arrow:before {content: \"▸\";float: left;margin-right: 0.25em;color: #696969;}#sk-c7e159e3-41ce-4b82-bf1a-7fe02bddfeab label.sk-toggleable__label-arrow:hover:before {color: black;}#sk-c7e159e3-41ce-4b82-bf1a-7fe02bddfeab div.sk-estimator:hover label.sk-toggleable__label-arrow:before {color: black;}#sk-c7e159e3-41ce-4b82-bf1a-7fe02bddfeab div.sk-toggleable__content {max-height: 0;max-width: 0;overflow: hidden;text-align: left;background-color: #f0f8ff;}#sk-c7e159e3-41ce-4b82-bf1a-7fe02bddfeab div.sk-toggleable__content pre {margin: 0.2em;color: black;border-radius: 0.25em;background-color: #f0f8ff;}#sk-c7e159e3-41ce-4b82-bf1a-7fe02bddfeab input.sk-toggleable__control:checked~div.sk-toggleable__content {max-height: 200px;max-width: 100%;overflow: auto;}#sk-c7e159e3-41ce-4b82-bf1a-7fe02bddfeab input.sk-toggleable__control:checked~label.sk-toggleable__label-arrow:before {content: \"▾\";}#sk-c7e159e3-41ce-4b82-bf1a-7fe02bddfeab div.sk-estimator input.sk-toggleable__control:checked~label.sk-toggleable__label {background-color: #d4ebff;}#sk-c7e159e3-41ce-4b82-bf1a-7fe02bddfeab div.sk-label input.sk-toggleable__control:checked~label.sk-toggleable__label {background-color: #d4ebff;}#sk-c7e159e3-41ce-4b82-bf1a-7fe02bddfeab input.sk-hidden--visually {border: 0;clip: rect(1px 1px 1px 1px);clip: rect(1px, 1px, 1px, 1px);height: 1px;margin: -1px;overflow: hidden;padding: 0;position: absolute;width: 1px;}#sk-c7e159e3-41ce-4b82-bf1a-7fe02bddfeab div.sk-estimator {font-family: monospace;background-color: #f0f8ff;border: 1px dotted black;border-radius: 0.25em;box-sizing: border-box;margin-bottom: 0.5em;}#sk-c7e159e3-41ce-4b82-bf1a-7fe02bddfeab div.sk-estimator:hover {background-color: #d4ebff;}#sk-c7e159e3-41ce-4b82-bf1a-7fe02bddfeab div.sk-parallel-item::after {content: \"\";width: 100%;border-bottom: 1px solid gray;flex-grow: 1;}#sk-c7e159e3-41ce-4b82-bf1a-7fe02bddfeab div.sk-label:hover label.sk-toggleable__label {background-color: #d4ebff;}#sk-c7e159e3-41ce-4b82-bf1a-7fe02bddfeab div.sk-serial::before {content: \"\";position: absolute;border-left: 1px solid gray;box-sizing: border-box;top: 2em;bottom: 0;left: 50%;}#sk-c7e159e3-41ce-4b82-bf1a-7fe02bddfeab div.sk-serial {display: flex;flex-direction: column;align-items: center;background-color: white;padding-right: 0.2em;padding-left: 0.2em;}#sk-c7e159e3-41ce-4b82-bf1a-7fe02bddfeab div.sk-item {z-index: 1;}#sk-c7e159e3-41ce-4b82-bf1a-7fe02bddfeab div.sk-parallel {display: flex;align-items: stretch;justify-content: center;background-color: white;}#sk-c7e159e3-41ce-4b82-bf1a-7fe02bddfeab div.sk-parallel::before {content: \"\";position: absolute;border-left: 1px solid gray;box-sizing: border-box;top: 2em;bottom: 0;left: 50%;}#sk-c7e159e3-41ce-4b82-bf1a-7fe02bddfeab div.sk-parallel-item {display: flex;flex-direction: column;position: relative;background-color: white;}#sk-c7e159e3-41ce-4b82-bf1a-7fe02bddfeab div.sk-parallel-item:first-child::after {align-self: flex-end;width: 50%;}#sk-c7e159e3-41ce-4b82-bf1a-7fe02bddfeab div.sk-parallel-item:last-child::after {align-self: flex-start;width: 50%;}#sk-c7e159e3-41ce-4b82-bf1a-7fe02bddfeab div.sk-parallel-item:only-child::after {width: 0;}#sk-c7e159e3-41ce-4b82-bf1a-7fe02bddfeab div.sk-dashed-wrapped {border: 1px dashed gray;margin: 0 0.4em 0.5em 0.4em;box-sizing: border-box;padding-bottom: 0.4em;background-color: white;position: relative;}#sk-c7e159e3-41ce-4b82-bf1a-7fe02bddfeab div.sk-label label {font-family: monospace;font-weight: bold;background-color: white;display: inline-block;line-height: 1.2em;}#sk-c7e159e3-41ce-4b82-bf1a-7fe02bddfeab div.sk-label-container {position: relative;z-index: 2;text-align: center;}#sk-c7e159e3-41ce-4b82-bf1a-7fe02bddfeab div.sk-container {/* jupyter's `normalize.less` sets `[hidden] { display: none; }` but bootstrap.min.css set `[hidden] { display: none !important; }` so we also need the `!important` here to be able to override the default hidden behavior on the sphinx rendered scikit-learn.org. See: https://github.com/scikit-learn/scikit-learn/issues/21755 */display: inline-block !important;position: relative;}#sk-c7e159e3-41ce-4b82-bf1a-7fe02bddfeab div.sk-text-repr-fallback {display: none;}</style><div id=\"sk-c7e159e3-41ce-4b82-bf1a-7fe02bddfeab\" class=\"sk-top-container\"><div class=\"sk-text-repr-fallback\"><pre>ColumnTransformer(remainder=&#x27;passthrough&#x27;,\n",
       "                  transformers=[(&#x27;stone&#x27;,\n",
       "                                 OrdinalEncoder(categories=[[&#x27;large&#x27;,\n",
       "                                                             &#x27;small&#x27;]]),\n",
       "                                 [1])])</pre><b>Please rerun this cell to show the HTML repr or trust the notebook.</b></div><div class=\"sk-container\" hidden><div class=\"sk-item sk-dashed-wrapped\"><div class=\"sk-label-container\"><div class=\"sk-label sk-toggleable\"><input class=\"sk-toggleable__control sk-hidden--visually\" id=\"b1feb1df-549f-4a33-aff1-57c9652b28f7\" type=\"checkbox\" ><label for=\"b1feb1df-549f-4a33-aff1-57c9652b28f7\" class=\"sk-toggleable__label sk-toggleable__label-arrow\">ColumnTransformer</label><div class=\"sk-toggleable__content\"><pre>ColumnTransformer(remainder=&#x27;passthrough&#x27;,\n",
       "                  transformers=[(&#x27;stone&#x27;,\n",
       "                                 OrdinalEncoder(categories=[[&#x27;large&#x27;,\n",
       "                                                             &#x27;small&#x27;]]),\n",
       "                                 [1])])</pre></div></div></div><div class=\"sk-parallel\"><div class=\"sk-parallel-item\"><div class=\"sk-item\"><div class=\"sk-label-container\"><div class=\"sk-label sk-toggleable\"><input class=\"sk-toggleable__control sk-hidden--visually\" id=\"2ad74148-f14e-477f-9598-eda5bd6124ce\" type=\"checkbox\" ><label for=\"2ad74148-f14e-477f-9598-eda5bd6124ce\" class=\"sk-toggleable__label sk-toggleable__label-arrow\">stone</label><div class=\"sk-toggleable__content\"><pre>[1]</pre></div></div></div><div class=\"sk-serial\"><div class=\"sk-item\"><div class=\"sk-estimator sk-toggleable\"><input class=\"sk-toggleable__control sk-hidden--visually\" id=\"8be6cc7b-9ee4-49f5-aab0-ed8aec8ecc2c\" type=\"checkbox\" ><label for=\"8be6cc7b-9ee4-49f5-aab0-ed8aec8ecc2c\" class=\"sk-toggleable__label sk-toggleable__label-arrow\">OrdinalEncoder</label><div class=\"sk-toggleable__content\"><pre>OrdinalEncoder(categories=[[&#x27;large&#x27;, &#x27;small&#x27;]])</pre></div></div></div></div></div></div><div class=\"sk-parallel-item\"><div class=\"sk-item\"><div class=\"sk-label-container\"><div class=\"sk-label sk-toggleable\"><input class=\"sk-toggleable__control sk-hidden--visually\" id=\"b741fc2d-deb2-4182-9b94-25a3c15636fa\" type=\"checkbox\" ><label for=\"b741fc2d-deb2-4182-9b94-25a3c15636fa\" class=\"sk-toggleable__label sk-toggleable__label-arrow\">remainder</label><div class=\"sk-toggleable__content\"><pre></pre></div></div></div><div class=\"sk-serial\"><div class=\"sk-item\"><div class=\"sk-estimator sk-toggleable\"><input class=\"sk-toggleable__control sk-hidden--visually\" id=\"458e9cfa-30a8-438b-b260-704602becb65\" type=\"checkbox\" ><label for=\"458e9cfa-30a8-438b-b260-704602becb65\" class=\"sk-toggleable__label sk-toggleable__label-arrow\">passthrough</label><div class=\"sk-toggleable__content\"><pre>passthrough</pre></div></div></div></div></div></div></div></div></div></div>"
      ],
      "text/plain": [
       "ColumnTransformer(remainder='passthrough',\n",
       "                  transformers=[('stone',\n",
       "                                 OrdinalEncoder(categories=[['large',\n",
       "                                                             'small']]),\n",
       "                                 [1])])"
      ]
     },
     "execution_count": 125,
     "metadata": {},
     "output_type": "execute_result"
    }
   ],
   "source": [
    "trf2=ColumnTransformer(transformers=[\n",
    "    ('stone',OrdinalEncoder(categories=[['large', 'small']]),[1])\n",
    "],remainder='passthrough')\n",
    "trf2"
   ]
  },
  {
   "cell_type": "code",
   "execution_count": 126,
   "id": "f06ecbd4",
   "metadata": {},
   "outputs": [
    {
     "data": {
      "text/plain": [
       "array(['large', 'small'], dtype=object)"
      ]
     },
     "execution_count": 126,
     "metadata": {},
     "output_type": "execute_result"
    }
   ],
   "source": [
    "df['stone_size'].unique()"
   ]
  },
  {
   "cell_type": "code",
   "execution_count": 127,
   "id": "b942e071",
   "metadata": {},
   "outputs": [],
   "source": [
    "from sklearn.feature_selection import SelectKBest,chi2\n",
    "sk=SelectKBest(score_func=chi2,k=2)"
   ]
  },
  {
   "cell_type": "code",
   "execution_count": 128,
   "id": "98b7780c",
   "metadata": {},
   "outputs": [],
   "source": [
    "\n",
    "from sklearn.tree import DecisionTreeClassifier\n",
    "dtc=DecisionTreeClassifier()"
   ]
  },
  {
   "cell_type": "code",
   "execution_count": 129,
   "id": "867e7491",
   "metadata": {},
   "outputs": [],
   "source": [
    "\n",
    "\n",
    "pipe=Pipeline([\n",
    "    ('trf1',trf1),\n",
    "    ('trf2',trf2),\n",
    "    ('sk',sk),\n",
    "    ('dtc',dtc)\n",
    "])"
   ]
  },
  {
   "cell_type": "code",
   "execution_count": 130,
   "id": "836bf9ea",
   "metadata": {},
   "outputs": [
    {
     "data": {
      "text/html": [
       "<style>#sk-492c52e1-d24a-46b7-ad41-6d01a9169b87 {color: black;background-color: white;}#sk-492c52e1-d24a-46b7-ad41-6d01a9169b87 pre{padding: 0;}#sk-492c52e1-d24a-46b7-ad41-6d01a9169b87 div.sk-toggleable {background-color: white;}#sk-492c52e1-d24a-46b7-ad41-6d01a9169b87 label.sk-toggleable__label {cursor: pointer;display: block;width: 100%;margin-bottom: 0;padding: 0.3em;box-sizing: border-box;text-align: center;}#sk-492c52e1-d24a-46b7-ad41-6d01a9169b87 label.sk-toggleable__label-arrow:before {content: \"▸\";float: left;margin-right: 0.25em;color: #696969;}#sk-492c52e1-d24a-46b7-ad41-6d01a9169b87 label.sk-toggleable__label-arrow:hover:before {color: black;}#sk-492c52e1-d24a-46b7-ad41-6d01a9169b87 div.sk-estimator:hover label.sk-toggleable__label-arrow:before {color: black;}#sk-492c52e1-d24a-46b7-ad41-6d01a9169b87 div.sk-toggleable__content {max-height: 0;max-width: 0;overflow: hidden;text-align: left;background-color: #f0f8ff;}#sk-492c52e1-d24a-46b7-ad41-6d01a9169b87 div.sk-toggleable__content pre {margin: 0.2em;color: black;border-radius: 0.25em;background-color: #f0f8ff;}#sk-492c52e1-d24a-46b7-ad41-6d01a9169b87 input.sk-toggleable__control:checked~div.sk-toggleable__content {max-height: 200px;max-width: 100%;overflow: auto;}#sk-492c52e1-d24a-46b7-ad41-6d01a9169b87 input.sk-toggleable__control:checked~label.sk-toggleable__label-arrow:before {content: \"▾\";}#sk-492c52e1-d24a-46b7-ad41-6d01a9169b87 div.sk-estimator input.sk-toggleable__control:checked~label.sk-toggleable__label {background-color: #d4ebff;}#sk-492c52e1-d24a-46b7-ad41-6d01a9169b87 div.sk-label input.sk-toggleable__control:checked~label.sk-toggleable__label {background-color: #d4ebff;}#sk-492c52e1-d24a-46b7-ad41-6d01a9169b87 input.sk-hidden--visually {border: 0;clip: rect(1px 1px 1px 1px);clip: rect(1px, 1px, 1px, 1px);height: 1px;margin: -1px;overflow: hidden;padding: 0;position: absolute;width: 1px;}#sk-492c52e1-d24a-46b7-ad41-6d01a9169b87 div.sk-estimator {font-family: monospace;background-color: #f0f8ff;border: 1px dotted black;border-radius: 0.25em;box-sizing: border-box;margin-bottom: 0.5em;}#sk-492c52e1-d24a-46b7-ad41-6d01a9169b87 div.sk-estimator:hover {background-color: #d4ebff;}#sk-492c52e1-d24a-46b7-ad41-6d01a9169b87 div.sk-parallel-item::after {content: \"\";width: 100%;border-bottom: 1px solid gray;flex-grow: 1;}#sk-492c52e1-d24a-46b7-ad41-6d01a9169b87 div.sk-label:hover label.sk-toggleable__label {background-color: #d4ebff;}#sk-492c52e1-d24a-46b7-ad41-6d01a9169b87 div.sk-serial::before {content: \"\";position: absolute;border-left: 1px solid gray;box-sizing: border-box;top: 2em;bottom: 0;left: 50%;}#sk-492c52e1-d24a-46b7-ad41-6d01a9169b87 div.sk-serial {display: flex;flex-direction: column;align-items: center;background-color: white;padding-right: 0.2em;padding-left: 0.2em;}#sk-492c52e1-d24a-46b7-ad41-6d01a9169b87 div.sk-item {z-index: 1;}#sk-492c52e1-d24a-46b7-ad41-6d01a9169b87 div.sk-parallel {display: flex;align-items: stretch;justify-content: center;background-color: white;}#sk-492c52e1-d24a-46b7-ad41-6d01a9169b87 div.sk-parallel::before {content: \"\";position: absolute;border-left: 1px solid gray;box-sizing: border-box;top: 2em;bottom: 0;left: 50%;}#sk-492c52e1-d24a-46b7-ad41-6d01a9169b87 div.sk-parallel-item {display: flex;flex-direction: column;position: relative;background-color: white;}#sk-492c52e1-d24a-46b7-ad41-6d01a9169b87 div.sk-parallel-item:first-child::after {align-self: flex-end;width: 50%;}#sk-492c52e1-d24a-46b7-ad41-6d01a9169b87 div.sk-parallel-item:last-child::after {align-self: flex-start;width: 50%;}#sk-492c52e1-d24a-46b7-ad41-6d01a9169b87 div.sk-parallel-item:only-child::after {width: 0;}#sk-492c52e1-d24a-46b7-ad41-6d01a9169b87 div.sk-dashed-wrapped {border: 1px dashed gray;margin: 0 0.4em 0.5em 0.4em;box-sizing: border-box;padding-bottom: 0.4em;background-color: white;position: relative;}#sk-492c52e1-d24a-46b7-ad41-6d01a9169b87 div.sk-label label {font-family: monospace;font-weight: bold;background-color: white;display: inline-block;line-height: 1.2em;}#sk-492c52e1-d24a-46b7-ad41-6d01a9169b87 div.sk-label-container {position: relative;z-index: 2;text-align: center;}#sk-492c52e1-d24a-46b7-ad41-6d01a9169b87 div.sk-container {/* jupyter's `normalize.less` sets `[hidden] { display: none; }` but bootstrap.min.css set `[hidden] { display: none !important; }` so we also need the `!important` here to be able to override the default hidden behavior on the sphinx rendered scikit-learn.org. See: https://github.com/scikit-learn/scikit-learn/issues/21755 */display: inline-block !important;position: relative;}#sk-492c52e1-d24a-46b7-ad41-6d01a9169b87 div.sk-text-repr-fallback {display: none;}</style><div id=\"sk-492c52e1-d24a-46b7-ad41-6d01a9169b87\" class=\"sk-top-container\"><div class=\"sk-text-repr-fallback\"><pre>Pipeline(steps=[(&#x27;trf1&#x27;,\n",
       "                 ColumnTransformer(remainder=&#x27;passthrough&#x27;,\n",
       "                                   transformers=[(&#x27;treat&#x27;,\n",
       "                                                  OneHotEncoder(drop=&#x27;first&#x27;,\n",
       "                                                                handle_unknown=&#x27;ignore&#x27;),\n",
       "                                                  [0])])),\n",
       "                (&#x27;trf2&#x27;,\n",
       "                 ColumnTransformer(remainder=&#x27;passthrough&#x27;,\n",
       "                                   transformers=[(&#x27;stone&#x27;,\n",
       "                                                  OrdinalEncoder(categories=[[&#x27;large&#x27;,\n",
       "                                                                              &#x27;small&#x27;]]),\n",
       "                                                  [1])])),\n",
       "                (&#x27;sk&#x27;,\n",
       "                 SelectKBest(k=2,\n",
       "                             score_func=&lt;function chi2 at 0x00000240DC187160&gt;)),\n",
       "                (&#x27;dtc&#x27;, DecisionTreeClassifier())])</pre><b>Please rerun this cell to show the HTML repr or trust the notebook.</b></div><div class=\"sk-container\" hidden><div class=\"sk-item sk-dashed-wrapped\"><div class=\"sk-label-container\"><div class=\"sk-label sk-toggleable\"><input class=\"sk-toggleable__control sk-hidden--visually\" id=\"4188dac4-679b-4085-a103-3f5801936c85\" type=\"checkbox\" ><label for=\"4188dac4-679b-4085-a103-3f5801936c85\" class=\"sk-toggleable__label sk-toggleable__label-arrow\">Pipeline</label><div class=\"sk-toggleable__content\"><pre>Pipeline(steps=[(&#x27;trf1&#x27;,\n",
       "                 ColumnTransformer(remainder=&#x27;passthrough&#x27;,\n",
       "                                   transformers=[(&#x27;treat&#x27;,\n",
       "                                                  OneHotEncoder(drop=&#x27;first&#x27;,\n",
       "                                                                handle_unknown=&#x27;ignore&#x27;),\n",
       "                                                  [0])])),\n",
       "                (&#x27;trf2&#x27;,\n",
       "                 ColumnTransformer(remainder=&#x27;passthrough&#x27;,\n",
       "                                   transformers=[(&#x27;stone&#x27;,\n",
       "                                                  OrdinalEncoder(categories=[[&#x27;large&#x27;,\n",
       "                                                                              &#x27;small&#x27;]]),\n",
       "                                                  [1])])),\n",
       "                (&#x27;sk&#x27;,\n",
       "                 SelectKBest(k=2,\n",
       "                             score_func=&lt;function chi2 at 0x00000240DC187160&gt;)),\n",
       "                (&#x27;dtc&#x27;, DecisionTreeClassifier())])</pre></div></div></div><div class=\"sk-serial\"><div class=\"sk-item sk-dashed-wrapped\"><div class=\"sk-label-container\"><div class=\"sk-label sk-toggleable\"><input class=\"sk-toggleable__control sk-hidden--visually\" id=\"ce5c6b17-7030-4cf8-b31c-03c685505810\" type=\"checkbox\" ><label for=\"ce5c6b17-7030-4cf8-b31c-03c685505810\" class=\"sk-toggleable__label sk-toggleable__label-arrow\">trf1: ColumnTransformer</label><div class=\"sk-toggleable__content\"><pre>ColumnTransformer(remainder=&#x27;passthrough&#x27;,\n",
       "                  transformers=[(&#x27;treat&#x27;,\n",
       "                                 OneHotEncoder(drop=&#x27;first&#x27;,\n",
       "                                               handle_unknown=&#x27;ignore&#x27;),\n",
       "                                 [0])])</pre></div></div></div><div class=\"sk-parallel\"><div class=\"sk-parallel-item\"><div class=\"sk-item\"><div class=\"sk-label-container\"><div class=\"sk-label sk-toggleable\"><input class=\"sk-toggleable__control sk-hidden--visually\" id=\"eef8ac34-b359-417b-8748-74e781cd0f50\" type=\"checkbox\" ><label for=\"eef8ac34-b359-417b-8748-74e781cd0f50\" class=\"sk-toggleable__label sk-toggleable__label-arrow\">treat</label><div class=\"sk-toggleable__content\"><pre>[0]</pre></div></div></div><div class=\"sk-serial\"><div class=\"sk-item\"><div class=\"sk-estimator sk-toggleable\"><input class=\"sk-toggleable__control sk-hidden--visually\" id=\"42054b09-48da-4ea3-a71b-6a40eb3116ec\" type=\"checkbox\" ><label for=\"42054b09-48da-4ea3-a71b-6a40eb3116ec\" class=\"sk-toggleable__label sk-toggleable__label-arrow\">OneHotEncoder</label><div class=\"sk-toggleable__content\"><pre>OneHotEncoder(drop=&#x27;first&#x27;, handle_unknown=&#x27;ignore&#x27;)</pre></div></div></div></div></div></div><div class=\"sk-parallel-item\"><div class=\"sk-item\"><div class=\"sk-label-container\"><div class=\"sk-label sk-toggleable\"><input class=\"sk-toggleable__control sk-hidden--visually\" id=\"279e0f20-beb8-46b9-86c1-d3dc173fa224\" type=\"checkbox\" ><label for=\"279e0f20-beb8-46b9-86c1-d3dc173fa224\" class=\"sk-toggleable__label sk-toggleable__label-arrow\">remainder</label><div class=\"sk-toggleable__content\"><pre>[&#x27;stone_size&#x27;]</pre></div></div></div><div class=\"sk-serial\"><div class=\"sk-item\"><div class=\"sk-estimator sk-toggleable\"><input class=\"sk-toggleable__control sk-hidden--visually\" id=\"54540b6a-43e0-485e-b3e2-bd702d6529c1\" type=\"checkbox\" ><label for=\"54540b6a-43e0-485e-b3e2-bd702d6529c1\" class=\"sk-toggleable__label sk-toggleable__label-arrow\">passthrough</label><div class=\"sk-toggleable__content\"><pre>passthrough</pre></div></div></div></div></div></div></div></div><div class=\"sk-item sk-dashed-wrapped\"><div class=\"sk-label-container\"><div class=\"sk-label sk-toggleable\"><input class=\"sk-toggleable__control sk-hidden--visually\" id=\"c9a660c6-d4f7-4138-b6de-6ad83d06bca4\" type=\"checkbox\" ><label for=\"c9a660c6-d4f7-4138-b6de-6ad83d06bca4\" class=\"sk-toggleable__label sk-toggleable__label-arrow\">trf2: ColumnTransformer</label><div class=\"sk-toggleable__content\"><pre>ColumnTransformer(remainder=&#x27;passthrough&#x27;,\n",
       "                  transformers=[(&#x27;stone&#x27;,\n",
       "                                 OrdinalEncoder(categories=[[&#x27;large&#x27;,\n",
       "                                                             &#x27;small&#x27;]]),\n",
       "                                 [1])])</pre></div></div></div><div class=\"sk-parallel\"><div class=\"sk-parallel-item\"><div class=\"sk-item\"><div class=\"sk-label-container\"><div class=\"sk-label sk-toggleable\"><input class=\"sk-toggleable__control sk-hidden--visually\" id=\"64e09f22-2279-42ad-8258-a4546b2624d6\" type=\"checkbox\" ><label for=\"64e09f22-2279-42ad-8258-a4546b2624d6\" class=\"sk-toggleable__label sk-toggleable__label-arrow\">stone</label><div class=\"sk-toggleable__content\"><pre>[1]</pre></div></div></div><div class=\"sk-serial\"><div class=\"sk-item\"><div class=\"sk-estimator sk-toggleable\"><input class=\"sk-toggleable__control sk-hidden--visually\" id=\"70e78d35-1fc7-4134-8806-5720e54ca0b6\" type=\"checkbox\" ><label for=\"70e78d35-1fc7-4134-8806-5720e54ca0b6\" class=\"sk-toggleable__label sk-toggleable__label-arrow\">OrdinalEncoder</label><div class=\"sk-toggleable__content\"><pre>OrdinalEncoder(categories=[[&#x27;large&#x27;, &#x27;small&#x27;]])</pre></div></div></div></div></div></div><div class=\"sk-parallel-item\"><div class=\"sk-item\"><div class=\"sk-label-container\"><div class=\"sk-label sk-toggleable\"><input class=\"sk-toggleable__control sk-hidden--visually\" id=\"7df2bc64-eec1-49e8-b570-026d20f1a776\" type=\"checkbox\" ><label for=\"7df2bc64-eec1-49e8-b570-026d20f1a776\" class=\"sk-toggleable__label sk-toggleable__label-arrow\">remainder</label><div class=\"sk-toggleable__content\"><pre>[0]</pre></div></div></div><div class=\"sk-serial\"><div class=\"sk-item\"><div class=\"sk-estimator sk-toggleable\"><input class=\"sk-toggleable__control sk-hidden--visually\" id=\"1de731c2-2000-4c0e-8507-6d72b9965648\" type=\"checkbox\" ><label for=\"1de731c2-2000-4c0e-8507-6d72b9965648\" class=\"sk-toggleable__label sk-toggleable__label-arrow\">passthrough</label><div class=\"sk-toggleable__content\"><pre>passthrough</pre></div></div></div></div></div></div></div></div><div class=\"sk-item\"><div class=\"sk-estimator sk-toggleable\"><input class=\"sk-toggleable__control sk-hidden--visually\" id=\"b75cf25c-c337-469f-9117-11448ea060a6\" type=\"checkbox\" ><label for=\"b75cf25c-c337-469f-9117-11448ea060a6\" class=\"sk-toggleable__label sk-toggleable__label-arrow\">SelectKBest</label><div class=\"sk-toggleable__content\"><pre>SelectKBest(k=2, score_func=&lt;function chi2 at 0x00000240DC187160&gt;)</pre></div></div></div><div class=\"sk-item\"><div class=\"sk-estimator sk-toggleable\"><input class=\"sk-toggleable__control sk-hidden--visually\" id=\"dfb2bbaa-a969-4773-bbfa-611cc0292f6f\" type=\"checkbox\" ><label for=\"dfb2bbaa-a969-4773-bbfa-611cc0292f6f\" class=\"sk-toggleable__label sk-toggleable__label-arrow\">DecisionTreeClassifier</label><div class=\"sk-toggleable__content\"><pre>DecisionTreeClassifier()</pre></div></div></div></div></div></div></div>"
      ],
      "text/plain": [
       "Pipeline(steps=[('trf1',\n",
       "                 ColumnTransformer(remainder='passthrough',\n",
       "                                   transformers=[('treat',\n",
       "                                                  OneHotEncoder(drop='first',\n",
       "                                                                handle_unknown='ignore'),\n",
       "                                                  [0])])),\n",
       "                ('trf2',\n",
       "                 ColumnTransformer(remainder='passthrough',\n",
       "                                   transformers=[('stone',\n",
       "                                                  OrdinalEncoder(categories=[['large',\n",
       "                                                                              'small']]),\n",
       "                                                  [1])])),\n",
       "                ('sk',\n",
       "                 SelectKBest(k=2,\n",
       "                             score_func=<function chi2 at 0x00000240DC187160>)),\n",
       "                ('dtc', DecisionTreeClassifier())])"
      ]
     },
     "execution_count": 130,
     "metadata": {},
     "output_type": "execute_result"
    }
   ],
   "source": [
    "pipe.fit(x_train,y_train)"
   ]
  },
  {
   "cell_type": "code",
   "execution_count": 131,
   "id": "0230ad68",
   "metadata": {},
   "outputs": [
    {
     "data": {
      "text/plain": [
       "{'trf1': ColumnTransformer(remainder='passthrough',\n",
       "                   transformers=[('treat',\n",
       "                                  OneHotEncoder(drop='first',\n",
       "                                                handle_unknown='ignore'),\n",
       "                                  [0])]),\n",
       " 'trf2': ColumnTransformer(remainder='passthrough',\n",
       "                   transformers=[('stone',\n",
       "                                  OrdinalEncoder(categories=[['large',\n",
       "                                                              'small']]),\n",
       "                                  [1])]),\n",
       " 'sk': SelectKBest(k=2, score_func=<function chi2 at 0x00000240DC187160>),\n",
       " 'dtc': DecisionTreeClassifier()}"
      ]
     },
     "execution_count": 131,
     "metadata": {},
     "output_type": "execute_result"
    }
   ],
   "source": [
    "pipe.named_steps"
   ]
  },
  {
   "cell_type": "code",
   "execution_count": 132,
   "id": "9cb71814",
   "metadata": {},
   "outputs": [],
   "source": [
    "from sklearn import set_config"
   ]
  },
  {
   "cell_type": "code",
   "execution_count": 133,
   "id": "18d072c6",
   "metadata": {},
   "outputs": [],
   "source": [
    "set_config(display='diagram')"
   ]
  },
  {
   "cell_type": "code",
   "execution_count": 134,
   "id": "fd330c08",
   "metadata": {},
   "outputs": [
    {
     "data": {
      "text/plain": [
       "array([1, 1, 1, 1, 1, 1, 1, 1, 1, 1, 1, 1, 1, 1, 1, 1, 1, 1, 1, 1, 1, 1,\n",
       "       1, 1, 1, 1, 1, 1, 1, 1, 1, 1, 1, 1, 1, 1, 1, 1, 1, 1, 1, 1, 1, 1,\n",
       "       1, 1, 1, 1, 1, 1, 1, 1, 1, 1, 1, 1, 1, 1, 1, 1, 1, 1, 1, 1, 1, 1,\n",
       "       1, 1, 1, 1, 1, 1, 1, 1, 1, 1, 1, 1, 1, 1, 1, 1, 1, 1, 1, 1, 1, 1,\n",
       "       1, 1, 1, 1, 1, 1, 1, 1, 1, 1, 1, 1, 1, 1, 1, 1, 1, 1, 1, 1, 1, 1,\n",
       "       1, 1, 1, 1, 1, 1, 1, 1, 1, 1, 1, 1, 1, 1, 1, 1, 1, 1, 1, 1, 1, 1,\n",
       "       1, 1, 1, 1, 1, 1, 1, 1], dtype=int64)"
      ]
     },
     "execution_count": 134,
     "metadata": {},
     "output_type": "execute_result"
    }
   ],
   "source": [
    "y_pred=pipe.predict(x_test)\n",
    "y_pred"
   ]
  },
  {
   "cell_type": "code",
   "execution_count": 135,
   "id": "d7b71b7b",
   "metadata": {},
   "outputs": [
    {
     "data": {
      "text/plain": [
       "0.8142857142857143"
      ]
     },
     "execution_count": 135,
     "metadata": {},
     "output_type": "execute_result"
    }
   ],
   "source": [
    "from sklearn.metrics import accuracy_score\n",
    "accuracy_score(y_test,y_pred)"
   ]
  },
  {
   "cell_type": "code",
   "execution_count": 136,
   "id": "db73a0ef",
   "metadata": {},
   "outputs": [],
   "source": [
    "from sklearn.model_selection import cross_val_score\n"
   ]
  },
  {
   "cell_type": "code",
   "execution_count": 137,
   "id": "c73ef0bb",
   "metadata": {},
   "outputs": [
    {
     "data": {
      "text/plain": [
       "0.8"
      ]
     },
     "execution_count": 137,
     "metadata": {},
     "output_type": "execute_result"
    }
   ],
   "source": [
    "cross_val_score(pipe,x_train,y_train,cv=5,scoring='accuracy').mean()"
   ]
  },
  {
   "cell_type": "code",
   "execution_count": 138,
   "id": "bf1833a3",
   "metadata": {},
   "outputs": [],
   "source": [
    "import pickle\n",
    "pickle.dump(pipe,open('ksd.pkl','wb'))"
   ]
  },
  {
   "cell_type": "code",
   "execution_count": null,
   "id": "fadbeea7",
   "metadata": {},
   "outputs": [],
   "source": []
  }
 ],
 "metadata": {
  "kernelspec": {
   "display_name": "Python 3 (ipykernel)",
   "language": "python",
   "name": "python3"
  },
  "language_info": {
   "codemirror_mode": {
    "name": "ipython",
    "version": 3
   },
   "file_extension": ".py",
   "mimetype": "text/x-python",
   "name": "python",
   "nbconvert_exporter": "python",
   "pygments_lexer": "ipython3",
   "version": "3.9.12"
  }
 },
 "nbformat": 4,
 "nbformat_minor": 5
}
