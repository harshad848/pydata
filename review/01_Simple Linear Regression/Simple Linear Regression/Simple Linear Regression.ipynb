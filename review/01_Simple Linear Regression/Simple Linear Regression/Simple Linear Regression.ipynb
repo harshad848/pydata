{
 "cells": [
  {
   "cell_type": "markdown",
   "metadata": {},
   "source": [
    "## Regression\n",
    "In supervised machine learning techniques, we build models that could predict a categorical or numerical value. When the models predict a continuous numerical value, the model is said to Regression model."
   ]
  },
  {
   "cell_type": "markdown",
   "metadata": {},
   "source": [
    "#### Simple Linear Regression\n",
    "When a model predicts numerical target values based on a single predictor, then it becomes a simple linear regression model. "
   ]
  },
  {
   "cell_type": "markdown",
   "metadata": {},
   "source": [
    "#### Multiple Linear Regression\n",
    "When a model predicts numerical target values based on more than one predictor, then it becomes a multiple linear regression model."
   ]
  },
  {
   "cell_type": "markdown",
   "metadata": {},
   "source": [
    "## Agenda\n",
    "* Building Regression model manually\n",
    "* Building Regression model using Scikit Learn"
   ]
  },
  {
   "cell_type": "markdown",
   "metadata": {},
   "source": [
    "#### Steps in building a model\n",
    "* Read data\n",
    "* Feature engineering\n",
    "* Create a train set and a test set\n",
    "* Use train set to build the model\n",
    "* Test the model\n",
    "* Visualize"
   ]
  },
  {
   "cell_type": "code",
   "execution_count": 2,
   "metadata": {},
   "outputs": [],
   "source": [
    "# Importing the required libraries\n",
    "\n",
    "import numpy as np\n",
    "import pandas as pd\n",
    "import matplotlib.pyplot as plt\n",
    "%matplotlib inline"
   ]
  },
  {
   "cell_type": "code",
   "execution_count": 3,
   "metadata": {},
   "outputs": [],
   "source": [
    "#import warnings\n",
    "#warnings.filterwarnings('ignore')"
   ]
  },
  {
   "cell_type": "markdown",
   "metadata": {},
   "source": [
    "In this notebook, we will consider computers dataset, which contains the details of time taken to repair a computer, given the number of units to be repaired."
   ]
  },
  {
   "cell_type": "markdown",
   "metadata": {},
   "source": [
    "### Building Regression model manually"
   ]
  },
  {
   "cell_type": "markdown",
   "metadata": {},
   "source": [
    "#### <font color='blue'>Read data</font>"
   ]
  },
  {
   "cell_type": "code",
   "execution_count": 4,
   "metadata": {},
   "outputs": [],
   "source": [
    "computers = pd.read_csv(\"datasets/computers.csv\") # Reading data from input csv file"
   ]
  },
  {
   "cell_type": "code",
   "execution_count": 5,
   "metadata": {},
   "outputs": [
    {
     "data": {
      "text/html": [
       "<div>\n",
       "<style scoped>\n",
       "    .dataframe tbody tr th:only-of-type {\n",
       "        vertical-align: middle;\n",
       "    }\n",
       "\n",
       "    .dataframe tbody tr th {\n",
       "        vertical-align: top;\n",
       "    }\n",
       "\n",
       "    .dataframe thead th {\n",
       "        text-align: right;\n",
       "    }\n",
       "</style>\n",
       "<table border=\"1\" class=\"dataframe\">\n",
       "  <thead>\n",
       "    <tr style=\"text-align: right;\">\n",
       "      <th></th>\n",
       "      <th>Units</th>\n",
       "      <th>Minutes</th>\n",
       "    </tr>\n",
       "  </thead>\n",
       "  <tbody>\n",
       "    <tr>\n",
       "      <th>0</th>\n",
       "      <td>1</td>\n",
       "      <td>23</td>\n",
       "    </tr>\n",
       "    <tr>\n",
       "      <th>1</th>\n",
       "      <td>2</td>\n",
       "      <td>29</td>\n",
       "    </tr>\n",
       "    <tr>\n",
       "      <th>2</th>\n",
       "      <td>3</td>\n",
       "      <td>49</td>\n",
       "    </tr>\n",
       "    <tr>\n",
       "      <th>3</th>\n",
       "      <td>4</td>\n",
       "      <td>64</td>\n",
       "    </tr>\n",
       "    <tr>\n",
       "      <th>4</th>\n",
       "      <td>4</td>\n",
       "      <td>74</td>\n",
       "    </tr>\n",
       "  </tbody>\n",
       "</table>\n",
       "</div>"
      ],
      "text/plain": [
       "   Units  Minutes\n",
       "0      1       23\n",
       "1      2       29\n",
       "2      3       49\n",
       "3      4       64\n",
       "4      4       74"
      ]
     },
     "execution_count": 5,
     "metadata": {},
     "output_type": "execute_result"
    }
   ],
   "source": [
    "computers.head() # Printing the first 5 rows"
   ]
  },
  {
   "cell_type": "markdown",
   "metadata": {},
   "source": [
    "#### <font color='blue'>Feature Engineering</font>\n",
    "Let us get some insights from the data to help us build our model."
   ]
  },
  {
   "cell_type": "code",
   "execution_count": 6,
   "metadata": {},
   "outputs": [],
   "source": [
    "# Calculating the mean.\n",
    "mean_value = computers['Minutes'].mean()"
   ]
  },
  {
   "cell_type": "code",
   "execution_count": 7,
   "metadata": {
    "scrolled": true
   },
   "outputs": [
    {
     "data": {
      "text/plain": [
       "Text(0, 0.5, 'Minutes')"
      ]
     },
     "execution_count": 7,
     "metadata": {},
     "output_type": "execute_result"
    },
    {
     "data": {
      "image/png": "[encoded data removed]",
      "text/plain": [
       "<Figure size 432x288 with 1 Axes>"
      ]
     },
     "metadata": {
      "needs_background": "light"
     },
     "output_type": "display_data"
    }
   ],
   "source": [
    "# Plotting the actual time taken for various values of number of faulty units.\n",
    "plt.scatter(computers['Units'],computers['Minutes'],color='blue', marker='o')\n",
    "\n",
    "# Plotting the mean\n",
    "plt.axhline(y=mean_value,c=\"r\")\n",
    "\n",
    "# Adding annotation, xlabel and ylabel.\n",
    "plt.annotate(\"Mean repair time\",xy = (7.5,mean_value+2))\n",
    "plt.xlabel(\"Units\")\n",
    "plt.ylabel(\"Minutes\")"
   ]
  },
  {
   "cell_type": "markdown",
   "metadata": {},
   "source": [
    "#### <font color='blue'>Building model manually</font>\n",
    "<pre>\n",
    "Since we have only one predictor, we are going to build a simple linear model.\n",
    "So, our model will contain a single independant variable.\n",
    "\n",
    "Hence the model is going to be a simple straight line, with equation y=mx+c\n",
    "    where x is independant variable (Units),\n",
    "        y is the dependant variable (Minutes),\n",
    "        m is the slope of the straight line and\n",
    "        c is the intercept.\n",
    "        \n",
    "Let us consider the straight line that represents the mean value as model0. \n",
    "Note that, in the above model slope is 0 (straight line parallel to x-axis). Hence, model0 = 0*x + mean_value\n",
    "Let us begin with building two more random models and assess their performance.\n",
    "</pre>"
   ]
  },
  {
   "cell_type": "code",
   "execution_count": 8,
   "metadata": {},
   "outputs": [],
   "source": [
    "# Creating three Linear Regression models \n",
    "minutes_model0 = computers['Minutes'].mean() # Model0: Estimated time = Mean('Minutes')\n",
    "minutes_model1 = 10 + 12*computers['Units']  # Model1: Estimated time = 10 + 12*(#Units) minutes\n",
    "minutes_model2 = 6 + 18*computers['Units']   # Model2: Estimated time = 6 + 18*(#Units) minutes"
   ]
  },
  {
   "cell_type": "markdown",
   "metadata": {},
   "source": [
    "The outcome (predictions) of above models are added to the dataframe for Visualization"
   ]
  },
  {
   "cell_type": "code",
   "execution_count": 9,
   "metadata": {},
   "outputs": [],
   "source": [
    "computers['min_model0'] = minutes_model0\n",
    "computers['min_model1'] = minutes_model1\n",
    "computers['min_model2'] = minutes_model2"
   ]
  },
  {
   "cell_type": "markdown",
   "metadata": {},
   "source": [
    "#### <font color='blue'>Visualization of Models</font>"
   ]
  },
  {
   "cell_type": "code",
   "execution_count": 10,
   "metadata": {},
   "outputs": [
    {
     "data": {
      "text/plain": [
       "<matplotlib.legend.Legend at 0x21047d0bee0>"
      ]
     },
     "execution_count": 10,
     "metadata": {},
     "output_type": "execute_result"
    },
    {
     "data": {
      "image/png": "[encoded data removed]",
      "text/plain": [
       "<Figure size 432x288 with 1 Axes>"
      ]
     },
     "metadata": {
      "needs_background": "light"
     },
     "output_type": "display_data"
    }
   ],
   "source": [
    "fig,ax = plt.subplots()\n",
    "\n",
    "# Plotting the actual 'Minutes'\n",
    "ax.scatter(x=\"Units\",y=\"Minutes\",data=computers,label='actual repair time')\n",
    "\n",
    "# Plotting the Model0 predictions\n",
    "ax.plot(computers['Units'],computers['min_model0'],color=\"red\",label='model0')\n",
    "\n",
    "# Plotting the Model1 predictions\n",
    "ax.plot(computers['Units'],computers['min_model1'],color=\"green\",label='model1')\n",
    "\n",
    "# Plotting the Model2 predictions\n",
    "ax.plot(computers['Units'],computers['min_model2'],color=\"black\",label='model2')\n",
    "\n",
    "# Adding xlabel, ylabel, title and legend \n",
    "ax.set_ylabel(\"Minutes\")\n",
    "ax.set_xlabel(\"Units\")\n",
    "ax.set_title(\"Speculated Models\")\n",
    "ax.legend()\n"
   ]
  },
  {
   "cell_type": "markdown",
   "metadata": {},
   "source": [
    "From the above visual, it is observed that, the models are still deviated from the datapoints. The model that would run through most data points would be a better model. So, to build the best model, we need to identy appropriate slope and intercept. Before building the best model, let us evaluate the performance of the models created already."
   ]
  },
  {
   "cell_type": "markdown",
   "metadata": {},
   "source": [
    "#### <font color='blue'>Validation of model0</font>"
   ]
  },
  {
   "cell_type": "code",
   "execution_count": 11,
   "metadata": {},
   "outputs": [],
   "source": [
    "# Validating Model0: Estimated time = mean('Minutes')\n",
    "# Creating a Pandas DataFrame with 'Units', actual 'Minutes', predicted 'Minutes' by Model0, error in prediction by Model0.\n",
    "\n",
    "model0_obs = pd.DataFrame({\"Units\":computers['Units'],\n",
    "              \"Actual time\":computers['Minutes'],\n",
    "              \"Predicted time\":computers['min_model0'],\n",
    "              \"Error\":(computers['min_model0'] - computers['Minutes'])})"
   ]
  },
  {
   "cell_type": "code",
   "execution_count": 12,
   "metadata": {},
   "outputs": [
    {
     "data": {
      "text/html": [
       "<div>\n",
       "<style scoped>\n",
       "    .dataframe tbody tr th:only-of-type {\n",
       "        vertical-align: middle;\n",
       "    }\n",
       "\n",
       "    .dataframe tbody tr th {\n",
       "        vertical-align: top;\n",
       "    }\n",
       "\n",
       "    .dataframe thead th {\n",
       "        text-align: right;\n",
       "    }\n",
       "</style>\n",
       "<table border=\"1\" class=\"dataframe\">\n",
       "  <thead>\n",
       "    <tr style=\"text-align: right;\">\n",
       "      <th></th>\n",
       "      <th>Units</th>\n",
       "      <th>Actual time</th>\n",
       "      <th>Predicted time</th>\n",
       "      <th>Error</th>\n",
       "    </tr>\n",
       "  </thead>\n",
       "  <tbody>\n",
       "    <tr>\n",
       "      <th>0</th>\n",
       "      <td>1</td>\n",
       "      <td>23</td>\n",
       "      <td>97.214286</td>\n",
       "      <td>74.214286</td>\n",
       "    </tr>\n",
       "    <tr>\n",
       "      <th>1</th>\n",
       "      <td>2</td>\n",
       "      <td>29</td>\n",
       "      <td>97.214286</td>\n",
       "      <td>68.214286</td>\n",
       "    </tr>\n",
       "    <tr>\n",
       "      <th>2</th>\n",
       "      <td>3</td>\n",
       "      <td>49</td>\n",
       "      <td>97.214286</td>\n",
       "      <td>48.214286</td>\n",
       "    </tr>\n",
       "    <tr>\n",
       "      <th>3</th>\n",
       "      <td>4</td>\n",
       "      <td>64</td>\n",
       "      <td>97.214286</td>\n",
       "      <td>33.214286</td>\n",
       "    </tr>\n",
       "    <tr>\n",
       "      <th>4</th>\n",
       "      <td>4</td>\n",
       "      <td>74</td>\n",
       "      <td>97.214286</td>\n",
       "      <td>23.214286</td>\n",
       "    </tr>\n",
       "    <tr>\n",
       "      <th>5</th>\n",
       "      <td>5</td>\n",
       "      <td>87</td>\n",
       "      <td>97.214286</td>\n",
       "      <td>10.214286</td>\n",
       "    </tr>\n",
       "    <tr>\n",
       "      <th>6</th>\n",
       "      <td>6</td>\n",
       "      <td>96</td>\n",
       "      <td>97.214286</td>\n",
       "      <td>1.214286</td>\n",
       "    </tr>\n",
       "    <tr>\n",
       "      <th>7</th>\n",
       "      <td>6</td>\n",
       "      <td>97</td>\n",
       "      <td>97.214286</td>\n",
       "      <td>0.214286</td>\n",
       "    </tr>\n",
       "    <tr>\n",
       "      <th>8</th>\n",
       "      <td>7</td>\n",
       "      <td>109</td>\n",
       "      <td>97.214286</td>\n",
       "      <td>-11.785714</td>\n",
       "    </tr>\n",
       "    <tr>\n",
       "      <th>9</th>\n",
       "      <td>8</td>\n",
       "      <td>119</td>\n",
       "      <td>97.214286</td>\n",
       "      <td>-21.785714</td>\n",
       "    </tr>\n",
       "    <tr>\n",
       "      <th>10</th>\n",
       "      <td>9</td>\n",
       "      <td>149</td>\n",
       "      <td>97.214286</td>\n",
       "      <td>-51.785714</td>\n",
       "    </tr>\n",
       "    <tr>\n",
       "      <th>11</th>\n",
       "      <td>9</td>\n",
       "      <td>145</td>\n",
       "      <td>97.214286</td>\n",
       "      <td>-47.785714</td>\n",
       "    </tr>\n",
       "    <tr>\n",
       "      <th>12</th>\n",
       "      <td>10</td>\n",
       "      <td>154</td>\n",
       "      <td>97.214286</td>\n",
       "      <td>-56.785714</td>\n",
       "    </tr>\n",
       "    <tr>\n",
       "      <th>13</th>\n",
       "      <td>10</td>\n",
       "      <td>166</td>\n",
       "      <td>97.214286</td>\n",
       "      <td>-68.785714</td>\n",
       "    </tr>\n",
       "  </tbody>\n",
       "</table>\n",
       "</div>"
      ],
      "text/plain": [
       "    Units  Actual time  Predicted time      Error\n",
       "0       1           23       97.214286  74.214286\n",
       "1       2           29       97.214286  68.214286\n",
       "2       3           49       97.214286  48.214286\n",
       "3       4           64       97.214286  33.214286\n",
       "4       4           74       97.214286  23.214286\n",
       "5       5           87       97.214286  10.214286\n",
       "6       6           96       97.214286   1.214286\n",
       "7       6           97       97.214286   0.214286\n",
       "8       7          109       97.214286 -11.785714\n",
       "9       8          119       97.214286 -21.785714\n",
       "10      9          149       97.214286 -51.785714\n",
       "11      9          145       97.214286 -47.785714\n",
       "12     10          154       97.214286 -56.785714\n",
       "13     10          166       97.214286 -68.785714"
      ]
     },
     "execution_count": 12,
     "metadata": {},
     "output_type": "execute_result"
    }
   ],
   "source": [
    "model0_obs # Printing the DataFrame"
   ]
  },
  {
   "cell_type": "code",
   "execution_count": 13,
   "metadata": {},
   "outputs": [
    {
     "data": {
      "text/plain": [
       "1.4210854715202004e-14"
      ]
     },
     "execution_count": 13,
     "metadata": {},
     "output_type": "execute_result"
    }
   ],
   "source": [
    "# Sum of errors\n",
    "sum(model0_obs['Error'])"
   ]
  },
  {
   "cell_type": "code",
   "execution_count": 14,
   "metadata": {},
   "outputs": [
    {
     "data": {
      "text/plain": [
       "27768.357142857145"
      ]
     },
     "execution_count": 14,
     "metadata": {},
     "output_type": "execute_result"
    }
   ],
   "source": [
    "# Sum of squared errors\n",
    "sum(model0_obs['Error']**2)"
   ]
  },
  {
   "cell_type": "markdown",
   "metadata": {},
   "source": [
    "#### <font color='blue'>Validation of model1</font>"
   ]
  },
  {
   "cell_type": "code",
   "execution_count": 15,
   "metadata": {},
   "outputs": [],
   "source": [
    "# Creating a Pandas DataFrame with 'Units', actual 'Minutes', predicted 'Minutes' by Model1, error in prediction by Model1.\n",
    "# Model1: Estimated time = 10 + 12*(#Units) minutes\n",
    "\n",
    "model1_obs = pd.DataFrame({\"Units\":computers.Units,\n",
    "              \"Actual time\":computers.Minutes,\n",
    "              \"Predicted time\":computers.min_model1,\n",
    "              \"Error\":(computers.min_model1 - computers.Minutes)})"
   ]
  },
  {
   "cell_type": "code",
   "execution_count": 16,
   "metadata": {},
   "outputs": [
    {
     "data": {
      "text/html": [
       "<div>\n",
       "<style scoped>\n",
       "    .dataframe tbody tr th:only-of-type {\n",
       "        vertical-align: middle;\n",
       "    }\n",
       "\n",
       "    .dataframe tbody tr th {\n",
       "        vertical-align: top;\n",
       "    }\n",
       "\n",
       "    .dataframe thead th {\n",
       "        text-align: right;\n",
       "    }\n",
       "</style>\n",
       "<table border=\"1\" class=\"dataframe\">\n",
       "  <thead>\n",
       "    <tr style=\"text-align: right;\">\n",
       "      <th></th>\n",
       "      <th>Units</th>\n",
       "      <th>Actual time</th>\n",
       "      <th>Predicted time</th>\n",
       "      <th>Error</th>\n",
       "    </tr>\n",
       "  </thead>\n",
       "  <tbody>\n",
       "    <tr>\n",
       "      <th>0</th>\n",
       "      <td>1</td>\n",
       "      <td>23</td>\n",
       "      <td>22</td>\n",
       "      <td>-1</td>\n",
       "    </tr>\n",
       "    <tr>\n",
       "      <th>1</th>\n",
       "      <td>2</td>\n",
       "      <td>29</td>\n",
       "      <td>34</td>\n",
       "      <td>5</td>\n",
       "    </tr>\n",
       "    <tr>\n",
       "      <th>2</th>\n",
       "      <td>3</td>\n",
       "      <td>49</td>\n",
       "      <td>46</td>\n",
       "      <td>-3</td>\n",
       "    </tr>\n",
       "    <tr>\n",
       "      <th>3</th>\n",
       "      <td>4</td>\n",
       "      <td>64</td>\n",
       "      <td>58</td>\n",
       "      <td>-6</td>\n",
       "    </tr>\n",
       "    <tr>\n",
       "      <th>4</th>\n",
       "      <td>4</td>\n",
       "      <td>74</td>\n",
       "      <td>58</td>\n",
       "      <td>-16</td>\n",
       "    </tr>\n",
       "    <tr>\n",
       "      <th>5</th>\n",
       "      <td>5</td>\n",
       "      <td>87</td>\n",
       "      <td>70</td>\n",
       "      <td>-17</td>\n",
       "    </tr>\n",
       "    <tr>\n",
       "      <th>6</th>\n",
       "      <td>6</td>\n",
       "      <td>96</td>\n",
       "      <td>82</td>\n",
       "      <td>-14</td>\n",
       "    </tr>\n",
       "    <tr>\n",
       "      <th>7</th>\n",
       "      <td>6</td>\n",
       "      <td>97</td>\n",
       "      <td>82</td>\n",
       "      <td>-15</td>\n",
       "    </tr>\n",
       "    <tr>\n",
       "      <th>8</th>\n",
       "      <td>7</td>\n",
       "      <td>109</td>\n",
       "      <td>94</td>\n",
       "      <td>-15</td>\n",
       "    </tr>\n",
       "    <tr>\n",
       "      <th>9</th>\n",
       "      <td>8</td>\n",
       "      <td>119</td>\n",
       "      <td>106</td>\n",
       "      <td>-13</td>\n",
       "    </tr>\n",
       "    <tr>\n",
       "      <th>10</th>\n",
       "      <td>9</td>\n",
       "      <td>149</td>\n",
       "      <td>118</td>\n",
       "      <td>-31</td>\n",
       "    </tr>\n",
       "    <tr>\n",
       "      <th>11</th>\n",
       "      <td>9</td>\n",
       "      <td>145</td>\n",
       "      <td>118</td>\n",
       "      <td>-27</td>\n",
       "    </tr>\n",
       "    <tr>\n",
       "      <th>12</th>\n",
       "      <td>10</td>\n",
       "      <td>154</td>\n",
       "      <td>130</td>\n",
       "      <td>-24</td>\n",
       "    </tr>\n",
       "    <tr>\n",
       "      <th>13</th>\n",
       "      <td>10</td>\n",
       "      <td>166</td>\n",
       "      <td>130</td>\n",
       "      <td>-36</td>\n",
       "    </tr>\n",
       "  </tbody>\n",
       "</table>\n",
       "</div>"
      ],
      "text/plain": [
       "    Units  Actual time  Predicted time  Error\n",
       "0       1           23              22     -1\n",
       "1       2           29              34      5\n",
       "2       3           49              46     -3\n",
       "3       4           64              58     -6\n",
       "4       4           74              58    -16\n",
       "5       5           87              70    -17\n",
       "6       6           96              82    -14\n",
       "7       6           97              82    -15\n",
       "8       7          109              94    -15\n",
       "9       8          119             106    -13\n",
       "10      9          149             118    -31\n",
       "11      9          145             118    -27\n",
       "12     10          154             130    -24\n",
       "13     10          166             130    -36"
      ]
     },
     "execution_count": 16,
     "metadata": {},
     "output_type": "execute_result"
    }
   ],
   "source": [
    "model1_obs"
   ]
  },
  {
   "cell_type": "code",
   "execution_count": 17,
   "metadata": {},
   "outputs": [
    {
     "data": {
      "text/plain": [
       "4993"
      ]
     },
     "execution_count": 17,
     "metadata": {},
     "output_type": "execute_result"
    }
   ],
   "source": [
    "# SSE for Model1\n",
    "sum(model1_obs.Error**2)"
   ]
  },
  {
   "cell_type": "markdown",
   "metadata": {},
   "source": [
    "#### <font color='blue'>Validation of model2</font>"
   ]
  },
  {
   "cell_type": "code",
   "execution_count": 18,
   "metadata": {},
   "outputs": [],
   "source": [
    "# Creating a Pandas DataFrame with 'Units', actual 'Minutes', predicted 'Minutes' by Model2, error in prediction by Model2.\n",
    "# Model2: Estimated time = 6 + 18*(#Units) minutes\n",
    "\n",
    "model2_obs = pd.DataFrame({\"Units\":computers.Units,\n",
    "              \"Actual time\":computers.Minutes,\n",
    "              \"Predicted time\":computers.min_model2,\n",
    "              \"Error\":(computers.min_model2 - computers.Minutes)})"
   ]
  },
  {
   "cell_type": "code",
   "execution_count": 19,
   "metadata": {},
   "outputs": [
    {
     "data": {
      "text/html": [
       "<div>\n",
       "<style scoped>\n",
       "    .dataframe tbody tr th:only-of-type {\n",
       "        vertical-align: middle;\n",
       "    }\n",
       "\n",
       "    .dataframe tbody tr th {\n",
       "        vertical-align: top;\n",
       "    }\n",
       "\n",
       "    .dataframe thead th {\n",
       "        text-align: right;\n",
       "    }\n",
       "</style>\n",
       "<table border=\"1\" class=\"dataframe\">\n",
       "  <thead>\n",
       "    <tr style=\"text-align: right;\">\n",
       "      <th></th>\n",
       "      <th>Units</th>\n",
       "      <th>Actual time</th>\n",
       "      <th>Predicted time</th>\n",
       "      <th>Error</th>\n",
       "    </tr>\n",
       "  </thead>\n",
       "  <tbody>\n",
       "    <tr>\n",
       "      <th>0</th>\n",
       "      <td>1</td>\n",
       "      <td>23</td>\n",
       "      <td>24</td>\n",
       "      <td>1</td>\n",
       "    </tr>\n",
       "    <tr>\n",
       "      <th>1</th>\n",
       "      <td>2</td>\n",
       "      <td>29</td>\n",
       "      <td>42</td>\n",
       "      <td>13</td>\n",
       "    </tr>\n",
       "    <tr>\n",
       "      <th>2</th>\n",
       "      <td>3</td>\n",
       "      <td>49</td>\n",
       "      <td>60</td>\n",
       "      <td>11</td>\n",
       "    </tr>\n",
       "    <tr>\n",
       "      <th>3</th>\n",
       "      <td>4</td>\n",
       "      <td>64</td>\n",
       "      <td>78</td>\n",
       "      <td>14</td>\n",
       "    </tr>\n",
       "    <tr>\n",
       "      <th>4</th>\n",
       "      <td>4</td>\n",
       "      <td>74</td>\n",
       "      <td>78</td>\n",
       "      <td>4</td>\n",
       "    </tr>\n",
       "    <tr>\n",
       "      <th>5</th>\n",
       "      <td>5</td>\n",
       "      <td>87</td>\n",
       "      <td>96</td>\n",
       "      <td>9</td>\n",
       "    </tr>\n",
       "    <tr>\n",
       "      <th>6</th>\n",
       "      <td>6</td>\n",
       "      <td>96</td>\n",
       "      <td>114</td>\n",
       "      <td>18</td>\n",
       "    </tr>\n",
       "    <tr>\n",
       "      <th>7</th>\n",
       "      <td>6</td>\n",
       "      <td>97</td>\n",
       "      <td>114</td>\n",
       "      <td>17</td>\n",
       "    </tr>\n",
       "    <tr>\n",
       "      <th>8</th>\n",
       "      <td>7</td>\n",
       "      <td>109</td>\n",
       "      <td>132</td>\n",
       "      <td>23</td>\n",
       "    </tr>\n",
       "    <tr>\n",
       "      <th>9</th>\n",
       "      <td>8</td>\n",
       "      <td>119</td>\n",
       "      <td>150</td>\n",
       "      <td>31</td>\n",
       "    </tr>\n",
       "    <tr>\n",
       "      <th>10</th>\n",
       "      <td>9</td>\n",
       "      <td>149</td>\n",
       "      <td>168</td>\n",
       "      <td>19</td>\n",
       "    </tr>\n",
       "    <tr>\n",
       "      <th>11</th>\n",
       "      <td>9</td>\n",
       "      <td>145</td>\n",
       "      <td>168</td>\n",
       "      <td>23</td>\n",
       "    </tr>\n",
       "    <tr>\n",
       "      <th>12</th>\n",
       "      <td>10</td>\n",
       "      <td>154</td>\n",
       "      <td>186</td>\n",
       "      <td>32</td>\n",
       "    </tr>\n",
       "    <tr>\n",
       "      <th>13</th>\n",
       "      <td>10</td>\n",
       "      <td>166</td>\n",
       "      <td>186</td>\n",
       "      <td>20</td>\n",
       "    </tr>\n",
       "  </tbody>\n",
       "</table>\n",
       "</div>"
      ],
      "text/plain": [
       "    Units  Actual time  Predicted time  Error\n",
       "0       1           23              24      1\n",
       "1       2           29              42     13\n",
       "2       3           49              60     11\n",
       "3       4           64              78     14\n",
       "4       4           74              78      4\n",
       "5       5           87              96      9\n",
       "6       6           96             114     18\n",
       "7       6           97             114     17\n",
       "8       7          109             132     23\n",
       "9       8          119             150     31\n",
       "10      9          149             168     19\n",
       "11      9          145             168     23\n",
       "12     10          154             186     32\n",
       "13     10          166             186     20"
      ]
     },
     "execution_count": 19,
     "metadata": {},
     "output_type": "execute_result"
    }
   ],
   "source": [
    "model2_obs"
   ]
  },
  {
   "cell_type": "code",
   "execution_count": 20,
   "metadata": {},
   "outputs": [
    {
     "data": {
      "text/plain": [
       "5001"
      ]
     },
     "execution_count": 20,
     "metadata": {},
     "output_type": "execute_result"
    }
   ],
   "source": [
    "# SSE for Model2\n",
    "sum(model2_obs.Error**2)"
   ]
  },
  {
   "cell_type": "markdown",
   "metadata": {},
   "source": [
    "#### <font color='blue'>Bulding best fit model manually</font>\n",
    "<pre>\n",
    "To built the best fit model, we need to find the appropriate coefficient and intercept values, such that the sum of the squared regression error becomes zero. We use differential calculus to find the same.\n",
    "\n",
    "Using differntial calculus, we would arrive at\n",
    "    m= (sum(x*y) - n*mean(x)*mean(y)) / (sum(x**2) - n*(mean(x)**2))\n",
    "    c= mean(y) - (m * mean(x))\n",
    "        where x is the predictor values\n",
    "            y is the actual target values\n",
    "            n is the sample size\n",
    "\n",
    "</pre>"
   ]
  },
  {
   "cell_type": "code",
   "execution_count": 21,
   "metadata": {},
   "outputs": [
    {
     "name": "stdout",
     "output_type": "stream",
     "text": [
      "intercept :  4.161654135338296  coefficient :  15.508771929824569\n"
     ]
    }
   ],
   "source": [
    "x = computers.Units\n",
    "y = computers.Minutes\n",
    "xiyi = x*y\n",
    "n = len(computers)\n",
    "xmean = computers.Units.mean()\n",
    "ymean = computers.Minutes.mean()\n",
    "numerator = xiyi.sum() - n*xmean*ymean\n",
    "denominator = (x**2).sum() - n*(xmean**2)\n",
    "m = numerator/denominator\n",
    "c = ymean - (m*xmean)\n",
    "print('intercept : ',c,' coefficient : ',m)"
   ]
  },
  {
   "cell_type": "code",
   "execution_count": 22,
   "metadata": {},
   "outputs": [],
   "source": [
    "min_best_fit_model = c + m*computers.Units\n",
    "computers['min_best_fit_model'] = min_best_fit_model"
   ]
  },
  {
   "cell_type": "markdown",
   "metadata": {},
   "source": [
    "#### <font color='blue'>Visualization of Best fit Model</font>"
   ]
  },
  {
   "cell_type": "code",
   "execution_count": 23,
   "metadata": {},
   "outputs": [
    {
     "data": {
      "text/html": [
       "<div>\n",
       "<style scoped>\n",
       "    .dataframe tbody tr th:only-of-type {\n",
       "        vertical-align: middle;\n",
       "    }\n",
       "\n",
       "    .dataframe tbody tr th {\n",
       "        vertical-align: top;\n",
       "    }\n",
       "\n",
       "    .dataframe thead th {\n",
       "        text-align: right;\n",
       "    }\n",
       "</style>\n",
       "<table border=\"1\" class=\"dataframe\">\n",
       "  <thead>\n",
       "    <tr style=\"text-align: right;\">\n",
       "      <th></th>\n",
       "      <th>Units</th>\n",
       "      <th>Minutes</th>\n",
       "      <th>min_best_fit_model</th>\n",
       "    </tr>\n",
       "  </thead>\n",
       "  <tbody>\n",
       "    <tr>\n",
       "      <th>0</th>\n",
       "      <td>1</td>\n",
       "      <td>23</td>\n",
       "      <td>19.670426</td>\n",
       "    </tr>\n",
       "    <tr>\n",
       "      <th>1</th>\n",
       "      <td>2</td>\n",
       "      <td>29</td>\n",
       "      <td>35.179198</td>\n",
       "    </tr>\n",
       "    <tr>\n",
       "      <th>2</th>\n",
       "      <td>3</td>\n",
       "      <td>49</td>\n",
       "      <td>50.687970</td>\n",
       "    </tr>\n",
       "    <tr>\n",
       "      <th>3</th>\n",
       "      <td>4</td>\n",
       "      <td>64</td>\n",
       "      <td>66.196742</td>\n",
       "    </tr>\n",
       "    <tr>\n",
       "      <th>4</th>\n",
       "      <td>4</td>\n",
       "      <td>74</td>\n",
       "      <td>66.196742</td>\n",
       "    </tr>\n",
       "    <tr>\n",
       "      <th>5</th>\n",
       "      <td>5</td>\n",
       "      <td>87</td>\n",
       "      <td>81.705514</td>\n",
       "    </tr>\n",
       "    <tr>\n",
       "      <th>6</th>\n",
       "      <td>6</td>\n",
       "      <td>96</td>\n",
       "      <td>97.214286</td>\n",
       "    </tr>\n",
       "    <tr>\n",
       "      <th>7</th>\n",
       "      <td>6</td>\n",
       "      <td>97</td>\n",
       "      <td>97.214286</td>\n",
       "    </tr>\n",
       "    <tr>\n",
       "      <th>8</th>\n",
       "      <td>7</td>\n",
       "      <td>109</td>\n",
       "      <td>112.723058</td>\n",
       "    </tr>\n",
       "    <tr>\n",
       "      <th>9</th>\n",
       "      <td>8</td>\n",
       "      <td>119</td>\n",
       "      <td>128.231830</td>\n",
       "    </tr>\n",
       "    <tr>\n",
       "      <th>10</th>\n",
       "      <td>9</td>\n",
       "      <td>149</td>\n",
       "      <td>143.740602</td>\n",
       "    </tr>\n",
       "    <tr>\n",
       "      <th>11</th>\n",
       "      <td>9</td>\n",
       "      <td>145</td>\n",
       "      <td>143.740602</td>\n",
       "    </tr>\n",
       "    <tr>\n",
       "      <th>12</th>\n",
       "      <td>10</td>\n",
       "      <td>154</td>\n",
       "      <td>159.249373</td>\n",
       "    </tr>\n",
       "    <tr>\n",
       "      <th>13</th>\n",
       "      <td>10</td>\n",
       "      <td>166</td>\n",
       "      <td>159.249373</td>\n",
       "    </tr>\n",
       "  </tbody>\n",
       "</table>\n",
       "</div>"
      ],
      "text/plain": [
       "    Units  Minutes  min_best_fit_model\n",
       "0       1       23           19.670426\n",
       "1       2       29           35.179198\n",
       "2       3       49           50.687970\n",
       "3       4       64           66.196742\n",
       "4       4       74           66.196742\n",
       "5       5       87           81.705514\n",
       "6       6       96           97.214286\n",
       "7       6       97           97.214286\n",
       "8       7      109          112.723058\n",
       "9       8      119          128.231830\n",
       "10      9      149          143.740602\n",
       "11      9      145          143.740602\n",
       "12     10      154          159.249373\n",
       "13     10      166          159.249373"
      ]
     },
     "execution_count": 23,
     "metadata": {},
     "output_type": "execute_result"
    }
   ],
   "source": [
    "# Printing the values predicted by the best fit model\n",
    "computers[[\"Units\",\"Minutes\",\"min_best_fit_model\"]]"
   ]
  },
  {
   "cell_type": "code",
   "execution_count": 24,
   "metadata": {},
   "outputs": [
    {
     "data": {
      "text/plain": [
       "Text(0.5, 1.0, 'Best fit model line')"
      ]
     },
     "execution_count": 24,
     "metadata": {},
     "output_type": "execute_result"
    },
    {
     "data": {
      "image/png": "[encoded data removed]",
      "text/plain": [
       "<Figure size 432x288 with 1 Axes>"
      ]
     },
     "metadata": {
      "needs_background": "light"
     },
     "output_type": "display_data"
    }
   ],
   "source": [
    "fig,ax = plt.subplots()\n",
    "ax.scatter(x=\"Units\",y=\"Minutes\",data=computers)\n",
    "ax.plot(computers.Units,computers.min_best_fit_model,color=\"red\")\n",
    "ax.set_ylabel(\"Minutes\")\n",
    "ax.set_xlabel(\"Units\")\n",
    "ax.set_title(\"Best fit model line\")"
   ]
  },
  {
   "cell_type": "markdown",
   "metadata": {},
   "source": [
    "#### <font color='blue'>Validation of best fit model</font>"
   ]
  },
  {
   "cell_type": "code",
   "execution_count": 25,
   "metadata": {},
   "outputs": [
    {
     "data": {
      "text/html": [
       "<div>\n",
       "<style scoped>\n",
       "    .dataframe tbody tr th:only-of-type {\n",
       "        vertical-align: middle;\n",
       "    }\n",
       "\n",
       "    .dataframe tbody tr th {\n",
       "        vertical-align: top;\n",
       "    }\n",
       "\n",
       "    .dataframe thead th {\n",
       "        text-align: right;\n",
       "    }\n",
       "</style>\n",
       "<table border=\"1\" class=\"dataframe\">\n",
       "  <thead>\n",
       "    <tr style=\"text-align: right;\">\n",
       "      <th></th>\n",
       "      <th>Units</th>\n",
       "      <th>Actual time</th>\n",
       "      <th>Predicted time</th>\n",
       "      <th>Error</th>\n",
       "    </tr>\n",
       "  </thead>\n",
       "  <tbody>\n",
       "    <tr>\n",
       "      <th>0</th>\n",
       "      <td>1</td>\n",
       "      <td>23</td>\n",
       "      <td>19.670426</td>\n",
       "      <td>-3.329574</td>\n",
       "    </tr>\n",
       "    <tr>\n",
       "      <th>1</th>\n",
       "      <td>2</td>\n",
       "      <td>29</td>\n",
       "      <td>35.179198</td>\n",
       "      <td>6.179198</td>\n",
       "    </tr>\n",
       "    <tr>\n",
       "      <th>2</th>\n",
       "      <td>3</td>\n",
       "      <td>49</td>\n",
       "      <td>50.687970</td>\n",
       "      <td>1.687970</td>\n",
       "    </tr>\n",
       "    <tr>\n",
       "      <th>3</th>\n",
       "      <td>4</td>\n",
       "      <td>64</td>\n",
       "      <td>66.196742</td>\n",
       "      <td>2.196742</td>\n",
       "    </tr>\n",
       "    <tr>\n",
       "      <th>4</th>\n",
       "      <td>4</td>\n",
       "      <td>74</td>\n",
       "      <td>66.196742</td>\n",
       "      <td>-7.803258</td>\n",
       "    </tr>\n",
       "    <tr>\n",
       "      <th>5</th>\n",
       "      <td>5</td>\n",
       "      <td>87</td>\n",
       "      <td>81.705514</td>\n",
       "      <td>-5.294486</td>\n",
       "    </tr>\n",
       "    <tr>\n",
       "      <th>6</th>\n",
       "      <td>6</td>\n",
       "      <td>96</td>\n",
       "      <td>97.214286</td>\n",
       "      <td>1.214286</td>\n",
       "    </tr>\n",
       "    <tr>\n",
       "      <th>7</th>\n",
       "      <td>6</td>\n",
       "      <td>97</td>\n",
       "      <td>97.214286</td>\n",
       "      <td>0.214286</td>\n",
       "    </tr>\n",
       "    <tr>\n",
       "      <th>8</th>\n",
       "      <td>7</td>\n",
       "      <td>109</td>\n",
       "      <td>112.723058</td>\n",
       "      <td>3.723058</td>\n",
       "    </tr>\n",
       "    <tr>\n",
       "      <th>9</th>\n",
       "      <td>8</td>\n",
       "      <td>119</td>\n",
       "      <td>128.231830</td>\n",
       "      <td>9.231830</td>\n",
       "    </tr>\n",
       "    <tr>\n",
       "      <th>10</th>\n",
       "      <td>9</td>\n",
       "      <td>149</td>\n",
       "      <td>143.740602</td>\n",
       "      <td>-5.259398</td>\n",
       "    </tr>\n",
       "    <tr>\n",
       "      <th>11</th>\n",
       "      <td>9</td>\n",
       "      <td>145</td>\n",
       "      <td>143.740602</td>\n",
       "      <td>-1.259398</td>\n",
       "    </tr>\n",
       "    <tr>\n",
       "      <th>12</th>\n",
       "      <td>10</td>\n",
       "      <td>154</td>\n",
       "      <td>159.249373</td>\n",
       "      <td>5.249373</td>\n",
       "    </tr>\n",
       "    <tr>\n",
       "      <th>13</th>\n",
       "      <td>10</td>\n",
       "      <td>166</td>\n",
       "      <td>159.249373</td>\n",
       "      <td>-6.750627</td>\n",
       "    </tr>\n",
       "  </tbody>\n",
       "</table>\n",
       "</div>"
      ],
      "text/plain": [
       "    Units  Actual time  Predicted time     Error\n",
       "0       1           23       19.670426 -3.329574\n",
       "1       2           29       35.179198  6.179198\n",
       "2       3           49       50.687970  1.687970\n",
       "3       4           64       66.196742  2.196742\n",
       "4       4           74       66.196742 -7.803258\n",
       "5       5           87       81.705514 -5.294486\n",
       "6       6           96       97.214286  1.214286\n",
       "7       6           97       97.214286  0.214286\n",
       "8       7          109      112.723058  3.723058\n",
       "9       8          119      128.231830  9.231830\n",
       "10      9          149      143.740602 -5.259398\n",
       "11      9          145      143.740602 -1.259398\n",
       "12     10          154      159.249373  5.249373\n",
       "13     10          166      159.249373 -6.750627"
      ]
     },
     "execution_count": 25,
     "metadata": {},
     "output_type": "execute_result"
    }
   ],
   "source": [
    "# Computing the SSE for the best fit model\n",
    "\n",
    "best_fit_model_obs = pd.DataFrame({\"Units\":computers.Units,\n",
    "              \"Actual time\":computers.Minutes,\n",
    "              \"Predicted time\":computers.min_best_fit_model,\n",
    "              \"Error\":computers.min_best_fit_model - computers.Minutes})\n",
    "\n",
    "best_fit_model_obs"
   ]
  },
  {
   "cell_type": "code",
   "execution_count": 26,
   "metadata": {},
   "outputs": [
    {
     "data": {
      "text/plain": [
       "348.848370927318"
      ]
     },
     "execution_count": 26,
     "metadata": {},
     "output_type": "execute_result"
    }
   ],
   "source": [
    "# SSE for the best fit model\n",
    "sum(best_fit_model_obs.Error**2)"
   ]
  },
  {
   "cell_type": "markdown",
   "metadata": {},
   "source": [
    "### Building Regression model using Scikit-Learn Library"
   ]
  },
  {
   "cell_type": "code",
   "execution_count": 27,
   "metadata": {},
   "outputs": [],
   "source": [
    "# Importing the required class\n",
    "from sklearn.linear_model import LinearRegression\n",
    "\n",
    "# Setting the 'Units' column as the input data or predictor column\n",
    "X = computers[['Units']]\n",
    "\n",
    "# Setting the 'Minutes' column as the output data or target column\n",
    "y=computers['Minutes']"
   ]
  },
  {
   "cell_type": "code",
   "execution_count": 28,
   "metadata": {},
   "outputs": [
    {
     "name": "stdout",
     "output_type": "stream",
     "text": [
      "Intercept: 4.16165413533831\n",
      "Coefficients: [15.50877193]\n"
     ]
    }
   ],
   "source": [
    "# Creating a linear regression model\n",
    "model = LinearRegression()\n",
    "\n",
    "# Fitting the model to the data i.e. building the model\n",
    "model.fit(X, y)\n",
    "\n",
    "# Fetching intercept (b0) and coefficient (b1)\n",
    "print(\"Intercept:\", model.intercept_)\n",
    "print(\"Coefficients:\",model.coef_)"
   ]
  },
  {
   "cell_type": "markdown",
   "metadata": {},
   "source": [
    "## Coefficient of Determination"
   ]
  },
  {
   "cell_type": "code",
   "execution_count": 29,
   "metadata": {},
   "outputs": [
    {
     "data": {
      "text/plain": [
       "27768.357142857145"
      ]
     },
     "execution_count": 29,
     "metadata": {},
     "output_type": "execute_result"
    }
   ],
   "source": [
    "SST = sum((computers.Minutes.mean() - computers.Minutes)**2)\n",
    "SST"
   ]
  },
  {
   "cell_type": "code",
   "execution_count": 30,
   "metadata": {},
   "outputs": [
    {
     "data": {
      "text/plain": [
       "348.848370927318"
      ]
     },
     "execution_count": 30,
     "metadata": {},
     "output_type": "execute_result"
    }
   ],
   "source": [
    "SSE = sum(best_fit_model_obs.Error**2)\n",
    "SSE"
   ]
  },
  {
   "cell_type": "code",
   "execution_count": 31,
   "metadata": {},
   "outputs": [
    {
     "data": {
      "text/plain": [
       "27419.508771929828"
      ]
     },
     "execution_count": 31,
     "metadata": {},
     "output_type": "execute_result"
    }
   ],
   "source": [
    "SSR = SST - SSE\n",
    "SSR"
   ]
  },
  {
   "cell_type": "code",
   "execution_count": 32,
   "metadata": {},
   "outputs": [
    {
     "data": {
      "text/plain": [
       "0.9874371980620736"
      ]
     },
     "execution_count": 32,
     "metadata": {},
     "output_type": "execute_result"
    }
   ],
   "source": [
    "Rsq = SSR/SST\n",
    "Rsq"
   ]
  },
  {
   "cell_type": "code",
   "execution_count": 33,
   "metadata": {},
   "outputs": [],
   "source": [
    "# Setting the 'Units' column as the input data or predictor column\n",
    "X = computers[['Units']]\n",
    "\n",
    "# Setting the 'Minutes' column as the output data or target column\n",
    "y=computers['Minutes']"
   ]
  },
  {
   "cell_type": "code",
   "execution_count": 34,
   "metadata": {},
   "outputs": [
    {
     "data": {
      "text/plain": [
       "0.9874371980620736"
      ]
     },
     "execution_count": 34,
     "metadata": {},
     "output_type": "execute_result"
    }
   ],
   "source": [
    "Rsq1 = model.score(computers[[\"Units\"]],y)\n",
    "Rsq1"
   ]
  },
  {
   "cell_type": "code",
   "execution_count": 35,
   "metadata": {},
   "outputs": [
    {
     "data": {
      "text/plain": [
       "array([[1.        , 0.99369875],\n",
       "       [0.99369875, 1.        ]])"
      ]
     },
     "execution_count": 35,
     "metadata": {},
     "output_type": "execute_result"
    }
   ],
   "source": [
    "np.corrcoef(computers[\"Units\"],y)"
   ]
  },
  {
   "cell_type": "code",
   "execution_count": null,
   "metadata": {},
   "outputs": [],
   "source": []
  }
 ],
 "metadata": {
  "kernelspec": {
   "display_name": "Python 3 (ipykernel)",
   "language": "python",
   "name": "python3"
  },
  "language_info": {
   "codemirror_mode": {
    "name": "ipython",
    "version": 3
   },
   "file_extension": ".py",
   "mimetype": "text/x-python",
   "name": "python",
   "nbconvert_exporter": "python",
   "pygments_lexer": "ipython3",
   "version": "3.9.12"
  }
 },
 "nbformat": 4,
 "nbformat_minor": 2
}
