{
 "cells": [
  {
   "cell_type": "code",
   "execution_count": 1,
   "id": "33c17720",
   "metadata": {},
   "outputs": [
    {
     "data": {
      "text/html": [
       "<div>\n",
       "<style scoped>\n",
       "    .dataframe tbody tr th:only-of-type {\n",
       "        vertical-align: middle;\n",
       "    }\n",
       "\n",
       "    .dataframe tbody tr th {\n",
       "        vertical-align: top;\n",
       "    }\n",
       "\n",
       "    .dataframe thead th {\n",
       "        text-align: right;\n",
       "    }\n",
       "</style>\n",
       "<table border=\"1\" class=\"dataframe\">\n",
       "  <thead>\n",
       "    <tr style=\"text-align: right;\">\n",
       "      <th></th>\n",
       "      <th>Frist Name</th>\n",
       "      <th>Last Name</th>\n",
       "      <th>Type</th>\n",
       "      <th>Department</th>\n",
       "      <th>YoE</th>\n",
       "      <th>Salary</th>\n",
       "    </tr>\n",
       "  </thead>\n",
       "  <tbody>\n",
       "    <tr>\n",
       "      <th>0</th>\n",
       "      <td>Aryan</td>\n",
       "      <td>Singh</td>\n",
       "      <td>Full Time</td>\n",
       "      <td>administraction</td>\n",
       "      <td>2</td>\n",
       "      <td>20000</td>\n",
       "    </tr>\n",
       "    <tr>\n",
       "      <th>1</th>\n",
       "      <td>Rohan</td>\n",
       "      <td>Agarwal</td>\n",
       "      <td>intern</td>\n",
       "      <td>Technical</td>\n",
       "      <td>3</td>\n",
       "      <td>50000</td>\n",
       "    </tr>\n",
       "    <tr>\n",
       "      <th>2</th>\n",
       "      <td>Rjya</td>\n",
       "      <td>Shah</td>\n",
       "      <td>Full Time</td>\n",
       "      <td>administraction</td>\n",
       "      <td>5</td>\n",
       "      <td>100000</td>\n",
       "    </tr>\n",
       "    <tr>\n",
       "      <th>3</th>\n",
       "      <td>Yash</td>\n",
       "      <td>Bhaita</td>\n",
       "      <td>Part Time</td>\n",
       "      <td>Technical</td>\n",
       "      <td>7</td>\n",
       "      <td>100000</td>\n",
       "    </tr>\n",
       "    <tr>\n",
       "      <th>4</th>\n",
       "      <td>Siddhant</td>\n",
       "      <td>Khanna</td>\n",
       "      <td>Full Time</td>\n",
       "      <td>Management</td>\n",
       "      <td>6</td>\n",
       "      <td>200000</td>\n",
       "    </tr>\n",
       "  </tbody>\n",
       "</table>\n",
       "</div>"
      ],
      "text/plain": [
       "  Frist Name Last Name       Type       Department  YoE  Salary\n",
       "0      Aryan     Singh  Full Time  administraction    2   20000\n",
       "1      Rohan   Agarwal     intern        Technical    3   50000\n",
       "2       Rjya      Shah  Full Time  administraction    5  100000\n",
       "3       Yash    Bhaita  Part Time        Technical    7  100000\n",
       "4   Siddhant    Khanna  Full Time       Management    6  200000"
      ]
     },
     "execution_count": 1,
     "metadata": {},
     "output_type": "execute_result"
    }
   ],
   "source": [
    "from pandas import DataFrame\n",
    "df=DataFrame(\n",
    "            [\n",
    "                ['Aryan','Singh','Full Time','administraction',2,20000],\n",
    "                ['Rohan','Agarwal','intern','Technical',3,50000],\n",
    "                ['Rjya','Shah','Full Time','administraction',5,100000],\n",
    "                ['Yash','Bhaita','Part Time','Technical',7,100000],\n",
    "                ['Siddhant','Khanna','Full Time','Management',6,200000],\n",
    "            ]\n",
    "            ,columns=['Frist Name','Last Name','Type','Department','YoE','Salary']\n",
    "            )\n",
    "df"
   ]
  },
  {
   "cell_type": "code",
   "execution_count": null,
   "id": "e2821270",
   "metadata": {},
   "outputs": [],
   "source": []
  }
 ],
 "metadata": {
  "kernelspec": {
   "display_name": "Python 3 (ipykernel)",
   "language": "python",
   "name": "python3"
  },
  "language_info": {
   "codemirror_mode": {
    "name": "ipython",
    "version": 3
   },
   "file_extension": ".py",
   "mimetype": "text/x-python",
   "name": "python",
   "nbconvert_exporter": "python",
   "pygments_lexer": "ipython3",
   "version": "3.9.12"
  }
 },
 "nbformat": 4,
 "nbformat_minor": 5
}
