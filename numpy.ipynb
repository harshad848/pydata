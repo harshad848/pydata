{
 "cells": [
  {
   "cell_type": "code",
   "execution_count": 1,
   "id": "5a55df7e",
   "metadata": {},
   "outputs": [
    {
     "data": {
      "text/plain": [
       "'1.21.5'"
      ]
     },
     "execution_count": 1,
     "metadata": {},
     "output_type": "execute_result"
    }
   ],
   "source": [
    "import numpy as np\n",
    "np.__version__"
   ]
  },
  {
   "cell_type": "markdown",
   "id": "43845a4f",
   "metadata": {},
   "source": [
    "# CREATE 1d ARRAY USING ARRAY FUNCTION"
   ]
  },
  {
   "cell_type": "code",
   "execution_count": 2,
   "id": "cb7e1b70",
   "metadata": {},
   "outputs": [
    {
     "name": "stdout",
     "output_type": "stream",
     "text": [
      "[1 2 3 4 5]\n",
      "int32\n",
      "(5,)\n"
     ]
    }
   ],
   "source": [
    "import numpy as np\n",
    "a = np.array([1,2,3,4,5])\n",
    "print(a)\n",
    "print(a.dtype)\n",
    "print(a.shape)"
   ]
  },
  {
   "cell_type": "markdown",
   "id": "dd4971c1",
   "metadata": {},
   "source": [
    "# Create 1d array using arange function"
   ]
  },
  {
   "cell_type": "code",
   "execution_count": 3,
   "id": "15c92617",
   "metadata": {},
   "outputs": [
    {
     "name": "stdout",
     "output_type": "stream",
     "text": [
      "int32\n",
      "(10,)\n"
     ]
    }
   ],
   "source": [
    "arr =np.arange(10)\n",
    "arr\n",
    "print(arr.dtype)\n",
    "print(arr.shape)"
   ]
  },
  {
   "cell_type": "markdown",
   "id": "52ecbd4e",
   "metadata": {},
   "source": [
    "# CREATE A 2D ARRAY USING ARRAY"
   ]
  },
  {
   "cell_type": "code",
   "execution_count": 4,
   "id": "6d4090c6",
   "metadata": {},
   "outputs": [
    {
     "name": "stdout",
     "output_type": "stream",
     "text": [
      "[[1 2 3]\n",
      " [4 5 6]]\n",
      "int32\n",
      "(2, 3)\n"
     ]
    }
   ],
   "source": [
    "b = np.array([[1,2,3],[4,5,6]])\n",
    "print(b)\n",
    "print(b.dtype)\n",
    "print(b.shape)"
   ]
  },
  {
   "cell_type": "markdown",
   "id": "d2e4a5de",
   "metadata": {},
   "source": [
    "# CREATE 2d ARRAY USING ARANGE FUNCTION"
   ]
  },
  {
   "cell_type": "code",
   "execution_count": 5,
   "id": "3da16fc5",
   "metadata": {},
   "outputs": [
    {
     "name": "stdout",
     "output_type": "stream",
     "text": [
      "[[ 0  1]\n",
      " [ 2  3]\n",
      " [ 4  5]\n",
      " [ 6  7]\n",
      " [ 8  9]\n",
      " [10 11]]\n",
      "int32\n",
      "(6, 2)\n"
     ]
    }
   ],
   "source": [
    "b = np.arange(12).reshape(6,2)\n",
    "print(b)\n",
    "print(b.dtype)\n",
    "print(b.shape)"
   ]
  },
  {
   "cell_type": "markdown",
   "id": "246a2d5a",
   "metadata": {},
   "source": [
    "# CREATE 3D ARRAY USING ARRAY FUNCTION"
   ]
  },
  {
   "cell_type": "code",
   "execution_count": 6,
   "id": "bfb89732",
   "metadata": {},
   "outputs": [
    {
     "name": "stdout",
     "output_type": "stream",
     "text": [
      "[[[1 2 3]\n",
      "  [3 2 1]]\n",
      "\n",
      " [[4 5 6]\n",
      "  [6 5 4]]\n",
      "\n",
      " [[7 8 9]\n",
      "  [9 8 6]]]\n",
      "int32\n",
      "(3, 2, 3)\n"
     ]
    }
   ],
   "source": [
    "b = np.array(\n",
    "[\n",
    "    [[1,2,3],[3,2,1]],\n",
    "    [[4,5,6],[6,5,4]],\n",
    "    [[7,8,9],[9,8,6]]\n",
    "]\n",
    ")\n",
    "print(b)\n",
    "print(b.dtype)\n",
    "print(b.shape)"
   ]
  },
  {
   "cell_type": "markdown",
   "id": "2d79652c",
   "metadata": {},
   "source": [
    "# CREATE 3D ARRAY USING ARANGE FUNCTION"
   ]
  },
  {
   "cell_type": "code",
   "execution_count": 7,
   "id": "5cd0af6b",
   "metadata": {},
   "outputs": [
    {
     "name": "stdout",
     "output_type": "stream",
     "text": [
      "[[[ 0  1  2]\n",
      "  [ 3  4  5]]\n",
      "\n",
      " [[ 6  7  8]\n",
      "  [ 9 10 11]]\n",
      "\n",
      " [[12 13 14]\n",
      "  [15 16 17]]]\n",
      "int32\n",
      "(3, 2, 3)\n",
      "18\n"
     ]
    }
   ],
   "source": [
    "b =np.arange(18).reshape(3,2,3)\n",
    "print(b)\n",
    "print(b.dtype)\n",
    "print(b.shape)\n",
    "print(b.size)"
   ]
  },
  {
   "cell_type": "markdown",
   "id": "ffedbe3e",
   "metadata": {},
   "source": [
    "# CREATE ARRAY USING ZEROS"
   ]
  },
  {
   "cell_type": "code",
   "execution_count": 8,
   "id": "b343ed53",
   "metadata": {},
   "outputs": [
    {
     "name": "stdout",
     "output_type": "stream",
     "text": [
      "[[0. 0. 0. 0. 0.]\n",
      " [0. 0. 0. 0. 0.]]\n",
      "float64\n",
      "(2, 5)\n",
      "10\n"
     ]
    }
   ],
   "source": [
    "b = np.zeros(10).reshape(2,5)\n",
    "print(b)\n",
    "print(b.dtype)\n",
    "print(b.shape)\n",
    "print(b.size)"
   ]
  },
  {
   "cell_type": "markdown",
   "id": "22fc42ac",
   "metadata": {},
   "source": [
    "# CREATE ARRAY USING ONES"
   ]
  },
  {
   "cell_type": "code",
   "execution_count": 9,
   "id": "83cced40",
   "metadata": {},
   "outputs": [
    {
     "name": "stdout",
     "output_type": "stream",
     "text": [
      "[[1. 1. 1.]\n",
      " [1. 1. 1.]]\n",
      "float64\n",
      "(2, 3)\n",
      "6\n"
     ]
    }
   ],
   "source": [
    "b = np.ones(6).reshape(2,3)\n",
    "print(b)\n",
    "print(b.dtype)\n",
    "print(b.shape)\n",
    "print(b.size)"
   ]
  },
  {
   "cell_type": "markdown",
   "id": "310c8496",
   "metadata": {},
   "source": [
    "# CREATE ONES USING 2D ARRAY\n"
   ]
  },
  {
   "cell_type": "code",
   "execution_count": 10,
   "id": "ae85d534",
   "metadata": {},
   "outputs": [
    {
     "name": "stdout",
     "output_type": "stream",
     "text": [
      "[[1 1]\n",
      " [1 1]\n",
      " [1 1]\n",
      " [1 1]\n",
      " [1 1]\n",
      " [1 1]]\n"
     ]
    }
   ],
   "source": [
    "b = np.ones((6,2),dtype=np.int32)\n",
    "print(b)"
   ]
  },
  {
   "cell_type": "markdown",
   "id": "ccc7d0b2",
   "metadata": {},
   "source": [
    "# CREATE ARRAY OF ONES USING 3D"
   ]
  },
  {
   "cell_type": "code",
   "execution_count": 11,
   "id": "6ab6bd0a",
   "metadata": {},
   "outputs": [
    {
     "name": "stdout",
     "output_type": "stream",
     "text": [
      "[[[1 1]\n",
      "  [1 1]\n",
      "  [1 1]]\n",
      "\n",
      " [[1 1]\n",
      "  [1 1]\n",
      "  [1 1]]\n",
      "\n",
      " [[1 1]\n",
      "  [1 1]\n",
      "  [1 1]]\n",
      "\n",
      " [[1 1]\n",
      "  [1 1]\n",
      "  [1 1]]\n",
      "\n",
      " [[1 1]\n",
      "  [1 1]\n",
      "  [1 1]]\n",
      "\n",
      " [[1 1]\n",
      "  [1 1]\n",
      "  [1 1]]]\n",
      "int32\n",
      "(6, 3, 2)\n"
     ]
    }
   ],
   "source": [
    "b = np.ones((6,3,2),dtype=np.int32)\n",
    "print(b)\n",
    "print(b.dtype)\n",
    "print(b.shape)"
   ]
  },
  {
   "cell_type": "code",
   "execution_count": null,
   "id": "3710f93f",
   "metadata": {},
   "outputs": [],
   "source": []
  }
 ],
 "metadata": {
  "kernelspec": {
   "display_name": "Python 3 (ipykernel)",
   "language": "python",
   "name": "python3"
  },
  "language_info": {
   "codemirror_mode": {
    "name": "ipython",
    "version": 3
   },
   "file_extension": ".py",
   "mimetype": "text/x-python",
   "name": "python",
   "nbconvert_exporter": "python",
   "pygments_lexer": "ipython3",
   "version": "3.9.12"
  }
 },
 "nbformat": 4,
 "nbformat_minor": 5
}
