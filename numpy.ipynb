{
 "cells": [
  {
   "cell_type": "code",
   "execution_count": 1,
   "id": "474c64c2",
   "metadata": {},
   "outputs": [
    {
     "data": {
      "text/plain": [
       "'1.21.5'"
      ]
     },
     "execution_count": 1,
     "metadata": {},
     "output_type": "execute_result"
    }
   ],
   "source": [
    "import numpy as np\n",
    "np.__version__"
   ]
  },
  {
   "cell_type": "markdown",
   "id": "3c7c0199",
   "metadata": {},
   "source": [
    "# CREATE 1d ARRAY USING ARRAY FUNCTION"
   ]
  },
  {
   "cell_type": "code",
   "execution_count": 2,
   "id": "df75f654",
   "metadata": {},
   "outputs": [
    {
     "name": "stdout",
     "output_type": "stream",
     "text": [
      "[1 2 3 4 5]\n",
      "int32\n",
      "(5,)\n"
     ]
    }
   ],
   "source": [
    "import numpy as np\n",
    "a = np.array([1,2,3,4,5])\n",
    "print(a)\n",
    "print(a.dtype)\n",
    "print(a.shape)"
   ]
  },
  {
   "cell_type": "markdown",
   "id": "fb4e0eb4",
   "metadata": {},
   "source": [
    "# Create 1d array using arange function"
   ]
  },
  {
   "cell_type": "code",
   "execution_count": 3,
   "id": "6be5c977",
   "metadata": {},
   "outputs": [
    {
     "name": "stdout",
     "output_type": "stream",
     "text": [
      "int32\n",
      "(10,)\n"
     ]
    }
   ],
   "source": [
    "arr =np.arange(10)\n",
    "arr\n",
    "print(arr.dtype)\n",
    "print(arr.shape)"
   ]
  },
  {
   "cell_type": "markdown",
   "id": "ef9376a3",
   "metadata": {},
   "source": [
    "# CREATE A 2D ARRAY USING ARRAY"
   ]
  },
  {
   "cell_type": "code",
   "execution_count": 4,
   "id": "1422a4f8",
   "metadata": {},
   "outputs": [
    {
     "name": "stdout",
     "output_type": "stream",
     "text": [
      "[[1 2 3]\n",
      " [4 5 6]]\n",
      "int32\n",
      "(2, 3)\n"
     ]
    }
   ],
   "source": [
    "b = np.array([[1,2,3],[4,5,6]])\n",
    "print(b)\n",
    "print(b.dtype)\n",
    "print(b.shape)"
   ]
  },
  {
   "cell_type": "markdown",
   "id": "b41e181c",
   "metadata": {},
   "source": [
    "# CREATE 2d ARRAY USING ARANGE FUNCTION"
   ]
  },
  {
   "cell_type": "code",
   "execution_count": 5,
   "id": "cf8e2af3",
   "metadata": {},
   "outputs": [
    {
     "name": "stdout",
     "output_type": "stream",
     "text": [
      "[[ 0  1]\n",
      " [ 2  3]\n",
      " [ 4  5]\n",
      " [ 6  7]\n",
      " [ 8  9]\n",
      " [10 11]]\n",
      "int32\n",
      "(6, 2)\n"
     ]
    }
   ],
   "source": [
    "b = np.arange(12).reshape(6,2)\n",
    "print(b)\n",
    "print(b.dtype)\n",
    "print(b.shape)"
   ]
  },
  {
   "cell_type": "markdown",
   "id": "335bd35a",
   "metadata": {},
   "source": [
    "# CREATE 3D ARRAY USING ARRAY FUNCTION"
   ]
  },
  {
   "cell_type": "code",
   "execution_count": 6,
   "id": "68f38db9",
   "metadata": {},
   "outputs": [
    {
     "name": "stdout",
     "output_type": "stream",
     "text": [
      "[[[1 2 3]\n",
      "  [3 2 1]]\n",
      "\n",
      " [[4 5 6]\n",
      "  [6 5 4]]\n",
      "\n",
      " [[7 8 9]\n",
      "  [9 8 6]]]\n",
      "int32\n",
      "(3, 2, 3)\n"
     ]
    }
   ],
   "source": [
    "b = np.array(\n",
    "[\n",
    "    [[1,2,3],[3,2,1]],\n",
    "    [[4,5,6],[6,5,4]],\n",
    "    [[7,8,9],[9,8,6]]\n",
    "]\n",
    ")\n",
    "print(b)\n",
    "print(b.dtype)\n",
    "print(b.shape)"
   ]
  },
  {
   "cell_type": "markdown",
   "id": "901eabf2",
   "metadata": {},
   "source": [
    "# CREATE 3D ARRAY USING ARANGE FUNCTION"
   ]
  },
  {
   "cell_type": "code",
   "execution_count": 7,
   "id": "4a80973e",
   "metadata": {},
   "outputs": [
    {
     "name": "stdout",
     "output_type": "stream",
     "text": [
      "[[[ 0  1  2]\n",
      "  [ 3  4  5]]\n",
      "\n",
      " [[ 6  7  8]\n",
      "  [ 9 10 11]]\n",
      "\n",
      " [[12 13 14]\n",
      "  [15 16 17]]]\n",
      "int32\n",
      "(3, 2, 3)\n",
      "18\n"
     ]
    }
   ],
   "source": [
    "b =np.arange(18).reshape(3,2,3)\n",
    "print(b)\n",
    "print(b.dtype)\n",
    "print(b.shape)\n",
    "print(b.size)"
   ]
  },
  {
   "cell_type": "markdown",
   "id": "df3bf503",
   "metadata": {},
   "source": [
    "# CREATE ARRAY USING ZEROS"
   ]
  },
  {
   "cell_type": "code",
   "execution_count": 8,
   "id": "be466eab",
   "metadata": {},
   "outputs": [
    {
     "name": "stdout",
     "output_type": "stream",
     "text": [
      "[[0. 0. 0. 0. 0.]\n",
      " [0. 0. 0. 0. 0.]]\n",
      "float64\n",
      "(2, 5)\n",
      "10\n"
     ]
    }
   ],
   "source": [
    "b = np.zeros(10).reshape(2,5)\n",
    "print(b)\n",
    "print(b.dtype)\n",
    "print(b.shape)\n",
    "print(b.size)"
   ]
  },
  {
   "cell_type": "markdown",
   "id": "dd4f22e8",
   "metadata": {},
   "source": [
    "# CREATE ARRAY USING ONES"
   ]
  },
  {
   "cell_type": "code",
   "execution_count": 9,
   "id": "b6c9672f",
   "metadata": {},
   "outputs": [
    {
     "name": "stdout",
     "output_type": "stream",
     "text": [
      "[[1. 1. 1.]\n",
      " [1. 1. 1.]]\n",
      "float64\n",
      "(2, 3)\n",
      "6\n"
     ]
    }
   ],
   "source": [
    "b = np.ones(6).reshape(2,3)\n",
    "print(b)\n",
    "print(b.dtype)\n",
    "print(b.shape)\n",
    "print(b.size)"
   ]
  },
  {
   "cell_type": "markdown",
   "id": "f6a6ddd1",
   "metadata": {},
   "source": [
    "# CREATE ONES USING 2D ARRAY\n"
   ]
  },
  {
   "cell_type": "code",
   "execution_count": 10,
   "id": "69c5ff81",
   "metadata": {},
   "outputs": [
    {
     "name": "stdout",
     "output_type": "stream",
     "text": [
      "[[1 1]\n",
      " [1 1]\n",
      " [1 1]\n",
      " [1 1]\n",
      " [1 1]\n",
      " [1 1]]\n"
     ]
    }
   ],
   "source": [
    "b = np.ones((6,2),dtype=np.int32)\n",
    "print(b)"
   ]
  },
  {
   "cell_type": "markdown",
   "id": "9b11d25f",
   "metadata": {},
   "source": [
    "# CREATE ARRAY OF ONES USING 3D"
   ]
  },
  {
   "cell_type": "code",
   "execution_count": 11,
   "id": "2920e469",
   "metadata": {},
   "outputs": [
    {
     "name": "stdout",
     "output_type": "stream",
     "text": [
      "[[[1 1]\n",
      "  [1 1]\n",
      "  [1 1]]\n",
      "\n",
      " [[1 1]\n",
      "  [1 1]\n",
      "  [1 1]]\n",
      "\n",
      " [[1 1]\n",
      "  [1 1]\n",
      "  [1 1]]\n",
      "\n",
      " [[1 1]\n",
      "  [1 1]\n",
      "  [1 1]]\n",
      "\n",
      " [[1 1]\n",
      "  [1 1]\n",
      "  [1 1]]\n",
      "\n",
      " [[1 1]\n",
      "  [1 1]\n",
      "  [1 1]]]\n",
      "int32\n",
      "(6, 3, 2)\n"
     ]
    }
   ],
   "source": [
    "b = np.ones((6,3,2),dtype=np.int32)\n",
    "print(b)\n",
    "print(b.dtype)\n",
    "print(b.shape)"
   ]
  },
  {
   "cell_type": "markdown",
   "id": "7f781d92",
   "metadata": {},
   "source": [
    "# CREATE AN ARRAY WITH RANDOM NUMBERS USING 1d ARRAY"
   ]
  },
  {
   "cell_type": "code",
   "execution_count": 12,
   "id": "c920275e",
   "metadata": {},
   "outputs": [
    {
     "name": "stdout",
     "output_type": "stream",
     "text": [
      "[3 3 1 1 3]\n",
      "int32\n",
      "(5,)\n"
     ]
    }
   ],
   "source": [
    "b =np.random.randint(1,5,size=(5))\n",
    "print(b)\n",
    "print(b.dtype)\n",
    "print(b.shape)"
   ]
  },
  {
   "cell_type": "markdown",
   "id": "b20e71e2",
   "metadata": {},
   "source": [
    "# CREATE AN ARRAY USING RANDOM NUMBERS USING 2D ARRAY "
   ]
  },
  {
   "cell_type": "code",
   "execution_count": 13,
   "id": "de7ea0f3",
   "metadata": {},
   "outputs": [
    {
     "name": "stdout",
     "output_type": "stream",
     "text": [
      "[[6 6 5]\n",
      " [6 5 6]\n",
      " [6 2 3]]\n",
      "int32\n",
      "(3, 3)\n"
     ]
    }
   ],
   "source": [
    "b =np.random.randint(2,7,size=(3,3))\n",
    "print(b)\n",
    "print(b.dtype)\n",
    "print(b.shape)"
   ]
  },
  {
   "cell_type": "markdown",
   "id": "16ca62c8",
   "metadata": {},
   "source": [
    "# CREATE AN ARRAY WITH RANDOM NUMBERS USING 3D ARRAY"
   ]
  },
  {
   "cell_type": "code",
   "execution_count": 14,
   "id": "886b3348",
   "metadata": {},
   "outputs": [
    {
     "name": "stdout",
     "output_type": "stream",
     "text": [
      "[[[12 19 11]\n",
      "  [13 12 12]\n",
      "  [18 18 13]]\n",
      "\n",
      " [[13 17 13]\n",
      "  [17 12 18]\n",
      "  [16 19 10]]\n",
      "\n",
      " [[15 13 11]\n",
      "  [11 11 19]\n",
      "  [15 15 17]]]\n",
      "int32\n",
      "(3, 3, 3)\n"
     ]
    }
   ],
   "source": [
    "b =np.random.randint(10,20,size=(3,3,3))\n",
    "print(b)\n",
    "print(b.dtype)\n",
    "print(b.shape)"
   ]
  },
  {
   "cell_type": "markdown",
   "id": "aa2010c0",
   "metadata": {},
   "source": [
    "# CREATE ARRAY WITH SINGLE LOW MULTIPLE HIGH"
   ]
  },
  {
   "cell_type": "code",
   "execution_count": 15,
   "id": "db244927",
   "metadata": {},
   "outputs": [
    {
     "name": "stdout",
     "output_type": "stream",
     "text": [
      "[ 9 10  6]\n",
      "int32\n",
      "(3,)\n"
     ]
    }
   ],
   "source": [
    "a = np.random.randint(5,[10,20,30])\n",
    "print(a)\n",
    "print(a.dtype)\n",
    "print(a.shape)"
   ]
  },
  {
   "cell_type": "markdown",
   "id": "1bc809aa",
   "metadata": {},
   "source": [
    "# CREATE ARRAY WITH MUTIPLE LOW SINGLE HIGH"
   ]
  },
  {
   "cell_type": "code",
   "execution_count": 16,
   "id": "14e93903",
   "metadata": {},
   "outputs": [
    {
     "name": "stdout",
     "output_type": "stream",
     "text": [
      "[6 5 6]\n",
      "int32\n",
      "(3,)\n"
     ]
    }
   ],
   "source": [
    "a = np.random.randint([4,5,6],7)\n",
    "print(a)\n",
    "print(a.dtype)\n",
    "print(a.shape)"
   ]
  },
  {
   "cell_type": "markdown",
   "id": "8c31bfb1",
   "metadata": {},
   "source": [
    "# CREATE ARRAY WITH MUTILPLE HIGH AND MULTIPLE LOW"
   ]
  },
  {
   "cell_type": "code",
   "execution_count": 17,
   "id": "4d4959ca",
   "metadata": {},
   "outputs": [
    {
     "name": "stdout",
     "output_type": "stream",
     "text": [
      "[[[ 6  8 24]]\n",
      "\n",
      " [[ 4  2 11]]\n",
      "\n",
      " [[ 7 19 13]]]\n",
      "int32\n",
      "(3, 1, 3)\n"
     ]
    }
   ],
   "source": [
    "a = np.random.randint([1,2,3],[10,20,30],size=(3,1,3))\n",
    "print(a)\n",
    "print(a.dtype)\n",
    "print(a.shape)"
   ]
  },
  {
   "cell_type": "markdown",
   "id": "27fbec14",
   "metadata": {},
   "source": [
    "# RANDOM RANDN FUNCTION 1D"
   ]
  },
  {
   "cell_type": "code",
   "execution_count": 18,
   "id": "87906be7",
   "metadata": {},
   "outputs": [
    {
     "name": "stdout",
     "output_type": "stream",
     "text": [
      "[-1.34845412 -1.14366949 -0.17096157]\n",
      "float64\n",
      "(3,)\n"
     ]
    }
   ],
   "source": [
    "import numpy as np\n",
    "a = np.random.randn(3)\n",
    "print(a)\n",
    "print(a.dtype)\n",
    "print(a.shape)"
   ]
  },
  {
   "cell_type": "markdown",
   "id": "dc6be55b",
   "metadata": {},
   "source": [
    "# RANDOM RANDN FUNCTION 2D"
   ]
  },
  {
   "cell_type": "code",
   "execution_count": 19,
   "id": "cdf48079",
   "metadata": {},
   "outputs": [
    {
     "name": "stdout",
     "output_type": "stream",
     "text": [
      "[[ 0.14435216  0.23583281 -0.09607392]\n",
      " [ 1.07450658 -0.29563849  0.77459477]\n",
      " [-0.22821147  1.27693753 -0.66127571]]\n",
      "float64\n",
      "(3, 3)\n"
     ]
    }
   ],
   "source": [
    "a = np.random.randn(3,3)\n",
    "print(a)\n",
    "print(a.dtype)\n",
    "print(a.shape)"
   ]
  },
  {
   "cell_type": "markdown",
   "id": "900bd26e",
   "metadata": {},
   "source": [
    "# RANDOM RANDN FUNCTION 3D"
   ]
  },
  {
   "cell_type": "code",
   "execution_count": 20,
   "id": "78ce6e00",
   "metadata": {},
   "outputs": [
    {
     "name": "stdout",
     "output_type": "stream",
     "text": [
      "[[[-0.32147668  0.4771956   0.52539507]\n",
      "  [-0.2790901   1.22787461 -0.42308033]]\n",
      "\n",
      " [[-0.82468041 -1.33915697 -0.11568361]\n",
      "  [-0.34690879  0.47120627  0.33984798]]\n",
      "\n",
      " [[-1.40240842 -0.05086255 -0.18256652]\n",
      "  [-0.28891615  0.03908182  0.3075509 ]]]\n",
      "float64\n",
      "(3, 2, 3)\n"
     ]
    }
   ],
   "source": [
    "a = np.random.randn(3,2,3)\n",
    "print(a)\n",
    "print(a.dtype)\n",
    "print(a.shape)"
   ]
  },
  {
   "cell_type": "markdown",
   "id": "a0e58208",
   "metadata": {},
   "source": [
    "# CREATE RANDOM RAND FUNCTION"
   ]
  },
  {
   "cell_type": "code",
   "execution_count": 22,
   "id": "d9e6f15b",
   "metadata": {},
   "outputs": [
    {
     "name": "stdout",
     "output_type": "stream",
     "text": [
      "[0.23393756 0.96146993 0.88657477 0.50069268 0.53110144 0.31655783\n",
      " 0.09954087 0.89737834 0.34470635 0.16440314]\n",
      "float64\n",
      "(10,)\n"
     ]
    }
   ],
   "source": [
    "a = np.random.rand(10)\n",
    "print(a)\n",
    "print(a.dtype)\n",
    "print(a.shape)"
   ]
  },
  {
   "cell_type": "markdown",
   "id": "3b23205c",
   "metadata": {},
   "source": [
    "# POSITIVE INDEXING IN ARRAY "
   ]
  },
  {
   "cell_type": "code",
   "execution_count": 30,
   "id": "f3a5d690",
   "metadata": {},
   "outputs": [
    {
     "name": "stdout",
     "output_type": "stream",
     "text": [
      "2\n"
     ]
    }
   ],
   "source": [
    "#array with 1D\n",
    "arr=([2,3,4,5,6,7,8])\n",
    "print(arr[0])"
   ]
  },
  {
   "cell_type": "code",
   "execution_count": 33,
   "id": "603bc168",
   "metadata": {},
   "outputs": [
    {
     "name": "stdout",
     "output_type": "stream",
     "text": [
      "5\n"
     ]
    }
   ],
   "source": [
    "#array with 2D\n",
    "arr=np.array([[1,2,3],[4,5,6]])\n",
    "print(arr[1,1])"
   ]
  },
  {
   "cell_type": "code",
   "execution_count": 35,
   "id": "4d26d1c9",
   "metadata": {},
   "outputs": [
    {
     "name": "stdout",
     "output_type": "stream",
     "text": [
      "9\n",
      "6\n"
     ]
    }
   ],
   "source": [
    "#array with 3D\n",
    "arr=np.array(\n",
    "[\n",
    "    [[1,2,3],[3,2,1]],\n",
    "    [[4,5,6],[6,5,4]],\n",
    "    [[7,8,9],[9,8,7]]\n",
    "]\n",
    ")\n",
    "print(arr[2,1,0])\n",
    "print(arr[1,0,2])"
   ]
  },
  {
   "cell_type": "code",
   "execution_count": 37,
   "id": "c0c6fd4f",
   "metadata": {},
   "outputs": [
    {
     "name": "stdout",
     "output_type": "stream",
     "text": [
      "3\n"
     ]
    }
   ],
   "source": [
    "#negative array indexing 1D\n",
    "arr=np.array([1,2,3,4,5])\n",
    "print(arr[-3])"
   ]
  },
  {
   "cell_type": "code",
   "execution_count": 40,
   "id": "7c2368a8",
   "metadata": {},
   "outputs": [
    {
     "name": "stdout",
     "output_type": "stream",
     "text": [
      "5\n"
     ]
    }
   ],
   "source": [
    "#negative array indexing 2D\n",
    "arr=np.array([[1,2,3],[4,5,6]])\n",
    "print(arr[-1,-2])"
   ]
  },
  {
   "cell_type": "code",
   "execution_count": 44,
   "id": "49734e78",
   "metadata": {},
   "outputs": [
    {
     "name": "stdout",
     "output_type": "stream",
     "text": [
      "8\n",
      "5\n",
      "3\n"
     ]
    }
   ],
   "source": [
    "#negative array indexing 3D\n",
    "arr=np.array(\n",
    "[\n",
    "    [[1,2,3],[3,2,1]],\n",
    "    [[4,5,6],[6,5,4]],\n",
    "    [[7,8,9],[9,8,7]]\n",
    "]\n",
    ")\n",
    "print(arr[-1,-2,-2])\n",
    "print(arr[-2,-2,-2])\n",
    "print(arr[-3,-1,-3])"
   ]
  },
  {
   "cell_type": "markdown",
   "id": "8b2ca954",
   "metadata": {},
   "source": [
    "# NUMPY ARRAY SLICING"
   ]
  },
  {
   "cell_type": "raw",
   "id": "cde16c4c",
   "metadata": {},
   "source": [
    "slice elements from index 1 to 5 from the following array:"
   ]
  },
  {
   "cell_type": "code",
   "execution_count": 4,
   "id": "63f620d1",
   "metadata": {},
   "outputs": [
    {
     "name": "stdout",
     "output_type": "stream",
     "text": [
      "[2 3 4 5]\n"
     ]
    }
   ],
   "source": [
    "import numpy as np\n",
    "arr =np.array([1,2,3,4,5,6,7])\n",
    "print(arr[1:5])"
   ]
  },
  {
   "cell_type": "raw",
   "id": "55d01d88",
   "metadata": {},
   "source": [
    "slice elements from index 4 to end of the array:"
   ]
  },
  {
   "cell_type": "code",
   "execution_count": 5,
   "id": "c3ea707e",
   "metadata": {},
   "outputs": [
    {
     "name": "stdout",
     "output_type": "stream",
     "text": [
      "[5 6 7]\n"
     ]
    }
   ],
   "source": [
    "arr =np.array([1,2,3,4,5,6,7])\n",
    "print(arr[4:])"
   ]
  },
  {
   "cell_type": "raw",
   "id": "8609998b",
   "metadata": {},
   "source": [
    "slice elements from the beginning to index 4 (not included):"
   ]
  },
  {
   "cell_type": "code",
   "execution_count": 7,
   "id": "05c3731b",
   "metadata": {},
   "outputs": [
    {
     "name": "stdout",
     "output_type": "stream",
     "text": [
      "[1 2 3 4]\n"
     ]
    }
   ],
   "source": [
    "arr =np.array([1,2,3,4,5,6,7])\n",
    "print(arr[:4])"
   ]
  },
  {
   "cell_type": "markdown",
   "id": "76adddc5",
   "metadata": {},
   "source": [
    "# NEGATIVE SILCING"
   ]
  },
  {
   "cell_type": "raw",
   "id": "e7407b37",
   "metadata": {},
   "source": [
    "slice from the index 3 from the end to index 1 from the end:"
   ]
  },
  {
   "cell_type": "code",
   "execution_count": 8,
   "id": "3d37f9e2",
   "metadata": {},
   "outputs": [
    {
     "name": "stdout",
     "output_type": "stream",
     "text": [
      "[5 6]\n"
     ]
    }
   ],
   "source": [
    "arr =np.array([1,2,3,4,5,6,7])\n",
    "print(arr[-3:-1])"
   ]
  },
  {
   "cell_type": "raw",
   "id": "19f61505",
   "metadata": {},
   "source": [
    "return every elements from index 1 to index 5:"
   ]
  },
  {
   "cell_type": "code",
   "execution_count": 15,
   "id": "b758854c",
   "metadata": {},
   "outputs": [
    {
     "name": "stdout",
     "output_type": "stream",
     "text": [
      "[2 4]\n"
     ]
    }
   ],
   "source": [
    "arr =np.array([1,2,3,4,5,6,7])\n",
    "print(arr[1:5:2])"
   ]
  },
  {
   "cell_type": "raw",
   "id": "3ddfedec",
   "metadata": {},
   "source": [
    "return every other elements from the entire array"
   ]
  },
  {
   "cell_type": "code",
   "execution_count": 17,
   "id": "6a6576b1",
   "metadata": {},
   "outputs": [
    {
     "name": "stdout",
     "output_type": "stream",
     "text": [
      "[1 4 7]\n"
     ]
    }
   ],
   "source": [
    "arr =np.array([1,2,3,4,5,6,7])\n",
    "print(arr[::3])"
   ]
  },
  {
   "cell_type": "markdown",
   "id": "08e4bff8",
   "metadata": {},
   "source": [
    "# SLICING 2D ARRAY"
   ]
  },
  {
   "cell_type": "raw",
   "id": "4a41ce99",
   "metadata": {},
   "source": [
    "from the second elements,slice elements from index 1 to index 4(not included)"
   ]
  },
  {
   "cell_type": "code",
   "execution_count": 21,
   "id": "33bf0d3d",
   "metadata": {},
   "outputs": [
    {
     "name": "stdout",
     "output_type": "stream",
     "text": [
      "[7 8 9]\n",
      "[3]\n"
     ]
    }
   ],
   "source": [
    "arr=np.array([[1,2,3,4,5],[6,7,8,9,10]])\n",
    "print(arr[1,1:4])\n",
    "print(arr[0,2:3])"
   ]
  },
  {
   "cell_type": "raw",
   "id": "fe487af1",
   "metadata": {},
   "source": [
    "from both array,return index 2:"
   ]
  },
  {
   "cell_type": "code",
   "execution_count": 18,
   "id": "26e9a339",
   "metadata": {},
   "outputs": [
    {
     "name": "stdout",
     "output_type": "stream",
     "text": [
      "[3 8]\n"
     ]
    }
   ],
   "source": [
    "arr=np.array([[1,2,3,4,5],[6,7,8,9,10]])\n",
    "print(arr[0:2,2])"
   ]
  },
  {
   "cell_type": "raw",
   "id": "8424a71f",
   "metadata": {},
   "source": [
    "from both array,slice index 1 to index 4(not included),this will return 2D array"
   ]
  },
  {
   "cell_type": "code",
   "execution_count": 19,
   "id": "4f022256",
   "metadata": {},
   "outputs": [
    {
     "name": "stdout",
     "output_type": "stream",
     "text": [
      "[[2 3 4]\n",
      " [7 8 9]]\n"
     ]
    }
   ],
   "source": [
    "arr=np.array([[1,2,3,4,5],[6,7,8,9,10]])\n",
    "print(arr[0:2,1:4])"
   ]
  },
  {
   "cell_type": "code",
   "execution_count": null,
   "id": "d2ee3623",
   "metadata": {},
   "outputs": [],
   "source": []
  }
 ],
 "metadata": {
  "kernelspec": {
   "display_name": "Python 3 (ipykernel)",
   "language": "python",
   "name": "python3"
  },
  "language_info": {
   "codemirror_mode": {
    "name": "ipython",
    "version": 3
   },
   "file_extension": ".py",
   "mimetype": "text/x-python",
   "name": "python",
   "nbconvert_exporter": "python",
   "pygments_lexer": "ipython3",
   "version": "3.9.12"
  }
 },
 "nbformat": 4,
 "nbformat_minor": 5
}
